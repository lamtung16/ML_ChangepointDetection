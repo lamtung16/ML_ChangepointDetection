{
 "cells": [
  {
   "cell_type": "code",
   "execution_count": 9,
   "metadata": {},
   "outputs": [],
   "source": [
    "import pandas as pd\n",
    "from utility_functions import get_acc, add_row_to_csv"
   ]
  },
  {
   "cell_type": "code",
   "execution_count": 10,
   "metadata": {},
   "outputs": [],
   "source": [
    "dataset = 'detailed'"
   ]
  },
  {
   "cell_type": "code",
   "execution_count": 11,
   "metadata": {},
   "outputs": [],
   "source": [
    "cv_df = pd.read_csv(f\"model/mlp/report_{dataset}.csv\")\n",
    "evaluation_df = pd.read_csv('training_data/' + dataset + '/evaluation.csv')\n",
    "fold_df = pd.read_csv('training_data/' + dataset + '/folds.csv')"
   ]
  },
  {
   "cell_type": "code",
   "execution_count": 12,
   "metadata": {},
   "outputs": [],
   "source": [
    "chosen_row = cv_df.loc[cv_df['val_loss'].idxmin()]\n",
    "n_layer = chosen_row['num_layers']\n",
    "layer_size = chosen_row['layer_size']\n",
    "pred_df = pd.read_csv(f'model/mlp/predictions/{dataset}.{n_layer}layers_{layer_size}neurons.csv')\n",
    "pred_df.fillna(0, inplace=True)\n",
    "eval_df = evaluation_df[evaluation_df['sequenceID'].isin(fold_df[fold_df['fold'] == 'long']['sequenceID'])]\n",
    "acc = get_acc(eval_df, pred_df)\n",
    "add_row_to_csv('acc_rate_csvs/' + dataset + '.csv', ['method', 'acc'], ['mlp', acc])"
   ]
  }
 ],
 "metadata": {
  "kernelspec": {
   "display_name": "Python 3",
   "language": "python",
   "name": "python3"
  },
  "language_info": {
   "codemirror_mode": {
    "name": "ipython",
    "version": 3
   },
   "file_extension": ".py",
   "mimetype": "text/x-python",
   "name": "python",
   "nbconvert_exporter": "python",
   "pygments_lexer": "ipython3",
   "version": "3.10.11"
  }
 },
 "nbformat": 4,
 "nbformat_minor": 2
}
