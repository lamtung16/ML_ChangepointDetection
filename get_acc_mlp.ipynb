{
 "cells": [
  {
   "cell_type": "code",
   "execution_count": 1,
   "metadata": {},
   "outputs": [],
   "source": [
    "import pandas as pd\n",
    "from utility_functions import get_acc, add_row_to_csv"
   ]
  },
  {
   "cell_type": "code",
   "execution_count": 2,
   "metadata": {},
   "outputs": [],
   "source": [
    "dataset = 'systematic'"
   ]
  },
  {
   "cell_type": "code",
   "execution_count": 3,
   "metadata": {},
   "outputs": [],
   "source": [
    "cv_df = pd.read_csv(f\"model/mlp/report_{dataset}.csv\")\n",
    "evaluation_df = pd.read_csv('training_data/' + dataset + '/evaluation.csv')\n",
    "fold_df = pd.read_csv('training_data/' + dataset + '/folds.csv')"
   ]
  },
  {
   "cell_type": "code",
   "execution_count": 4,
   "metadata": {},
   "outputs": [],
   "source": [
    "for test_fold in sorted(fold_df['fold'].unique()):\n",
    "    df_fold = cv_df[cv_df['test_fold'] == test_fold]\n",
    "    \n",
    "    eval_df = evaluation_df[evaluation_df['sequenceID'].isin(fold_df[fold_df['fold'] == test_fold]['sequenceID'])]\n",
    "    chosen_row = df_fold.loc[df_fold['val_loss'].idxmin()]\n",
    "    n_layer = chosen_row['num_layers']\n",
    "    layer_size = chosen_row['layer_size']\n",
    "    pred_df = pd.read_csv(f'model/mlp/predictions_all/{dataset}.{n_layer}layers_{layer_size}neurons_{test_fold}.csv')\n",
    "    pred_df.fillna(0, inplace=True)\n",
    "    acc = get_acc(eval_df, pred_df)\n",
    "    add_row_to_csv('acc_rate_csvs/' + dataset + '.csv', ['method', 'fold', 'acc'], ['mlp', test_fold, acc])"
   ]
  }
 ],
 "metadata": {
  "kernelspec": {
   "display_name": "Python 3",
   "language": "python",
   "name": "python3"
  },
  "language_info": {
   "codemirror_mode": {
    "name": "ipython",
    "version": 3
   },
   "file_extension": ".py",
   "mimetype": "text/x-python",
   "name": "python",
   "nbconvert_exporter": "python",
   "pygments_lexer": "ipython3",
   "version": "3.10.11"
  }
 },
 "nbformat": 4,
 "nbformat_minor": 2
}
