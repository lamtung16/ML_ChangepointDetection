{
 "cells": [
  {
   "cell_type": "code",
   "execution_count": 1,
   "metadata": {},
   "outputs": [],
   "source": [
    "import numpy as np\n",
    "import pandas as pd\n",
    "import gzip\n",
    "import csv\n",
    "import os\n",
    "\n",
    "np.set_printoptions(precision=2)\n",
    "np.random.seed(123)"
   ]
  },
  {
   "cell_type": "code",
   "execution_count": 2,
   "metadata": {},
   "outputs": [],
   "source": [
    "# generate a dictionary of data grouped by sequenceID\n",
    "def gen_data_dict(file_path):\n",
    "    with gzip.open(file_path, 'rt') as file:\n",
    "        df = pd.read_csv(file)\n",
    "\n",
    "    _dict = tuple(df.groupby('sequenceID'))\n",
    "    return _dict\n",
    "\n",
    "# test\n",
    "seqs   = gen_data_dict('sequence_label_data/signals.gz')\n",
    "labels = gen_data_dict('sequence_label_data/labels.gz')"
   ]
  },
  {
   "cell_type": "code",
   "execution_count": 3,
   "metadata": {},
   "outputs": [
    {
     "name": "stdout",
     "output_type": "stream",
     "text": [
      "sequence:     [0.   0.39 0.13 0.26 0.52]\n",
      "neg start 1:  []\n",
      "neg end 1     []\n",
      "pos start 1:  [ 775  876  890  983 1023 1136]\n",
      "pos end 1:    [ 818  888  906 1015 1046 1151]\n",
      "neg start 2:  [1061 1152]\n",
      "neg end 2     [1089 1234]\n",
      "pos start 2:  [ 834  925 1115 1278]\n",
      "pos end 2:    [ 866  962 1134 1404]\n"
     ]
    }
   ],
   "source": [
    "def get_data(i, seqs, labels):\n",
    "    # sequence\n",
    "    sequence = seqs[i][1]['logratio'].to_numpy()\n",
    "    sequence = np.append([0], sequence)\n",
    "\n",
    "    # labels\n",
    "    lab_df = labels[i][1]\n",
    "\n",
    "    # get label sets\n",
    "    lab_df_1, lab_df_2 = lab_df[lab_df['fold'] == 1], lab_df[lab_df['fold'] == 2]\n",
    "\n",
    "    pos_lab_df_1, pos_lab_df_2 = lab_df_1[lab_df_1['changes'] == 1], lab_df_2[lab_df_2['changes'] == 1]\n",
    "    neg_lab_df_1, neg_lab_df_2 = lab_df_1[lab_df_1['changes'] == 0], lab_df_2[lab_df_2['changes'] == 0]\n",
    "\n",
    "    neg_start_1, neg_end_1 = neg_lab_df_1['start'].to_numpy(), neg_lab_df_1['end'].to_numpy()\n",
    "    pos_start_1, pos_end_1 = pos_lab_df_1['start'].to_numpy(), pos_lab_df_1['end'].to_numpy()\n",
    "    neg_start_2, neg_end_2 = neg_lab_df_2['start'].to_numpy(), neg_lab_df_2['end'].to_numpy()\n",
    "    pos_start_2, pos_end_2 = pos_lab_df_2['start'].to_numpy(), pos_lab_df_2['end'].to_numpy()\n",
    "\n",
    "    return sequence, neg_start_1, neg_end_1, pos_start_1, pos_end_1, neg_start_2, neg_end_2, pos_start_2, pos_end_2\n",
    "\n",
    "# test\n",
    "seq_id = 186\n",
    "sequence, neg_start_1, neg_end_1, pos_start_1, pos_end_1, neg_start_2, neg_end_2, pos_start_2, pos_end_2 = get_data(seq_id, seqs, labels)\n",
    "print(\"sequence:    \", sequence[0:5])\n",
    "print(\"neg start 1: \", neg_start_1)\n",
    "print(\"neg end 1    \", neg_end_1)\n",
    "print(\"pos start 1: \", pos_start_1)\n",
    "print(\"pos end 1:   \", pos_end_1)\n",
    "print(\"neg start 2: \", neg_start_2)\n",
    "print(\"neg end 2    \", neg_end_2)\n",
    "print(\"pos start 2: \", pos_start_2)\n",
    "print(\"pos end 2:   \", pos_end_2)"
   ]
  },
  {
   "cell_type": "code",
   "execution_count": 4,
   "metadata": {},
   "outputs": [
    {
     "name": "stdout",
     "output_type": "stream",
     "text": [
      "sequence:   [0.   4.78 5.2  5.06 4.7  4.88 2.33 1.51 8.   2.25 1.83]\n",
      "neg start:  [2, 7]\n",
      "neg end     [3, 9]\n",
      "pos start:  [4]\n",
      "pos end:    [6]\n"
     ]
    }
   ],
   "source": [
    "# generate toy data: sequence, labels\n",
    "def gen_toy_data():\n",
    "\n",
    "    # Generate a sequence with 10 numbers\n",
    "    sequence_length = 10\n",
    "    sequence = np.zeros(sequence_length + 1)\n",
    "\n",
    "    means = [5, 2]                # Define the means for the 4 segments\n",
    "    segment_lengths = [5, 5]      # Define the lengths of the segments\n",
    "\n",
    "    # Populate the sequence with segments having different means\n",
    "    start_index = 1\n",
    "    for mean, length in zip(means, segment_lengths):\n",
    "        end_index = start_index + length\n",
    "        sequence[start_index:end_index] = np.random.normal(loc=mean, scale=0.2, size=length)\n",
    "        start_index = end_index\n",
    "\n",
    "    # outlier\n",
    "    sequence[8] = 8\n",
    "\n",
    "    # Labels\n",
    "    neg_start = [2, 7]      # there is no changepoint at point 2, 7, and 8\n",
    "    neg_end   = [3, 9]      #\n",
    "    pos_start = [4]         # there can be exactly one changepoint at 4 or 5\n",
    "    pos_end   = [6]         #\n",
    "\n",
    "    return sequence, neg_start, neg_end, pos_start, pos_end\n",
    "\n",
    "# test\n",
    "toy_sequence, neg_start, neg_end, pos_start, pos_end = gen_toy_data()\n",
    "print(\"sequence:  \", toy_sequence)\n",
    "print(\"neg start: \", neg_start)\n",
    "print(\"neg end    \", neg_end)\n",
    "print(\"pos start: \", pos_start)\n",
    "print(\"pos end:   \", pos_end)"
   ]
  },
  {
   "cell_type": "code",
   "execution_count": 5,
   "metadata": {},
   "outputs": [
    {
     "name": "stdout",
     "output_type": "stream",
     "text": [
      "cumsum vector: [ 0.    0.    4.78  9.98 15.04 19.74 24.62 26.95 28.47 36.47 38.72 40.55]\n",
      "cumsum square: [  0.     0.    22.88  49.91  75.48  97.56 121.41 126.84 129.14 193.14\n",
      " 198.22 201.55]\n"
     ]
    }
   ],
   "source": [
    "# Get cumulative sum vectors\n",
    "def get_cumsum(sequence):\n",
    "    y = np.cumsum(sequence)\n",
    "    z = np.cumsum(np.square(sequence))\n",
    "\n",
    "    y = np.append([0], y)\n",
    "    z = np.append([0], z)\n",
    "\n",
    "    return y, z\n",
    "\n",
    "# test\n",
    "y, z = get_cumsum(toy_sequence)\n",
    "print(\"cumsum vector:\", y)\n",
    "print(\"cumsum square:\", z)"
   ]
  },
  {
   "cell_type": "code",
   "execution_count": 6,
   "metadata": {},
   "outputs": [
    {
     "name": "stdout",
     "output_type": "stream",
     "text": [
      "sequence    :  [0.   4.78 5.2  5.06 4.7  4.88 2.33 1.51 8.   2.25 1.83]\n",
      "from 1 to 1 :  0.0\n",
      "from 1 to 2 :  0.08677578448781986\n",
      "from 5 to 6 :  3.2614392081723373\n",
      "from 1 to 10:  37.14793999709528\n"
     ]
    }
   ],
   "source": [
    "# function to create loss value from 'start' to 'end' given cumulative sum vector y (data) and z (square)\n",
    "def L(start, end, y, z):\n",
    "    _y = y[end+1] - y[start]\n",
    "    _z = z[end+1] - z[start]\n",
    "    return _z - np.square(_y)/(end-start+1)\n",
    "\n",
    "# test\n",
    "y, z = get_cumsum(toy_sequence)\n",
    "print(\"sequence    : \", toy_sequence)\n",
    "print(\"from 1 to 1 : \", L(1, 1,  y, z))\n",
    "print(\"from 1 to 2 : \", L(1, 2,  y, z))\n",
    "print(\"from 5 to 6 : \", L(5, 6,  y, z))\n",
    "print(\"from 1 to 10: \", L(1, 10, y, z))"
   ]
  },
  {
   "cell_type": "code",
   "execution_count": 7,
   "metadata": {},
   "outputs": [
    {
     "name": "stdout",
     "output_type": "stream",
     "text": [
      "[ 0  1  2  3  4  5  6  7  8  9 10]\n",
      "[ 0  5 10]\n"
     ]
    }
   ],
   "source": [
    "# function to get the list of changepoint from vector tau_star\n",
    "def trace_back(tau_star):\n",
    "    tau = tau_star[-1]\n",
    "    chpnt = np.array([len(tau_star)], dtype=int)\n",
    "    while tau > 0:\n",
    "        chpnt = np.append(tau, chpnt)\n",
    "        tau = tau_star[tau-1]\n",
    "    return np.append(0, chpnt)\n",
    "\n",
    "# test\n",
    "print(trace_back(np.array([0, 1, 2, 3, 4, 5, 6, 7, 8, 9])))\n",
    "print(trace_back(np.array([0, 0, 0, 0, 0, 5, 5, 5, 5, 5])))"
   ]
  },
  {
   "cell_type": "code",
   "execution_count": null,
   "metadata": {},
   "outputs": [],
   "source": [
    "# function to get the mean vector of the sequence from the list of changepoint\n",
    "def get_mean(y, chpnt):\n",
    "    mean = np.zeros(len(y)-1)\n",
    "    for i in range(len(chpnt)-1):\n",
    "        mean[chpnt[i]+1:chpnt[i+1]+1] = (y[chpnt[i+1]+1] - y[chpnt[i]+1])/(chpnt[i+1] - chpnt[i])\n",
    "    return mean"
   ]
  },
  {
   "cell_type": "code",
   "execution_count": 8,
   "metadata": {},
   "outputs": [
    {
     "name": "stdout",
     "output_type": "stream",
     "text": [
      "sequence:   [0.   4.86 4.98 5.3  4.87 4.91 1.91 2.44 8.   2.2  2.08]\n",
      "neg start:  [2, 7]\n",
      "neg end     [3, 9]\n",
      "pos start:  [4]\n",
      "pos end:    [6]\n",
      "T: [[], [0], [0, 1], [0, 1], [0, 1, 3], [0, 1, 3], [4, 5], [4, 5, 6], [4, 5, 6], [4, 5, 6], [4, 5, 6, 9]]\n"
     ]
    }
   ],
   "source": [
    "# function to get T - set of possible changepoint wrt each position\n",
    "def get_T(sequence_length, neg_start, neg_end, pos_start, pos_end):\n",
    "    T = []\n",
    "    T.append([])\n",
    "\n",
    "    for i in range(1, sequence_length+1):\n",
    "        tag = 'otherwise'\n",
    "        for s, e in zip(neg_start, neg_end):\n",
    "            if(s < i <= e):\n",
    "                tag = 'inside region'\n",
    "\n",
    "        for s, e in zip(pos_start, pos_end):\n",
    "            if(s < i < e):\n",
    "                tag = 'inside region'\n",
    "            elif(i == e):\n",
    "                tag = 'out positive'\n",
    "                s_pos = s\n",
    "                e_pos = e\n",
    "\n",
    "        match tag:\n",
    "            case \"inside region\":\n",
    "                T.append(T[i-1])\n",
    "            case \"out positive\":\n",
    "                T.append(list(range(s_pos, e_pos)))\n",
    "            case \"otherwise\":\n",
    "                T.append(T[i-1]+[i-1])\n",
    "\n",
    "    return T\n",
    "\n",
    "# test\n",
    "toy_sequence, neg_start, neg_end, pos_start, pos_end = gen_toy_data()\n",
    "print(\"sequence:  \", toy_sequence)\n",
    "print(\"neg start: \", neg_start)\n",
    "print(\"neg end    \", neg_end)\n",
    "print(\"pos start: \", pos_start)\n",
    "print(\"pos end:   \", pos_end)\n",
    "\n",
    "T = get_T(len(toy_sequence) - 1, neg_start, neg_end, pos_start, pos_end)\n",
    "print(\"T:\", T)"
   ]
  },
  {
   "cell_type": "code",
   "execution_count": 9,
   "metadata": {},
   "outputs": [
    {
     "name": "stdout",
     "output_type": "stream",
     "text": [
      "neg start:  [2, 7]\n",
      "neg end     [3, 9]\n",
      "pos start:  [4]\n",
      "pos end:    [6]\n",
      "[0, 3, 5, 6, 9, 10]    : (0, 0)\n",
      "[0, 1, 2, 6, 8, 9, 10] : (2, 1)\n"
     ]
    }
   ],
   "source": [
    "# counting errors\n",
    "def count_items_between(lst, a, b):\n",
    "    count = sum(1 for item in lst if a <= item < b)\n",
    "    return count\n",
    "\n",
    "def error_count(chpnt, neg_start, neg_end, pos_start, pos_end):\n",
    "    fp_count, fn_count = 0, 0                           # initizlize false positive and false negative\n",
    "\n",
    "    for s, e in zip(neg_start, neg_end):\n",
    "        if(count_items_between(chpnt, s, e) > 0):       # number of change is not 0 in negative labels\n",
    "            fp_count += 1\n",
    "\n",
    "    for s, e in zip(pos_start, pos_end):\n",
    "        if(count_items_between(chpnt, s, e) > 1):       # number of change is greater than 1 in positive labels\n",
    "            fp_count += 1\n",
    "        elif(count_items_between(chpnt, s, e) == 0):    # number of change is 0 in positive labels\n",
    "            fn_count += 1\n",
    "\n",
    "    return fp_count, fn_count\n",
    "\n",
    "# test\n",
    "toy_sequence, neg_start, neg_end, pos_start, pos_end = gen_toy_data()\n",
    "print(\"neg start: \", neg_start)\n",
    "print(\"neg end    \", neg_end)\n",
    "print(\"pos start: \", pos_start)\n",
    "print(\"pos end:   \", pos_end)\n",
    "\n",
    "chpnt = [0, 3, 5, 6, 9, 10]\n",
    "print(chpnt, \"   :\", error_count(chpnt, neg_start, neg_end, pos_start, pos_end))\n",
    "\n",
    "chpnt = [0, 1, 2, 6, 8, 9, 10]\n",
    "print(chpnt, \":\",error_count(chpnt, neg_start, neg_end, pos_start, pos_end))"
   ]
  },
  {
   "cell_type": "code",
   "execution_count": null,
   "metadata": {},
   "outputs": [],
   "source": [
    "# function to plot sequence with labels and changepoints wrt lambda (if provided)\n",
    "from plotnine import *\n",
    "\n",
    "def plot_sequence(sequence, neg_start, neg_end, pos_start, pos_end, algorithm='LOPART', chpnt=None, mean=None, lda=None):\n",
    "    sequence = sequence[1:]\n",
    "\n",
    "    # Prepare data for plotnine\n",
    "    data = pd.DataFrame({'point': range(1, len(sequence)+1), 'value': sequence})\n",
    "\n",
    "    # Create the plot\n",
    "    plot = (\n",
    "        ggplot(data, aes(x='point', y='value')) +\n",
    "        theme_minimal() +\n",
    "        labs(x='point', y='value') +\n",
    "        xlim(0, len(sequence) + 1) +\n",
    "        ylim(np.min(sequence) - 1, np.max(sequence) + 1)\n",
    "    )\n",
    "\n",
    "    # Add negative regions\n",
    "    for start, end in zip(neg_start, neg_end):\n",
    "        plot += geom_rect(aes(xmin=start, xmax=end, ymin=np.min(sequence) - 1, ymax=np.max(sequence) + 1),\n",
    "                          fill='pink', alpha=0.2, color='black', size=0)\n",
    "\n",
    "    # Add positive regions\n",
    "    for start, end in zip(pos_start, pos_end):\n",
    "        plot += geom_rect(aes(xmin=start, xmax=end, ymin=np.min(sequence) - 1, ymax=np.max(sequence) + 1),\n",
    "                          fill='red', alpha=0.2, color='black', size=0)\n",
    "\n",
    "    # Add data points\n",
    "    plot += geom_point(color='blue', size=2, alpha=0.7)\n",
    "\n",
    "    # Add mean line\n",
    "    if mean is not None:\n",
    "        mean = mean[1:]\n",
    "        for i in range(len(chpnt) - 1):\n",
    "            plot += geom_segment(aes(x=chpnt[i]+0.5, y=mean[chpnt[i]], xend=chpnt[i+1]+0.5, yend=mean[chpnt[i]]),\n",
    "                            color='green', size=1, alpha=0.7)\n",
    "    # Add changepoint\n",
    "    if chpnt is not None:\n",
    "        for i in range(1, len(chpnt)-1):\n",
    "            plot += geom_vline(xintercept=chpnt[i]+0.5, linetype='dashed', color='deepskyblue', alpha=0.8)\n",
    "\n",
    "    # Set the figure title\n",
    "    if lda is not None:\n",
    "        plot += ggtitle(algorithm + ' -- lambda = ' + str(lda) + ' -- errors = ' + str(sum(error_count(chpnt, neg_start, neg_end, pos_start, pos_end))))\n",
    "\n",
    "    # Center the title horizontally\n",
    "        plot += theme(plot_title=element_text(hjust=0.5))\n",
    "\n",
    "    # Add legend\n",
    "    plot += labs(color=\"Legend\")  # Legend title\n",
    "    plot += guides(color=guide_legend(title=\"Legend\"))  # Legend label\n",
    "\n",
    "    # return the plot\n",
    "    return plot"
   ]
  },
  {
   "cell_type": "code",
   "execution_count": null,
   "metadata": {},
   "outputs": [],
   "source": [
    "# function to write a row into a csv file\n",
    "def write_to_csv(filename, header, row):\n",
    "    # Check if the file exists\n",
    "    file_exists = os.path.isfile(filename)\n",
    "\n",
    "    # Open the CSV file in write mode\n",
    "    with open(filename, 'a', newline='') as csvfile:\n",
    "        # Create a CSV writer object\n",
    "        csv_writer = csv.writer(csvfile)\n",
    "\n",
    "        # If the file is newly created, write the header row\n",
    "        if not file_exists:\n",
    "            csv_writer.writerow(header)\n",
    "\n",
    "        # Write the new row\n",
    "        csv_writer.writerow(row)"
   ]
  },
  {
   "cell_type": "code",
   "execution_count": 10,
   "metadata": {},
   "outputs": [
    {
     "name": "stdout",
     "output_type": "stream",
     "text": [
      "lambda =    0: [ 0  1  2  3  4  5  6  7  8  9 10]\n",
      "lambda =   10: [ 0  5  7  8 10]\n",
      "lambda =  100: [ 0 10]\n"
     ]
    }
   ],
   "source": [
    "# OPART given lambda, sequence, y and z\n",
    "def opart(lda, sequence, y, z):\n",
    "    sequence_length = len(sequence)-1\n",
    "\n",
    "    # Set up\n",
    "    C = np.zeros(sequence_length + 1)\n",
    "    C[0] = -lda\n",
    "\n",
    "    # Get tau_star\n",
    "    tau_star = np.zeros(sequence_length+1, dtype=int)\n",
    "    for t in range(1, sequence_length+1):\n",
    "\n",
    "        # get set of possible value\n",
    "        V = C[:t] + lda + L(1 + np.arange(t), t, y, z)\n",
    "\n",
    "        # get optimal tau from set V\n",
    "        last_chpnt = np.argmin(V)\n",
    "\n",
    "        # update C_i\n",
    "        C[t] = V[last_chpnt]\n",
    "\n",
    "        # update tau_star\n",
    "        tau_star[t] = last_chpnt\n",
    "\n",
    "    # get set of changepoints\n",
    "    set_of_chpnt = trace_back(tau_star[1:])\n",
    "\n",
    "    return set_of_chpnt\n",
    "\n",
    "# test\n",
    "toy_sequence, neg_start, neg_end, pos_start, pos_end = gen_toy_data()\n",
    "sequence_length = len(toy_sequence) - 1\n",
    "y, z = get_cumsum(toy_sequence)\n",
    "for lda in [0, 10, 100]:\n",
    "    print(\"lambda = %4d: %s\" % (lda, opart(lda, toy_sequence, y, z)))"
   ]
  },
  {
   "cell_type": "code",
   "execution_count": 11,
   "metadata": {},
   "outputs": [],
   "source": [
    "# lopart dynamic algorithm return set of changepoints given lambda, T (set of possible changepoints), sequence, and cumsum vectors\n",
    "def lopart(lda, T, sequence, y, z):\n",
    "    sequence_length = len(sequence)-1\n",
    "\n",
    "    # Set up\n",
    "    C = np.zeros(sequence_length + 1)\n",
    "    C[0] = -lda\n",
    "\n",
    "    # Get tau_star\n",
    "    tau_star = np.zeros(sequence_length+1, dtype=int)\n",
    "    for t in range(1, sequence_length+1):\n",
    "\n",
    "        # get set of possible changepoint\n",
    "        po_chpnt = T[t]\n",
    "\n",
    "        # get set of possible value\n",
    "        V = np.inf * np.ones(sequence_length+1)\n",
    "        for j in po_chpnt:\n",
    "            V[j] = C[j] + lda + L(j+1, t, y, z)\n",
    "\n",
    "        # get optimal tau from set V\n",
    "        last_chpnt = np.argmin(V)\n",
    "\n",
    "        # update C_i\n",
    "        C[t] = V[last_chpnt]\n",
    "\n",
    "        # update tau_star\n",
    "        tau_star[t] = last_chpnt\n",
    "\n",
    "    # get set of changepoints\n",
    "    set_of_chpnt = trace_back(tau_star[1:])\n",
    "\n",
    "    return set_of_chpnt"
   ]
  }
 ],
 "metadata": {
  "kernelspec": {
   "display_name": "Python 3",
   "language": "python",
   "name": "python3"
  },
  "language_info": {
   "codemirror_mode": {
    "name": "ipython",
    "version": 3
   },
   "file_extension": ".py",
   "mimetype": "text/x-python",
   "name": "python",
   "nbconvert_exporter": "python",
   "pygments_lexer": "ipython3",
   "version": "3.11.7"
  }
 },
 "nbformat": 4,
 "nbformat_minor": 2
}
