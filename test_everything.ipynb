{
 "cells": [
  {
   "cell_type": "code",
   "execution_count": 1,
   "metadata": {},
   "outputs": [],
   "source": [
    "import torch\n",
    "import torch.nn as nn"
   ]
  },
  {
   "cell_type": "code",
   "execution_count": 50,
   "metadata": {},
   "outputs": [
    {
     "name": "stdout",
     "output_type": "stream",
     "text": [
      "tensor([[-0.3127,  0.5798,  0.0979],\n",
      "        [-0.4454, -0.5373, -0.1473]])\n",
      "tensor([[-0.4811,  0.4856],\n",
      "        [-0.6226,  0.1770]])\n",
      "tensor([[-0.4968,  0.0646],\n",
      "        [ 0.6541, -0.1710]])\n",
      "tensor([[-0.4524, -0.5419],\n",
      "        [ 0.6132,  0.0794]])\n"
     ]
    }
   ],
   "source": [
    "rnn = nn.RNN(input_size=3, hidden_size=2, num_layers=2, nonlinearity='relu', bias=False, batch_first=False)\n",
    "print(rnn.weight_ih_l0.data)\n",
    "print(rnn.weight_ih_l1.data)\n",
    "print(rnn.weight_hh_l0.data)\n",
    "print(rnn.weight_hh_l1.data)"
   ]
  },
  {
   "cell_type": "code",
   "execution_count": 61,
   "metadata": {},
   "outputs": [
    {
     "name": "stdout",
     "output_type": "stream",
     "text": [
      "Number of parameters in the RNN: 14\n",
      "\n",
      "- state weight:\n",
      " [Parameter containing:\n",
      "tensor([[1.],\n",
      "        [2.]], requires_grad=True), Parameter containing:\n",
      "tensor([[1., 2.],\n",
      "        [1., 1.]], requires_grad=True)]\n",
      "\n",
      "- hidden features weight:\n",
      " [Parameter containing:\n",
      "tensor([[1., 1.],\n",
      "        [2., 1.]], requires_grad=True), Parameter containing:\n",
      "tensor([[1., 1.],\n",
      "        [1., 1.]], requires_grad=True)]\n",
      "\n",
      "- output:\n",
      " tensor([[  3.,   4.],\n",
      "        [ 21.,  28.],\n",
      "        [ 93., 117.],\n",
      "        [330., 398.]], grad_fn=<SqueezeBackward1>)\n",
      "\n",
      "- last hidden:\n",
      " tensor([[ 68.,  52.],\n",
      "        [330., 398.]], grad_fn=<SqueezeBackward1>)\n"
     ]
    }
   ],
   "source": [
    "# Define your RNN\n",
    "rnn = nn.RNN(input_size=1, hidden_size=2, num_layers=2, nonlinearity='relu', bias=False, batch_first=False)\n",
    "total_params = sum(p.numel() for p in rnn.parameters())\n",
    "print(f\"Number of parameters in the RNN: {total_params}\\n\")\n",
    "\n",
    "# Set the weights for the first layer\n",
    "rnn.weight_ih_l0.data = torch.tensor([[1.0],[2.0]])\n",
    "rnn.weight_ih_l1.data = torch.tensor([[1.0, 1.0], [2.0, 1.0]])\n",
    "\n",
    "rnn.weight_hh_l0.data = torch.tensor([[1.0, 2.0], [1.0, 1.0]])\n",
    "rnn.weight_hh_l1.data = torch.tensor([[1.0, 1.0], [1.0, 1.0]])\n",
    "\n",
    "input = torch.arange(1, 5).view(4, 1).float()\n",
    "output, hn = rnn(input)\n",
    "\n",
    "# print\n",
    "print(\"- state weight:\\n\", rnn.all_weights[0])\n",
    "print()\n",
    "print(\"- hidden features weight:\\n\", rnn.all_weights[1])\n",
    "print()\n",
    "print(\"- output:\\n\", output)\n",
    "print()\n",
    "print(\"- last hidden:\\n\", hn)"
   ]
  }
 ],
 "metadata": {
  "kernelspec": {
   "display_name": "Python 3",
   "language": "python",
   "name": "python3"
  },
  "language_info": {
   "codemirror_mode": {
    "name": "ipython",
    "version": 3
   },
   "file_extension": ".py",
   "mimetype": "text/x-python",
   "name": "python",
   "nbconvert_exporter": "python",
   "pygments_lexer": "ipython3",
   "version": "3.11.7"
  }
 },
 "nbformat": 4,
 "nbformat_minor": 2
}
