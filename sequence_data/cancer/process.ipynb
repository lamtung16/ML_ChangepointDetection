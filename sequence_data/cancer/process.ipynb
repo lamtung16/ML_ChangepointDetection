{
 "cells": [
  {
   "cell_type": "code",
   "execution_count": 2,
   "metadata": {},
   "outputs": [],
   "source": [
    "import pandas as pd"
   ]
  },
  {
   "cell_type": "code",
   "execution_count": 3,
   "metadata": {},
   "outputs": [],
   "source": [
    "df = pd.read_csv(\"profiles.csv\")"
   ]
  },
  {
   "cell_type": "code",
   "execution_count": 5,
   "metadata": {},
   "outputs": [],
   "source": [
    "# Assuming df is the original DataFrame\n",
    "# Step 1: Modify the original DataFrame by appending \".F1\" to 'sequenceID'\n",
    "df['sequenceID'] = df['sequenceID'] + '.F1'\n",
    "\n",
    "# Step 2: Create a copy of the DataFrame\n",
    "df_copy = df.copy()\n",
    "\n",
    "# Step 3: Modify the copied DataFrame by appending \".F2\" to 'sequenceID'\n",
    "df_copy['sequenceID'] = df_copy['sequenceID'].str.replace('.F1', '.F2')\n",
    "\n",
    "# Step 4: Append the modified copy to the original DataFrame\n",
    "df_final = pd.concat([df, df_copy], ignore_index=True)"
   ]
  },
  {
   "cell_type": "code",
   "execution_count": 9,
   "metadata": {},
   "outputs": [],
   "source": [
    "df_final.to_csv(\"profiles.csv\", index=False)"
   ]
  }
 ],
 "metadata": {
  "kernelspec": {
   "display_name": "Python 3",
   "language": "python",
   "name": "python3"
  },
  "language_info": {
   "codemirror_mode": {
    "name": "ipython",
    "version": 3
   },
   "file_extension": ".py",
   "mimetype": "text/x-python",
   "name": "python",
   "nbconvert_exporter": "python",
   "pygments_lexer": "ipython3",
   "version": "3.10.11"
  }
 },
 "nbformat": 4,
 "nbformat_minor": 2
}
