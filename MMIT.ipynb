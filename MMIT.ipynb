{
 "cells": [
  {
   "cell_type": "code",
   "execution_count": 1,
   "metadata": {},
   "outputs": [],
   "source": [
    "import numpy as np\n",
    "import pandas as pd\n",
    "from utility_functions import get_acc, add_row_to_csv"
   ]
  },
  {
   "cell_type": "code",
   "execution_count": 2,
   "metadata": {},
   "outputs": [],
   "source": [
    "def get_acc_from(dataset, test_fold, n_feature):\n",
    "    evaluation_df = pd.read_csv('training_data/' + dataset + '/evaluation.csv')\n",
    "    fold_split_df = pd.read_csv('training_data/' + dataset + '/folds.csv')\n",
    "    eval_df = evaluation_df[evaluation_df['sequenceID'].isin(fold_split_df[fold_split_df['fold'] == test_fold]['sequenceID'])]\n",
    "    lldas_df = pd.read_csv('1.MMIT/predictions/.' + dataset + '.' + str(test_fold) + '.' + str(n_feature) + '.csv')\n",
    "    return get_acc(eval_df, lldas_df)"
   ]
  },
  {
   "cell_type": "code",
   "execution_count": 3,
   "metadata": {},
   "outputs": [],
   "source": [
    "for dataset in ['detailed', \"systematic\", \"epigenomic\"]:\n",
    "    for test_fold in range(1, 7):\n",
    "        for n_feature in [1, 2, 4, 117]:\n",
    "            acc = get_acc_from(dataset, test_fold, n_feature)\n",
    "            # print(dataset, test_fold, n_feature, acc)\n",
    "            add_row_to_csv('acc_rate_csvs/' + dataset + '.csv', \n",
    "                    ['method', 'fold', 'feature engineer', 'acc'],\n",
    "                    ['mmit.' + str(n_feature), test_fold, 'no', acc])"
   ]
  }
 ],
 "metadata": {
  "kernelspec": {
   "display_name": "Python 3",
   "language": "python",
   "name": "python3"
  },
  "language_info": {
   "codemirror_mode": {
    "name": "ipython",
    "version": 3
   },
   "file_extension": ".py",
   "mimetype": "text/x-python",
   "name": "python",
   "nbconvert_exporter": "python",
   "pygments_lexer": "ipython3",
   "version": "3.10.11"
  }
 },
 "nbformat": 4,
 "nbformat_minor": 2
}
