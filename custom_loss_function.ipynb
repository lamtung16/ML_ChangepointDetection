{
 "cells": [
  {
   "cell_type": "code",
   "execution_count": 1,
   "metadata": {},
   "outputs": [],
   "source": [
    "import torch\n",
    "import torch.nn as nn\n",
    "import torch.optim as optim\n",
    "import numpy as np"
   ]
  },
  {
   "cell_type": "code",
   "execution_count": 2,
   "metadata": {},
   "outputs": [
    {
     "name": "stdout",
     "output_type": "stream",
     "text": [
      "tensor(4)\n",
      "tensor(9)\n",
      "tensor(0)\n"
     ]
    }
   ],
   "source": [
    "# Custom loss function\n",
    "class SquaredHingeLoss(nn.Module):\n",
    "    def forward(self, predicted, a, b):\n",
    "        loss = torch.relu(predicted - b) + torch.relu(a - predicted)\n",
    "        return torch.sum(loss**2)\n",
    "\n",
    "# test\n",
    "squared_hinge_loss = SquaredHingeLoss()\n",
    "\n",
    "a = torch.tensor(3)\n",
    "b = torch.tensor(7)\n",
    "\n",
    "print(squared_hinge_loss(torch.tensor(9), a, b))\n",
    "print(squared_hinge_loss(torch.tensor(0), a, b))\n",
    "print(squared_hinge_loss(torch.tensor(4), a, b))"
   ]
  },
  {
   "cell_type": "code",
   "execution_count": 3,
   "metadata": {},
   "outputs": [],
   "source": [
    "# Generate random data\n",
    "np.random.seed(123)\n",
    "data = np.random.rand(100, 2)\n",
    "\n",
    "# Convert data and targets to PyTorch tensors\n",
    "data    = torch.FloatTensor(data)\n",
    "targets = torch.sort(data, dim=1).values"
   ]
  },
  {
   "cell_type": "code",
   "execution_count": 4,
   "metadata": {},
   "outputs": [],
   "source": [
    "# Define the deep learning model\n",
    "class MyModel(nn.Module):\n",
    "    def __init__(self):\n",
    "        super(MyModel, self).__init__()\n",
    "        self.fc1 = nn.Linear(2, 8)\n",
    "        self.fc2 = nn.Linear(8, 8)\n",
    "        self.fc3 = nn.Linear(8, 1)\n",
    "\n",
    "    def forward(self, x):\n",
    "        x = torch.relu(self.fc1(x))\n",
    "        x = torch.relu(self.fc2(x))\n",
    "        x = self.fc3(x)\n",
    "        return x"
   ]
  },
  {
   "cell_type": "code",
   "execution_count": 5,
   "metadata": {},
   "outputs": [
    {
     "name": "stdout",
     "output_type": "stream",
     "text": [
      "Epoch [  500/10000], Loss: 0.0266286731\n",
      "Epoch [ 1000/10000], Loss: 0.0014398557\n",
      "Epoch [ 1500/10000], Loss: 0.0004145868\n",
      "Epoch [ 2000/10000], Loss: 0.0002261468\n",
      "Epoch [ 2500/10000], Loss: 0.0001324798\n",
      "Epoch [ 3000/10000], Loss: 0.0000887863\n",
      "Epoch [ 3500/10000], Loss: 0.0000698816\n",
      "Epoch [ 4000/10000], Loss: 0.0000616904\n",
      "Epoch [ 4500/10000], Loss: 0.0000580329\n",
      "Epoch [ 5000/10000], Loss: 0.0000560276\n",
      "Epoch [ 5500/10000], Loss: 0.0000550262\n",
      "Epoch [ 6000/10000], Loss: 0.0000544564\n",
      "Epoch [ 6500/10000], Loss: 0.0000540726\n",
      "Epoch [ 7000/10000], Loss: 0.0000537681\n",
      "Epoch [ 7500/10000], Loss: 0.0000534965\n",
      "Epoch [ 8000/10000], Loss: 0.0000532436\n",
      "Epoch [ 8500/10000], Loss: 0.0000530028\n",
      "Epoch [ 9000/10000], Loss: 0.0000527701\n",
      "Epoch [ 9500/10000], Loss: 0.0000525406\n",
      "Epoch [10000/10000], Loss: 0.0000523159\n"
     ]
    }
   ],
   "source": [
    "# Instantiate the model, define custom loss function, and optimizer\n",
    "model = MyModel()  # Assuming you've defined MyModel from the previous example\n",
    "squared_hinge_loss = SquaredHingeLoss()\n",
    "optimizer = optim.SGD(model.parameters(), lr=0.001)\n",
    "\n",
    "# Training loop\n",
    "epochs = 10000\n",
    "for epoch in range(epochs):\n",
    "    # Forward pass\n",
    "    outputs = model(data)\n",
    "    \n",
    "    # Compute the custom loss\n",
    "    loss = squared_hinge_loss(outputs, targets[:, 0].view(-1, 1), targets[:, 1].view(-1, 1))\n",
    "    \n",
    "    # Backward pass and optimization\n",
    "    optimizer.zero_grad()\n",
    "    loss.backward()\n",
    "    optimizer.step()\n",
    "    \n",
    "    # Print the loss every 100 epochs\n",
    "    if (epoch + 1) % 500 == 0:\n",
    "        print(f'Epoch [{epoch + 1:5d}/{epochs}], Loss: {loss.item():.10f}')"
   ]
  },
  {
   "cell_type": "code",
   "execution_count": 6,
   "metadata": {},
   "outputs": [
    {
     "name": "stdout",
     "output_type": "stream",
     "text": [
      "Data:\n",
      " [[5.426359   0.6677444 ]\n",
      " [6.533649   9.960863  ]\n",
      " [7.693973   5.737741  ]\n",
      " [1.0263525  6.9983406 ]\n",
      " [6.6116786  0.49097133]]\n",
      "\n",
      "Predicted Targets:\n",
      "[[3.8275557]\n",
      " [5.9540677]\n",
      " [6.1914597]\n",
      " [2.1276972]\n",
      " [4.5639353]]\n",
      "\n",
      " tensor(0.3359)\n"
     ]
    }
   ],
   "source": [
    "# Test the trained model\n",
    "test_data   = 10*torch.FloatTensor(np.random.rand(5, 2))\n",
    "test_target = torch.sort(test_data, dim=1).values\n",
    "print(\"Data:\\n\", test_data.numpy())\n",
    "with torch.no_grad():\n",
    "    predicted_targets = model(test_data)\n",
    "    print(\"\\nPredicted Targets:\")\n",
    "    print(predicted_targets.numpy())\n",
    "\n",
    "print(\"\\n\", squared_hinge_loss(predicted_targets, test_target[:, 0].view(-1, 1), test_target[:, 1].view(-1, 1)))"
   ]
  }
 ],
 "metadata": {
  "kernelspec": {
   "display_name": "Python 3",
   "language": "python",
   "name": "python3"
  },
  "language_info": {
   "codemirror_mode": {
    "name": "ipython",
    "version": 3
   },
   "file_extension": ".py",
   "mimetype": "text/x-python",
   "name": "python",
   "nbconvert_exporter": "python",
   "pygments_lexer": "ipython3",
   "version": "3.11.7"
  }
 },
 "nbformat": 4,
 "nbformat_minor": 2
}
