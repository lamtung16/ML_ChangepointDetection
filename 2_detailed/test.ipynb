{
 "cells": [
  {
   "cell_type": "code",
   "execution_count": 9,
   "metadata": {},
   "outputs": [],
   "source": [
    "import sys\n",
    "sys.path.append('C:/Users/nguye/Downloads/ML_ChangepointDetection')"
   ]
  },
  {
   "cell_type": "code",
   "execution_count": 13,
   "metadata": {},
   "outputs": [],
   "source": [
    "from utility_functions import *\n",
    "from get_data import *"
   ]
  },
  {
   "cell_type": "code",
   "execution_count": 14,
   "metadata": {},
   "outputs": [
    {
     "name": "stdout",
     "output_type": "stream",
     "text": [
      "neg_start:\t [1]\n",
      "neg_end:\t [335]\n",
      "pos_start:\t [418, 453]\n",
      "pos_end:\t [448, 469]\n",
      "changepoint:\t [  0 437 460 474]\n",
      "errors (fp, fn):\t (0, 0)\n"
     ]
    }
   ],
   "source": [
    "# Test\n",
    "i = 719\n",
    "seqs   = gen_data_dict('0_sequences_labels/profiles.csv.xz')\n",
    "labels = gen_data_dict('0_sequences_labels/labels.csv.xz')\n",
    "sequence, neg_start, neg_end, pos_start, pos_end = get_data(i, seqs, labels)\n",
    "lda = 1.5\n",
    "chpnt = opart(lda, sequence)\n",
    "errors = error_count(chpnt, neg_start, neg_end, pos_start, pos_end)\n",
    "\n",
    "print(\"neg_start:\\t\", neg_start)\n",
    "print(\"neg_end:\\t\",   neg_end)\n",
    "print(\"pos_start:\\t\", pos_start)\n",
    "print(\"pos_end:\\t\",   pos_end)\n",
    "print(\"changepoint:\\t\", chpnt)\n",
    "print(\"errors (fp, fn):\\t\", errors)"
   ]
  }
 ],
 "metadata": {
  "kernelspec": {
   "display_name": "Python 3",
   "language": "python",
   "name": "python3"
  },
  "language_info": {
   "codemirror_mode": {
    "name": "ipython",
    "version": 3
   },
   "file_extension": ".py",
   "mimetype": "text/x-python",
   "name": "python",
   "nbconvert_exporter": "python",
   "pygments_lexer": "ipython3",
   "version": "3.11.7"
  }
 },
 "nbformat": 4,
 "nbformat_minor": 2
}
