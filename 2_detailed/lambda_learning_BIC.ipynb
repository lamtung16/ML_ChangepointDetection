{
 "cells": [
  {
   "cell_type": "code",
   "execution_count": 1,
   "metadata": {},
   "outputs": [],
   "source": [
    "import sys\n",
    "sys.path.append('C:/Users/tln229/Downloads/ML_ChangepointDetection')"
   ]
  },
  {
   "cell_type": "code",
   "execution_count": 2,
   "metadata": {},
   "outputs": [],
   "source": [
    "import numpy as np\n",
    "import pandas as pd\n",
    "from get_data import gen_data_dict, get_data\n",
    "from utility_functions import *"
   ]
  },
  {
   "cell_type": "code",
   "execution_count": 3,
   "metadata": {},
   "outputs": [],
   "source": [
    "seqs   = gen_data_dict('0_sequences_labels/profiles.csv.xz')\n",
    "labels = gen_data_dict('0_sequences_labels/labels.csv.xz')\n",
    "\n",
    "header = ['sequenceID', 'log_lambda', 'total_labels', 'fp', 'fn']\n",
    "rows = []\n",
    "for i in range(len(seqs)):\n",
    "    # generate data\n",
    "    sequence, neg_start, neg_end, pos_start, pos_end = get_data(i, seqs=seqs, labels=labels)\n",
    "    sequence_length = len(sequence)-1\n",
    "\n",
    "    # calculate lambda\n",
    "    lda = np.log(sequence_length)\n",
    "\n",
    "    # get total labels\n",
    "    total_labels = len(neg_start) + len(pos_start)\n",
    "\n",
    "    # run each lambda and record it into csv file\n",
    "    row = [seqs[i][0], np.log(lda), total_labels]\n",
    "\n",
    "    chpnt = opart(lda, sequence)\n",
    "    err   = error_count(chpnt, neg_start, neg_end, pos_start, pos_end)\n",
    "\n",
    "    row.append(err[0])\n",
    "    row.append(err[1])\n",
    "\n",
    "    rows.append(row)\n",
    "\n",
    "df = pd.DataFrame(rows, columns=header)"
   ]
  },
  {
   "cell_type": "code",
   "execution_count": 4,
   "metadata": {},
   "outputs": [],
   "source": [
    "df.to_csv('2_learning_record/BIC.csv', index=False)"
   ]
  },
  {
   "cell_type": "code",
   "execution_count": 12,
   "metadata": {},
   "outputs": [
    {
     "name": "stdout",
     "output_type": "stream",
     "text": [
      "0.8935137895812053\n"
     ]
    }
   ],
   "source": [
    "total_labels = df['total_labels'].sum()\n",
    "total_errors = df['fp'].sum() + df['fn'].sum()\n",
    "acc_rate = (total_labels - total_errors)/total_labels\n",
    "print(acc_rate)"
   ]
  }
 ],
 "metadata": {
  "kernelspec": {
   "display_name": "Python 3",
   "language": "python",
   "name": "python3"
  },
  "language_info": {
   "codemirror_mode": {
    "name": "ipython",
    "version": 3
   },
   "file_extension": ".py",
   "mimetype": "text/x-python",
   "name": "python",
   "nbconvert_exporter": "python",
   "pygments_lexer": "ipython3",
   "version": "3.11.8"
  }
 },
 "nbformat": 4,
 "nbformat_minor": 2
}
