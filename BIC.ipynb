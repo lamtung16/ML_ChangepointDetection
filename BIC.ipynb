{
 "cells": [
  {
   "cell_type": "code",
   "execution_count": 10,
   "metadata": {},
   "outputs": [],
   "source": [
    "import numpy as np\n",
    "import pandas as pd\n",
    "from utility_functions import get_acc, add_row_to_csv"
   ]
  },
  {
   "cell_type": "code",
   "execution_count": 11,
   "metadata": {},
   "outputs": [],
   "source": [
    "def BIC(inputs_df):\n",
    "    seqID = inputs_df['sequenceID']\n",
    "    lldas = np.log(np.log(inputs_df['length']))\n",
    "    lldas_df = pd.concat([seqID, lldas], axis=1)\n",
    "    return lldas_df.rename(columns={'length': 'llda'})"
   ]
  },
  {
   "cell_type": "code",
   "execution_count": 12,
   "metadata": {},
   "outputs": [],
   "source": [
    "for dataset in ['detailed', 'systematic', 'epigenomic']:\n",
    "\n",
    "    # training data\n",
    "    fold_path = 'training_data/' + dataset + '/folds.csv'\n",
    "    inputs_path = 'training_data/' + dataset + '/inputs.csv'\n",
    "    evaluation_path = 'training_data/' + dataset + '/evaluation.csv'\n",
    "\n",
    "    # raw dfs\n",
    "    fold_df = pd.read_csv(fold_path)\n",
    "    inputs_df = pd.read_csv(inputs_path)\n",
    "    evaluation_df = pd.read_csv(evaluation_path)\n",
    "\n",
    "    # number of folds\n",
    "    n_folds = fold_df['fold'].nunique()\n",
    "\n",
    "    # main function\n",
    "    total_acc = 0\n",
    "    for fold in range(1, n_folds + 1):\n",
    "        fold_inputs_df = inputs_df[inputs_df['sequenceID'].isin(fold_df[fold_df['fold'] == fold]['sequenceID'])]\n",
    "        fold_eval_df = evaluation_df[evaluation_df['sequenceID'].isin(fold_df[fold_df['fold'] == fold]['sequenceID'])]\n",
    "\n",
    "        lldas_df = BIC(fold_inputs_df)\n",
    "        add_row_to_csv('acc_rate_csvs/' + dataset + '.csv', \n",
    "                    ['method', 'fold', 'feature engineer', 'acc'],\n",
    "                    ['BIC.1', fold, 'yes', get_acc(fold_eval_df, lldas_df)])"
   ]
  }
 ],
 "metadata": {
  "kernelspec": {
   "display_name": "Python 3",
   "language": "python",
   "name": "python3"
  },
  "language_info": {
   "codemirror_mode": {
    "name": "ipython",
    "version": 3
   },
   "file_extension": ".py",
   "mimetype": "text/x-python",
   "name": "python",
   "nbconvert_exporter": "python",
   "pygments_lexer": "ipython3",
   "version": "3.11.9"
  }
 },
 "nbformat": 4,
 "nbformat_minor": 2
}
