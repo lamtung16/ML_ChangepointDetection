{
 "cells": [
  {
   "cell_type": "code",
   "execution_count": 1,
   "metadata": {},
   "outputs": [
    {
     "data": {
      "text/plain": [
       "<torch._C.Generator at 0x1a533dbb310>"
      ]
     },
     "execution_count": 1,
     "metadata": {},
     "output_type": "execute_result"
    }
   ],
   "source": [
    "import torch\n",
    "import torch.nn as nn\n",
    "import torch.optim as optim\n",
    "import numpy as np\n",
    "import pandas as pd\n",
    "from ipynb.fs.full.utility_functions import gen_data_dict, get_data, error_count, write_to_csv, opart, SquaredHingeLoss\n",
    "\n",
    "np.set_printoptions(precision=3)\n",
    "np.random.seed(123)\n",
    "torch.manual_seed(123)"
   ]
  },
  {
   "cell_type": "code",
   "execution_count": 2,
   "metadata": {},
   "outputs": [],
   "source": [
    "# data\n",
    "data = pd.read_csv('1_genome/1_training_data/seq_features.csv')['count'].to_numpy()\n",
    "data = np.log(np.log(data)).reshape(-1,1)\n",
    "data = torch.FloatTensor(data)\n",
    "\n",
    "target_df_1 = pd.read_csv('1_genome/1_training_data/target_lambda_fold1_base_e.csv')\n",
    "target_df_2 = pd.read_csv('1_genome/1_training_data/target_lambda_fold2_base_e.csv')\n",
    "\n",
    "targets_low_1  = target_df_1.iloc[:, 1:2].to_numpy()\n",
    "targets_high_1 = target_df_1.iloc[:, 2:3].to_numpy()\n",
    "targets_low_2  = target_df_2.iloc[:, 1:2].to_numpy()\n",
    "targets_high_2 = target_df_2.iloc[:, 2:3].to_numpy()\n",
    "\n",
    "targets_low_1  = torch.FloatTensor(targets_low_1)\n",
    "targets_high_1 = torch.FloatTensor(targets_high_1)\n",
    "targets_low_2  = torch.FloatTensor(targets_low_2)\n",
    "targets_high_2 = torch.FloatTensor(targets_high_2)\n",
    "\n",
    "y1 = torch.cat((targets_low_1, targets_high_1), dim=1)\n",
    "y2 = torch.cat((targets_low_2, targets_high_2), dim=1)"
   ]
  },
  {
   "cell_type": "code",
   "execution_count": 3,
   "metadata": {},
   "outputs": [],
   "source": [
    "# Define the linear model\n",
    "class LinearModel(nn.Module):\n",
    "    def __init__(self, input_size):\n",
    "        super(LinearModel, self).__init__()\n",
    "        self.fc1 = nn.Linear(input_size, 1)\n",
    "\n",
    "    def forward(self, x):\n",
    "        return self.fc1(x)"
   ]
  },
  {
   "cell_type": "code",
   "execution_count": 4,
   "metadata": {},
   "outputs": [
    {
     "name": "stdout",
     "output_type": "stream",
     "text": [
      "Epoch     0, Loss_1:   5.0079, Loss_1_test:   4.7369, Loss_2:   4.5128, Loss_2_test:   4.6388\n",
      "Epoch  1000, Loss_1:   4.4853, Loss_1_test:   4.4225, Loss_2:   4.2887, Loss_2_test:   4.2189\n",
      "Epoch  2000, Loss_1:   4.1162, Loss_1_test:   4.2406, Loss_2:   4.1915, Loss_2_test:   3.9707\n",
      "Epoch  3000, Loss_1:   3.8653, Loss_1_test:   4.1645, Loss_2:   4.1690, Loss_2_test:   3.8590\n",
      "Epoch  4000, Loss_1:   3.7105, Loss_1_test:   4.1784, Loss_2:   4.1660, Loss_2_test:   3.8165\n",
      "Epoch  5000, Loss_1:   3.6290, Loss_1_test:   4.2502, Loss_2:   4.1658, Loss_2_test:   3.8121\n",
      "Epoch  6000, Loss_1:   3.5869, Loss_1_test:   4.3451, Loss_2:   4.1656, Loss_2_test:   3.8117\n",
      "Epoch  7000, Loss_1:   3.5817, Loss_1_test:   4.4074, Loss_2:   4.1652, Loss_2_test:   3.8125\n",
      "Epoch  8000, Loss_1:   3.5803, Loss_1_test:   4.4502, Loss_2:   4.1647, Loss_2_test:   3.8156\n",
      "Epoch  9000, Loss_1:   3.5801, Loss_1_test:   4.4668, Loss_2:   4.1641, Loss_2_test:   3.8171\n",
      "Epoch 10000, Loss_1:   3.5801, Loss_1_test:   4.4694, Loss_2:   4.1633, Loss_2_test:   3.8203\n"
     ]
    }
   ],
   "source": [
    "# Instantiate the model, define custom loss function, and optimizer\n",
    "model1 = LinearModel(input_size = 1)\n",
    "model2 = LinearModel(input_size = 1)\n",
    "\n",
    "squared_hinge_loss = SquaredHingeLoss(margin=2, low_lim=-8, high_lim=8)\n",
    "optimizer1 = optim.Adam(model1.parameters(), lr=0.0001)\n",
    "optimizer2 = optim.Adam(model2.parameters(), lr=0.0001)\n",
    "\n",
    "# Training loop\n",
    "min_loss_1_test = float('inf')\n",
    "min_loss_2_test = float('inf')\n",
    "for epoch in range(10001):\n",
    "    # Forward pass\n",
    "    outputs1 = model1(data)\n",
    "    outputs2 = model2(data)\n",
    "    \n",
    "    # Compute the custom loss\n",
    "    loss_1 = squared_hinge_loss(outputs1, y1)\n",
    "    loss_2 = squared_hinge_loss(outputs2, y2)\n",
    "\n",
    "    loss_1_test = squared_hinge_loss(outputs1, y2)\n",
    "    loss_2_test = squared_hinge_loss(outputs2, y1)\n",
    "    \n",
    "    # Backward pass and optimization\n",
    "    optimizer1.zero_grad()\n",
    "    loss_1.backward()\n",
    "    optimizer1.step()\n",
    "\n",
    "    optimizer2.zero_grad()\n",
    "    loss_2.backward()\n",
    "    optimizer2.step()\n",
    "\n",
    "    # save models\n",
    "    if loss_1_test < min_loss_1_test:\n",
    "        min_loss_1_test = loss_1_test\n",
    "        torch.save(model1.state_dict(), '1_genome/3_learned_models/model1_linear_best.pth')\n",
    "    \n",
    "    if loss_2_test < min_loss_2_test:\n",
    "        min_loss_2_test = loss_2_test\n",
    "        torch.save(model2.state_dict(), '1_genome/3_learned_models/model2_linear_best.pth')\n",
    "    \n",
    "    # Print the loss every 100 epochs\n",
    "    if (epoch) % 1000 == 0:\n",
    "        print(f'Epoch {epoch:5d}, Loss_1: {loss_1.item():8.4f}, Loss_1_test: {loss_1_test.item():8.4f}, Loss_2: {loss_2.item():8.4f}, Loss_2_test: {loss_2_test.item():8.4f}')"
   ]
  },
  {
   "cell_type": "code",
   "execution_count": 5,
   "metadata": {},
   "outputs": [],
   "source": [
    "# torch.save(model1.state_dict(), '1.genome_saved_models/model1_linear_best.pth')\n",
    "# torch.save(model2.state_dict(), '1.genome_saved_models/model2_linear_best.pth')"
   ]
  },
  {
   "cell_type": "code",
   "execution_count": 6,
   "metadata": {},
   "outputs": [
    {
     "data": {
      "text/plain": [
       "LinearModel(\n",
       "  (fc1): Linear(in_features=1, out_features=1, bias=True)\n",
       ")"
      ]
     },
     "execution_count": 6,
     "metadata": {},
     "output_type": "execute_result"
    }
   ],
   "source": [
    "# Load model1\n",
    "model1 = LinearModel(input_size=1)\n",
    "model1.load_state_dict(torch.load('1_genome/3_learned_models/model1_linear_best.pth'))\n",
    "model1.eval()  # Set the model to evaluation mode\n",
    "\n",
    "# Load model2\n",
    "model2 = LinearModel(input_size=1)\n",
    "model2.load_state_dict(torch.load('1_genome/3_learned_models/model2_linear_best.pth'))\n",
    "model2.eval()  # Set the model to evaluation mode"
   ]
  },
  {
   "cell_type": "code",
   "execution_count": 7,
   "metadata": {},
   "outputs": [
    {
     "name": "stdout",
     "output_type": "stream",
     "text": [
      "Parameter: fc1.weight, Value: tensor([[-0.1335]])\n",
      "Parameter: fc1.bias, Value: tensor([0.3076])\n"
     ]
    }
   ],
   "source": [
    "for name, param in model1.named_parameters():\n",
    "    print(f\"Parameter: {name}, Value: {param.data}\")"
   ]
  },
  {
   "cell_type": "code",
   "execution_count": 8,
   "metadata": {},
   "outputs": [
    {
     "name": "stdout",
     "output_type": "stream",
     "text": [
      "Parameter: fc1.weight, Value: tensor([[-0.2640]])\n",
      "Parameter: fc1.bias, Value: tensor([0.5617])\n"
     ]
    }
   ],
   "source": [
    "for name, param in model2.named_parameters():\n",
    "    print(f\"Parameter: {name}, Value: {param.data}\")"
   ]
  },
  {
   "cell_type": "code",
   "execution_count": 9,
   "metadata": {},
   "outputs": [],
   "source": [
    "with torch.no_grad():\n",
    "    ldas1 = np.e**(model1(data).numpy()).reshape(-1)\n",
    "    ldas2 = np.e**(model2(data).numpy()).reshape(-1)"
   ]
  },
  {
   "cell_type": "code",
   "execution_count": 10,
   "metadata": {},
   "outputs": [],
   "source": [
    "seqs   = gen_data_dict('1_genome/0_sequences_labels/signals.gz')\n",
    "labels = gen_data_dict('1_genome/0_sequences_labels/labels.gz')\n",
    "\n",
    "header = ['sequenceID', 'fold_1_total_labels', 'fold_2_total_labels', 'fold_1_fp_errs', 'fold_1_fn_errs', 'fold_1_tp', 'fold_1_tn', 'fold_2_fp_errs', 'fold_2_fn_errs', 'fold_2_tp', 'fold_2_tn',]\n",
    "\n",
    "for i in range(len(seqs)):\n",
    "    # generate data\n",
    "    sequence, neg_start_1, neg_end_1, pos_start_1, pos_end_1, neg_start_2, neg_end_2, pos_start_2, pos_end_2 = get_data(i, seqs=seqs, labels=labels)\n",
    "\n",
    "    # get total labels\n",
    "    fold1_total_labels = len(neg_start_1) + len(pos_start_1)\n",
    "    fold2_total_labels = len(neg_start_2) + len(pos_start_2)\n",
    "\n",
    "    # run each lambda and record it into csv file\n",
    "    row = [seqs[i][0], fold1_total_labels, fold2_total_labels]\n",
    "\n",
    "    chpnt_fold1 = opart(ldas2[i], sequence)\n",
    "    chpnt_fold2 = opart(ldas1[i], sequence)\n",
    "\n",
    "    err_1 = error_count(chpnt_fold1, neg_start_1, neg_end_1, pos_start_1, pos_end_1)\n",
    "    err_2 = error_count(chpnt_fold2, neg_start_2, neg_end_2, pos_start_2, pos_end_2)\n",
    "    \n",
    "    row.append(err_1[0])\n",
    "    row.append(err_1[1])\n",
    "    row.append(err_1[2])\n",
    "    row.append(err_1[3])\n",
    "    row.append(err_2[0])\n",
    "    row.append(err_2[1])\n",
    "    row.append(err_2[2])\n",
    "    row.append(err_2[3])\n",
    "\n",
    "    write_to_csv('1_genome/2_learning_record/linear.csv', header, row)"
   ]
  }
 ],
 "metadata": {
  "kernelspec": {
   "display_name": "Python 3",
   "language": "python",
   "name": "python3"
  },
  "language_info": {
   "codemirror_mode": {
    "name": "ipython",
    "version": 3
   },
   "file_extension": ".py",
   "mimetype": "text/x-python",
   "name": "python",
   "nbconvert_exporter": "python",
   "pygments_lexer": "ipython3",
   "version": "3.11.7"
  }
 },
 "nbformat": 4,
 "nbformat_minor": 2
}
