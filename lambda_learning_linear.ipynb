{
 "cells": [
  {
   "cell_type": "code",
   "execution_count": 1,
   "metadata": {},
   "outputs": [
    {
     "data": {
      "text/plain": [
       "<torch._C.Generator at 0x117b50afcf0>"
      ]
     },
     "execution_count": 1,
     "metadata": {},
     "output_type": "execute_result"
    }
   ],
   "source": [
    "import torch\n",
    "import torch.nn as nn\n",
    "import torch.optim as optim\n",
    "from sklearn.model_selection import KFold\n",
    "import numpy as np\n",
    "import pandas as pd\n",
    "from ipynb.fs.full.utility_functions import gen_data_dict, get_data, error_count, opart, SquaredHingeLoss, show_error_rate\n",
    "\n",
    "np.set_printoptions(precision=3)\n",
    "np.random.seed(123)\n",
    "torch.manual_seed(123)"
   ]
  },
  {
   "cell_type": "code",
   "execution_count": 2,
   "metadata": {},
   "outputs": [],
   "source": [
    "# data\n",
    "data = pd.read_csv('1_genome/1_training_data/seq_features.csv')['count'].to_numpy()\n",
    "data = np.log(np.log(data)).reshape(-1,1)\n",
    "X = torch.FloatTensor(data)"
   ]
  },
  {
   "cell_type": "code",
   "execution_count": 3,
   "metadata": {},
   "outputs": [],
   "source": [
    "# target\n",
    "target_df_1 = pd.read_csv('1_genome/1_training_data/target_lambda_fold1_base_e.csv')\n",
    "target_df_2 = pd.read_csv('1_genome/1_training_data/target_lambda_fold2_base_e.csv')\n",
    "\n",
    "targets_low_1  = torch.FloatTensor(target_df_1.iloc[:, 1:2].to_numpy())\n",
    "targets_high_1 = torch.FloatTensor(target_df_1.iloc[:, 2:3].to_numpy())\n",
    "targets_low_2  = torch.FloatTensor(target_df_2.iloc[:, 1:2].to_numpy())\n",
    "targets_high_2 = torch.FloatTensor(target_df_2.iloc[:, 2:3].to_numpy())\n",
    "\n",
    "y1 = torch.cat((targets_low_1, targets_high_1), dim=1)\n",
    "y2 = torch.cat((targets_low_2, targets_high_2), dim=1)"
   ]
  },
  {
   "cell_type": "code",
   "execution_count": 4,
   "metadata": {},
   "outputs": [],
   "source": [
    "# Define the linear model\n",
    "class LinearModel(nn.Module):\n",
    "    def __init__(self, input_size):\n",
    "        super(LinearModel, self).__init__()\n",
    "        self.fc1 = nn.Linear(input_size, 1)\n",
    "\n",
    "    def forward(self, x):\n",
    "        return self.fc1(x)"
   ]
  },
  {
   "cell_type": "code",
   "execution_count": 5,
   "metadata": {},
   "outputs": [],
   "source": [
    "def cv_learn(X, y1, y2):\n",
    "    # Define the number of folds for cross-validation\n",
    "    kf = KFold(n_splits=2, shuffle=True, random_state=123)\n",
    "\n",
    "    # loss function\n",
    "    squared_hinge_loss = SquaredHingeLoss(margin=1, low_lim=-7, high_lim=7)\n",
    "\n",
    "    best_ites_1 = []\n",
    "    best_ites_2 = []\n",
    "    for train_index, val_index in kf.split(X):\n",
    "\n",
    "        # Split the data into training and validation sets\n",
    "        X_train_tensor, X_val_tensor   = X[train_index],  X[val_index]\n",
    "        y1_train_tensor, y1_val_tensor = y1[train_index], y1[val_index]\n",
    "        y2_train_tensor, y2_val_tensor = y2[train_index], y2[val_index]\n",
    "\n",
    "        # Define your model, loss, and optimizer\n",
    "        model1 = LinearModel(input_size=1)\n",
    "        model2 = LinearModel(input_size=1)\n",
    "\n",
    "        optimizer1 = optim.Adam(model1.parameters(), lr=0.001)\n",
    "        optimizer2 = optim.Adam(model2.parameters(), lr=0.001)\n",
    "\n",
    "        # Training loop for the specified number of iterations\n",
    "        val_losses_1 = []\n",
    "        val_losses_2 = []\n",
    "        for _ in range(5000):\n",
    "            loss1      = squared_hinge_loss(model1(X_train_tensor), y1_train_tensor)\n",
    "            val_loss_1 = squared_hinge_loss(model1(X_val_tensor),   y1_val_tensor)\n",
    "            optimizer1.zero_grad()\n",
    "            loss1.backward()\n",
    "            optimizer1.step()\n",
    "\n",
    "            loss2      = squared_hinge_loss(model2(X_train_tensor), y2_train_tensor)\n",
    "            val_loss_2 = squared_hinge_loss(model2(X_val_tensor),   y2_val_tensor)\n",
    "            optimizer2.zero_grad()\n",
    "            loss2.backward()\n",
    "            optimizer2.step()\n",
    "\n",
    "            val_losses_1.append(val_loss_1.item())\n",
    "            val_losses_2.append(val_loss_2.item())\n",
    "        \n",
    "        best_ite_1 = np.argmin(val_losses_1) + 1\n",
    "        best_ite_2 = np.argmin(val_losses_2) + 1\n",
    "\n",
    "        best_ites_1.append(best_ite_1)\n",
    "        best_ites_2.append(best_ite_2)\n",
    "\n",
    "    best_no_ite_1 = int(np.mean(best_ites_1))\n",
    "    best_no_ite_2 = int(np.mean(best_ites_2))\n",
    "    \n",
    "    return best_no_ite_1, best_no_ite_2"
   ]
  },
  {
   "cell_type": "code",
   "execution_count": 6,
   "metadata": {},
   "outputs": [],
   "source": [
    "def train_model(X, y, n_ites):\n",
    "    model = LinearModel(input_size=1)\n",
    "    squared_hinge_loss = SquaredHingeLoss(margin=1, low_lim=-7, high_lim=7)\n",
    "    optimizer = optim.Adam(model.parameters(), lr=0.001)\n",
    "\n",
    "    # Training loop\n",
    "    for _ in range(n_ites):\n",
    "        # Forward pass\n",
    "        outputs = model(X)\n",
    "        \n",
    "        # Compute the custom loss\n",
    "        loss = squared_hinge_loss(outputs, y)\n",
    "        \n",
    "        # Backward pass and optimization\n",
    "        optimizer.zero_grad()\n",
    "        loss.backward()\n",
    "        optimizer.step()\n",
    "    \n",
    "    return model"
   ]
  },
  {
   "cell_type": "code",
   "execution_count": 7,
   "metadata": {},
   "outputs": [],
   "source": [
    "def get_df_stat(ldas1, ldas2, seqs, labels):\n",
    "    header = ['sequenceID', 'lambda_test_fold1', 'lambda_test_fold2', 'fold_1_total_labels', 'fold_2_total_labels', 'fold_1_fp_errs', 'fold_1_fn_errs', 'fold_1_tp', 'fold_1_tn', 'fold_2_fp_errs', 'fold_2_fn_errs', 'fold_2_tp', 'fold_2_tn']\n",
    "    rows = []\n",
    "    for i in range(len(seqs)):\n",
    "        # generate data\n",
    "        sequence, neg_start_1, neg_end_1, pos_start_1, pos_end_1, neg_start_2, neg_end_2, pos_start_2, pos_end_2 = get_data(i, seqs=seqs, labels=labels)\n",
    "\n",
    "        # get total labels\n",
    "        fold1_total_labels = len(neg_start_1) + len(pos_start_1)\n",
    "        fold2_total_labels = len(neg_start_2) + len(pos_start_2)\n",
    "\n",
    "        # run each lambda and record it into csv file\n",
    "        row  = [seqs[i][0], np.exp(ldas2[i]), np.exp(ldas1[i]), fold1_total_labels, fold2_total_labels]\n",
    "\n",
    "        chpnt_fold1 = opart(np.exp(ldas2[i]), sequence)\n",
    "        chpnt_fold2 = opart(np.exp(ldas1[i]), sequence)\n",
    "\n",
    "        err_1 = error_count(chpnt_fold1, neg_start_1, neg_end_1, pos_start_1, pos_end_1)\n",
    "        err_2 = error_count(chpnt_fold2, neg_start_2, neg_end_2, pos_start_2, pos_end_2)\n",
    "        \n",
    "        for err in [err_1, err_2]:\n",
    "            row.extend(err[:4])\n",
    "\n",
    "        rows.append(row)\n",
    "    \n",
    "    df = pd.DataFrame(rows, columns=header)\n",
    "    return df"
   ]
  },
  {
   "cell_type": "code",
   "execution_count": 8,
   "metadata": {},
   "outputs": [],
   "source": [
    "def try_model(X, y1, y2):\n",
    "    best_no_ite_1, best_no_ite_2 = cv_learn(X, y1, y2)\n",
    "    print(best_no_ite_1, best_no_ite_2)\n",
    "\n",
    "    model1 = train_model(X, y1, best_no_ite_1)\n",
    "    model2 = train_model(X, y2, best_no_ite_2)\n",
    "\n",
    "    torch.save(model1.state_dict(), '1_genome/3_learned_models/1_linear/model1.pth')\n",
    "    torch.save(model2.state_dict(), '1_genome/3_learned_models/1_linear/model2.pth')\n",
    "\n",
    "    with torch.no_grad():\n",
    "        ldas1 = model1(X).numpy().reshape(-1)\n",
    "        ldas2 = model2(X).numpy().reshape(-1)\n",
    "\n",
    "    seqs   = gen_data_dict('1_genome/0_sequences_labels/signals.gz')\n",
    "    labels = gen_data_dict('1_genome/0_sequences_labels/labels.gz')\n",
    "    df = get_df_stat(ldas1, ldas2, seqs, labels)\n",
    "\n",
    "    return df"
   ]
  },
  {
   "cell_type": "code",
   "execution_count": null,
   "metadata": {},
   "outputs": [],
   "source": [
    "df = try_model(X, y1, y2)"
   ]
  },
  {
   "cell_type": "code",
   "execution_count": 19,
   "metadata": {},
   "outputs": [
    {
     "data": {
      "text/plain": [
       "(72.73936170212765, 63.26923076923077, 752, 520, 205, 191)"
      ]
     },
     "execution_count": 19,
     "metadata": {},
     "output_type": "execute_result"
    }
   ],
   "source": [
    "show_error_rate(df)"
   ]
  },
  {
   "cell_type": "code",
   "execution_count": 10,
   "metadata": {},
   "outputs": [],
   "source": [
    "# # Instantiate the model, define custom loss function, and optimizer\n",
    "# model1 = LinearModel(input_size = 1)\n",
    "# model2 = LinearModel(input_size = 1)\n",
    "\n",
    "# squared_hinge_loss = SquaredHingeLoss(margin=1, low_lim=-7, high_lim=7)\n",
    "# optimizer1 = optim.Adam(model1.parameters(), lr=0.001)\n",
    "# optimizer2 = optim.Adam(model2.parameters(), lr=0.001)\n",
    "\n",
    "# # Training loop\n",
    "# min_loss_1_test = float('inf')\n",
    "# min_loss_2_test = float('inf')\n",
    "# for epoch in range(2000):\n",
    "#     # Forward pass\n",
    "#     outputs1 = model1(X)\n",
    "#     outputs2 = model2(X)\n",
    "    \n",
    "#     # Compute the custom loss\n",
    "#     loss_1 = squared_hinge_loss(outputs1, y1)\n",
    "#     loss_2 = squared_hinge_loss(outputs2, y2)\n",
    "\n",
    "#     loss_1_test = squared_hinge_loss(outputs1, y2)\n",
    "#     loss_2_test = squared_hinge_loss(outputs2, y1)\n",
    "    \n",
    "#     # Backward pass and optimization\n",
    "#     optimizer1.zero_grad()\n",
    "#     loss_1.backward()\n",
    "#     optimizer1.step()\n",
    "\n",
    "#     optimizer2.zero_grad()\n",
    "#     loss_2.backward()\n",
    "#     optimizer2.step()\n",
    "\n",
    "#     # # save models\n",
    "#     # if loss_1_test < min_loss_1_test:\n",
    "#     #     min_loss_1_test = loss_1_test\n",
    "#     #     torch.save(model1.state_dict(), '1_genome/3_learned_models/1_linear/model1.pth')\n",
    "    \n",
    "#     # if loss_2_test < min_loss_2_test:\n",
    "#     #     min_loss_2_test = loss_2_test\n",
    "#     #     torch.save(model2.state_dict(), '1_genome/3_learned_models/1_linear/model2.pth')\n",
    "    \n",
    "#     # Print the loss every 100 epochs\n",
    "#     if (epoch+1) % 1000 == 0:\n",
    "#         print(f'Epoch {epoch:5d}, Loss_1: {loss_1.item():8.4f}, Loss_1_test: {loss_1_test.item():8.4f}, Loss_2: {loss_2.item():8.4f}, Loss_2_test: {loss_2_test.item():8.4f}')"
   ]
  },
  {
   "cell_type": "code",
   "execution_count": 11,
   "metadata": {},
   "outputs": [],
   "source": [
    "# torch.save(model1.state_dict(), '1_genome/3_learned_models/1_linear/model1.pth')\n",
    "# torch.save(model2.state_dict(), '1_genome/3_learned_models/1_linear/model2.pth')"
   ]
  },
  {
   "cell_type": "code",
   "execution_count": 12,
   "metadata": {},
   "outputs": [],
   "source": [
    "# # Load model1\n",
    "# model1 = LinearModel(input_size=1)\n",
    "# model1.load_state_dict(torch.load('1_genome/3_learned_models/1_linear/model1.pth'))\n",
    "# model1.eval()  # Set the model to evaluation mode\n",
    "\n",
    "# # Load model2\n",
    "# model2 = LinearModel(input_size=1)\n",
    "# model2.load_state_dict(torch.load('1_genome/3_learned_models/1_linear/model2.pth'))\n",
    "# model2.eval()  # Set the model to evaluation mode"
   ]
  },
  {
   "cell_type": "code",
   "execution_count": 13,
   "metadata": {},
   "outputs": [],
   "source": [
    "# for name, param in model1.named_parameters():\n",
    "#     print(f\"Parameter: {name}, Value: {param.data}\")"
   ]
  },
  {
   "cell_type": "code",
   "execution_count": 14,
   "metadata": {},
   "outputs": [],
   "source": [
    "# for name, param in model2.named_parameters():\n",
    "#     print(f\"Parameter: {name}, Value: {param.data}\")"
   ]
  },
  {
   "cell_type": "code",
   "execution_count": 15,
   "metadata": {},
   "outputs": [],
   "source": [
    "# with torch.no_grad():\n",
    "#     ldas1 = np.exp(model1(X).numpy()).reshape(-1)\n",
    "#     ldas2 = np.exp(model2(X).numpy()).reshape(-1)"
   ]
  },
  {
   "cell_type": "code",
   "execution_count": 16,
   "metadata": {},
   "outputs": [],
   "source": [
    "# seqs   = gen_data_dict('1_genome/0_sequences_labels/signals.gz')\n",
    "# labels = gen_data_dict('1_genome/0_sequences_labels/labels.gz')\n",
    "\n",
    "# header = ['sequenceID', 'fold_1_total_labels', 'fold_2_total_labels', 'fold_1_fp_errs', 'fold_1_fn_errs', 'fold_1_tp', 'fold_1_tn', 'fold_2_fp_errs', 'fold_2_fn_errs', 'fold_2_tp', 'fold_2_tn',]\n",
    "# rows = []\n",
    "# for i in range(len(seqs)):\n",
    "#     # generate data\n",
    "#     sequence, neg_start_1, neg_end_1, pos_start_1, pos_end_1, neg_start_2, neg_end_2, pos_start_2, pos_end_2 = get_data(i, seqs=seqs, labels=labels)\n",
    "\n",
    "#     # get total labels\n",
    "#     fold1_total_labels = len(neg_start_1) + len(pos_start_1)\n",
    "#     fold2_total_labels = len(neg_start_2) + len(pos_start_2)\n",
    "\n",
    "#     # run each lambda and record it into csv file\n",
    "#     row = [seqs[i][0], fold1_total_labels, fold2_total_labels]\n",
    "\n",
    "#     chpnt_fold1 = opart(ldas2[i], sequence)\n",
    "#     chpnt_fold2 = opart(ldas1[i], sequence)\n",
    "\n",
    "#     err_1 = error_count(chpnt_fold1, neg_start_1, neg_end_1, pos_start_1, pos_end_1)\n",
    "#     err_2 = error_count(chpnt_fold2, neg_start_2, neg_end_2, pos_start_2, pos_end_2)\n",
    "    \n",
    "#     for err in [err_1, err_2]:\n",
    "#         row.extend(err[:4])\n",
    "\n",
    "#     rows.append(row)\n",
    "\n",
    "# pd.DataFrame(rows, columns=header).to_csv('1_genome/2_learning_record/linear.csv', index=False)"
   ]
  },
  {
   "cell_type": "code",
   "execution_count": 17,
   "metadata": {},
   "outputs": [],
   "source": [
    "# show_error_rate(pd.DataFrame(rows, columns=header))"
   ]
  }
 ],
 "metadata": {
  "kernelspec": {
   "display_name": "Python 3",
   "language": "python",
   "name": "python3"
  },
  "language_info": {
   "codemirror_mode": {
    "name": "ipython",
    "version": 3
   },
   "file_extension": ".py",
   "mimetype": "text/x-python",
   "name": "python",
   "nbconvert_exporter": "python",
   "pygments_lexer": "ipython3",
   "version": "3.11.7"
  }
 },
 "nbformat": 4,
 "nbformat_minor": 2
}
