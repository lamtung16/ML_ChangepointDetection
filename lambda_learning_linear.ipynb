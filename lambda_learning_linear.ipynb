{
 "cells": [
  {
   "cell_type": "code",
   "execution_count": 1,
   "metadata": {},
   "outputs": [
    {
     "data": {
      "text/plain": [
       "<torch._C.Generator at 0x24d6ebbb330>"
      ]
     },
     "execution_count": 1,
     "metadata": {},
     "output_type": "execute_result"
    }
   ],
   "source": [
    "import torch\n",
    "import torch.nn as nn\n",
    "import torch.optim as optim\n",
    "import numpy as np\n",
    "import pandas as pd\n",
    "from ipynb.fs.full.utility_functions import gen_data_dict, get_data, error_count, write_to_csv, opart, SquaredHingeLoss\n",
    "\n",
    "np.set_printoptions(precision=3)\n",
    "np.random.seed(123)\n",
    "torch.manual_seed(123)"
   ]
  },
  {
   "cell_type": "code",
   "execution_count": 2,
   "metadata": {},
   "outputs": [],
   "source": [
    "# data\n",
    "data = pd.read_csv('1.genome_learning_data/seq_features.csv')['count'].to_numpy()\n",
    "data = np.log(np.log(data)).reshape(-1,1)\n",
    "data = torch.FloatTensor(data)\n",
    "\n",
    "target_df_1 = pd.read_csv('1.genome_learning_data/target_lambda_fold1.csv')\n",
    "target_df_2 = pd.read_csv('1.genome_learning_data/target_lambda_fold2.csv')\n",
    "\n",
    "targets_low_1  = target_df_1.iloc[:, 1:2].to_numpy()\n",
    "targets_high_1 = target_df_1.iloc[:, 2:3].to_numpy()\n",
    "targets_low_2  = target_df_2.iloc[:, 1:2].to_numpy()\n",
    "targets_high_2 = target_df_2.iloc[:, 2:3].to_numpy()\n",
    "\n",
    "targets_low_1  = torch.FloatTensor(targets_low_1)\n",
    "targets_high_1 = torch.FloatTensor(targets_high_1)\n",
    "targets_low_2  = torch.FloatTensor(targets_low_2)\n",
    "targets_high_2 = torch.FloatTensor(targets_high_2)\n",
    "\n",
    "y1 = torch.cat((targets_low_1, targets_high_1), dim=1)\n",
    "y2 = torch.cat((targets_low_2, targets_high_2), dim=1)"
   ]
  },
  {
   "cell_type": "code",
   "execution_count": 3,
   "metadata": {},
   "outputs": [],
   "source": [
    "# Define the linear model\n",
    "class LinearModel(nn.Module):\n",
    "    def __init__(self, input_size):\n",
    "        super(LinearModel, self).__init__()\n",
    "        self.fc1 = nn.Linear(input_size, 1)\n",
    "\n",
    "    def forward(self, x):\n",
    "        return self.fc1(x)"
   ]
  },
  {
   "cell_type": "code",
   "execution_count": 4,
   "metadata": {},
   "outputs": [
    {
     "name": "stdout",
     "output_type": "stream",
     "text": [
      "Epoch     0, Loss_1:   2.3556, Loss_1_test:   2.1364, Loss_2:   1.8813, Loss_2_test:   1.9977\n",
      "Epoch    50, Loss_1:   2.0690, Loss_1_test:   1.9265, Loss_2:   1.7379, Loss_2_test:   1.7776\n",
      "Epoch   100, Loss_1:   1.8537, Loss_1_test:   1.7819, Loss_2:   1.6439, Loss_2_test:   1.6182\n",
      "Epoch   150, Loss_1:   1.6919, Loss_1_test:   1.6846, Loss_2:   1.5778, Loss_2_test:   1.4968\n",
      "Epoch   200, Loss_1:   1.5613, Loss_1_test:   1.6117, Loss_2:   1.5315, Loss_2_test:   1.4032\n",
      "Epoch   250, Loss_1:   1.4506, Loss_1_test:   1.5526, Loss_2:   1.5162, Loss_2_test:   1.3562\n",
      "Epoch   300, Loss_1:   1.3610, Loss_1_test:   1.5093, Loss_2:   1.5126, Loss_2_test:   1.3360\n",
      "Epoch   350, Loss_1:   1.3113, Loss_1_test:   1.5017, Loss_2:   1.5115, Loss_2_test:   1.3251\n",
      "Epoch   400, Loss_1:   1.2840, Loss_1_test:   1.5101, Loss_2:   1.5108, Loss_2_test:   1.3175\n",
      "Epoch   450, Loss_1:   1.2627, Loss_1_test:   1.5215, Loss_2:   1.5105, Loss_2_test:   1.3117\n",
      "Epoch   500, Loss_1:   1.2451, Loss_1_test:   1.5346, Loss_2:   1.5103, Loss_2_test:   1.3083\n",
      "Epoch   550, Loss_1:   1.2308, Loss_1_test:   1.5489, Loss_2:   1.5102, Loss_2_test:   1.3083\n",
      "Epoch   600, Loss_1:   1.2194, Loss_1_test:   1.5639, Loss_2:   1.5100, Loss_2_test:   1.3083\n",
      "Epoch   650, Loss_1:   1.2105, Loss_1_test:   1.5790, Loss_2:   1.5099, Loss_2_test:   1.3085\n",
      "Epoch   700, Loss_1:   1.2037, Loss_1_test:   1.5938, Loss_2:   1.5098, Loss_2_test:   1.3086\n",
      "Epoch   750, Loss_1:   1.1985, Loss_1_test:   1.6080, Loss_2:   1.5097, Loss_2_test:   1.3087\n",
      "Epoch   800, Loss_1:   1.1947, Loss_1_test:   1.6212, Loss_2:   1.5096, Loss_2_test:   1.3089\n",
      "Epoch   850, Loss_1:   1.1919, Loss_1_test:   1.6333, Loss_2:   1.5094, Loss_2_test:   1.3090\n",
      "Epoch   900, Loss_1:   1.1899, Loss_1_test:   1.6443, Loss_2:   1.5093, Loss_2_test:   1.3092\n",
      "Epoch   950, Loss_1:   1.1885, Loss_1_test:   1.6540, Loss_2:   1.5091, Loss_2_test:   1.3093\n"
     ]
    }
   ],
   "source": [
    "# Instantiate the model, define custom loss function, and optimizer\n",
    "model1 = LinearModel(input_size = 1)\n",
    "model2 = LinearModel(input_size = 1)\n",
    "\n",
    "squared_hinge_loss = SquaredHingeLoss()\n",
    "optimizer1 = optim.Adam(model1.parameters(), lr=0.001)\n",
    "optimizer2 = optim.Adam(model2.parameters(), lr=0.001)\n",
    "\n",
    "# Training loop\n",
    "min_loss_1_test = float('inf')\n",
    "min_loss_2_test = float('inf')\n",
    "for epoch in range(1000):\n",
    "    # Forward pass\n",
    "    outputs1 = model1(data)\n",
    "    outputs2 = model2(data)\n",
    "    \n",
    "    # Compute the custom loss\n",
    "    loss_1 = squared_hinge_loss(outputs1, y1)\n",
    "    loss_2 = squared_hinge_loss(outputs2, y2)\n",
    "\n",
    "    loss_1_test = squared_hinge_loss(outputs1, y2)\n",
    "    loss_2_test = squared_hinge_loss(outputs2, y1)\n",
    "    \n",
    "    # Backward pass and optimization\n",
    "    optimizer1.zero_grad()\n",
    "    loss_1.backward()\n",
    "    optimizer1.step()\n",
    "\n",
    "    optimizer2.zero_grad()\n",
    "    loss_2.backward()\n",
    "    optimizer2.step()\n",
    "\n",
    "    # save models\n",
    "    if loss_1_test < min_loss_1_test:\n",
    "        min_loss_1_test = loss_1_test\n",
    "        torch.save(model1.state_dict(), '1.genome_saved_models/model1_linear_best.pth')\n",
    "    \n",
    "    if loss_2_test < min_loss_2_test:\n",
    "        min_loss_2_test = loss_2_test\n",
    "        torch.save(model2.state_dict(), '1.genome_saved_models/model2_linear_best.pth')\n",
    "    \n",
    "    # Print the loss every 100 epochs\n",
    "    if (epoch) % 50 == 0:\n",
    "        print(f'Epoch {epoch:5d}, Loss_1: {loss_1.item():8.4f}, Loss_1_test: {loss_1_test.item():8.4f}, Loss_2: {loss_2.item():8.4f}, Loss_2_test: {loss_2_test.item():8.4f}')"
   ]
  },
  {
   "cell_type": "code",
   "execution_count": 5,
   "metadata": {},
   "outputs": [],
   "source": [
    "# torch.save(model1.state_dict(), '1.genome_saved_models/model1_linear_best.pth')\n",
    "# torch.save(model2.state_dict(), '1.genome_saved_models/model2_linear_best.pth')"
   ]
  },
  {
   "cell_type": "code",
   "execution_count": 6,
   "metadata": {},
   "outputs": [
    {
     "data": {
      "text/plain": [
       "LinearModel(\n",
       "  (fc1): Linear(in_features=1, out_features=1, bias=True)\n",
       ")"
      ]
     },
     "execution_count": 6,
     "metadata": {},
     "output_type": "execute_result"
    }
   ],
   "source": [
    "# Load model1\n",
    "model1 = LinearModel(input_size=1)\n",
    "model1.load_state_dict(torch.load('1.genome_saved_models/model1_linear_best.pth'))\n",
    "model1.eval()  # Set the model to evaluation mode\n",
    "\n",
    "# Load model2\n",
    "model2 = LinearModel(input_size=1)\n",
    "model2.load_state_dict(torch.load('1.genome_saved_models/model2_linear_best.pth'))\n",
    "model2.eval()  # Set the model to evaluation mode"
   ]
  },
  {
   "cell_type": "code",
   "execution_count": 7,
   "metadata": {},
   "outputs": [],
   "source": [
    "with torch.no_grad():\n",
    "    ldas1 = model1(data).numpy().reshape(-1)\n",
    "    ldas2 = model2(data).numpy().reshape(-1)"
   ]
  },
  {
   "cell_type": "code",
   "execution_count": 8,
   "metadata": {},
   "outputs": [],
   "source": [
    "seqs   = gen_data_dict('sequence_label_data/genome/signals.gz')\n",
    "labels = gen_data_dict('sequence_label_data/genome/labels.gz')\n",
    "\n",
    "header = ['sequenceID', 'fold_1_total_labels', 'fold_2_total_labels', 'fold_1_fp_errs', 'fold_1_fn_errs', 'fold_1_tp', 'fold_1_tn', 'fold_2_fp_errs', 'fold_2_fn_errs', 'fold_2_tp', 'fold_2_tn',]\n",
    "\n",
    "for i in range(len(seqs)):\n",
    "    # generate data\n",
    "    sequence, neg_start_1, neg_end_1, pos_start_1, pos_end_1, neg_start_2, neg_end_2, pos_start_2, pos_end_2 = get_data(i, seqs=seqs, labels=labels)\n",
    "    sequence_length = len(sequence)-1\n",
    "\n",
    "    # get total labels\n",
    "    fold1_total_labels = len(neg_start_1) + len(pos_start_1)\n",
    "    fold2_total_labels = len(neg_start_2) + len(pos_start_2)\n",
    "\n",
    "    # run each lambda and record it into csv file\n",
    "    row = [seqs[i][0], fold1_total_labels, fold2_total_labels]\n",
    "\n",
    "    chpnt_fold1 = opart(10**ldas2[i], sequence)\n",
    "    chpnt_fold2 = opart(10**ldas1[i], sequence)\n",
    "\n",
    "    err_1 = error_count(chpnt_fold1, neg_start_1, neg_end_1, pos_start_1, pos_end_1)\n",
    "    err_2 = error_count(chpnt_fold2, neg_start_2, neg_end_2, pos_start_2, pos_end_2)\n",
    "    \n",
    "    row.append(err_1[0])\n",
    "    row.append(err_1[1])\n",
    "    row.append(err_1[2])\n",
    "    row.append(err_1[3])\n",
    "    row.append(err_2[0])\n",
    "    row.append(err_2[1])\n",
    "    row.append(err_2[2])\n",
    "    row.append(err_2[3])\n",
    "\n",
    "    write_to_csv('1.genome_learning_output/linear_test.csv', header, row)"
   ]
  }
 ],
 "metadata": {
  "kernelspec": {
   "display_name": "Python 3",
   "language": "python",
   "name": "python3"
  },
  "language_info": {
   "codemirror_mode": {
    "name": "ipython",
    "version": 3
   },
   "file_extension": ".py",
   "mimetype": "text/x-python",
   "name": "python",
   "nbconvert_exporter": "python",
   "pygments_lexer": "ipython3",
   "version": "3.11.7"
  }
 },
 "nbformat": 4,
 "nbformat_minor": 2
}
