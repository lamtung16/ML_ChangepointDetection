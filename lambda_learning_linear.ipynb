{
 "cells": [
  {
   "cell_type": "code",
   "execution_count": 11,
   "metadata": {},
   "outputs": [
    {
     "data": {
      "text/plain": [
       "<torch._C.Generator at 0x25441abb330>"
      ]
     },
     "execution_count": 11,
     "metadata": {},
     "output_type": "execute_result"
    }
   ],
   "source": [
    "import torch\n",
    "import torch.nn as nn\n",
    "import torch.optim as optim\n",
    "import numpy as np\n",
    "import pandas as pd\n",
    "from ipynb.fs.full.utility_functions import gen_data_dict, get_data, error_count, write_to_csv, opart, SquaredHingeLoss\n",
    "\n",
    "np.set_printoptions(precision=3)\n",
    "np.random.seed(123)\n",
    "torch.manual_seed(123)"
   ]
  },
  {
   "cell_type": "code",
   "execution_count": 12,
   "metadata": {},
   "outputs": [],
   "source": [
    "# data\n",
    "data = pd.read_csv('1.genome_learning_data/seq_features.csv')['count'].to_numpy()\n",
    "data = np.log(np.log(data)).reshape(-1,1)\n",
    "data = torch.FloatTensor(data)\n",
    "\n",
    "target_df_1 = pd.read_csv('1.genome_learning_data/target_lambda_fold1_base_e.csv')\n",
    "target_df_2 = pd.read_csv('1.genome_learning_data/target_lambda_fold2_base_e.csv')\n",
    "\n",
    "targets_low_1  = target_df_1.iloc[:, 1:2].to_numpy()\n",
    "targets_high_1 = target_df_1.iloc[:, 2:3].to_numpy()\n",
    "targets_low_2  = target_df_2.iloc[:, 1:2].to_numpy()\n",
    "targets_high_2 = target_df_2.iloc[:, 2:3].to_numpy()\n",
    "\n",
    "targets_low_1  = torch.FloatTensor(targets_low_1)\n",
    "targets_high_1 = torch.FloatTensor(targets_high_1)\n",
    "targets_low_2  = torch.FloatTensor(targets_low_2)\n",
    "targets_high_2 = torch.FloatTensor(targets_high_2)\n",
    "\n",
    "y1 = torch.cat((targets_low_1, targets_high_1), dim=1)\n",
    "y2 = torch.cat((targets_low_2, targets_high_2), dim=1)"
   ]
  },
  {
   "cell_type": "code",
   "execution_count": 13,
   "metadata": {},
   "outputs": [],
   "source": [
    "# Define the linear model\n",
    "class LinearModel(nn.Module):\n",
    "    def __init__(self, input_size):\n",
    "        super(LinearModel, self).__init__()\n",
    "        self.fc1 = nn.Linear(input_size, 1)\n",
    "\n",
    "    def forward(self, x):\n",
    "        return self.fc1(x)"
   ]
  },
  {
   "cell_type": "code",
   "execution_count": 14,
   "metadata": {},
   "outputs": [
    {
     "name": "stdout",
     "output_type": "stream",
     "text": [
      "Epoch     0, Loss_1:   3.3376, Loss_1_test:   3.0308, Loss_2:   2.8394, Loss_2_test:   3.0363\n",
      "Epoch  1000, Loss_1:   2.9092, Loss_1_test:   2.7616, Loss_2:   2.6496, Loss_2_test:   2.6954\n",
      "Epoch  2000, Loss_1:   2.6138, Loss_1_test:   2.6095, Loss_2:   2.5712, Loss_2_test:   2.5055\n",
      "Epoch  3000, Loss_1:   2.4283, Loss_1_test:   2.5496, Loss_2:   2.5524, Loss_2_test:   2.4204\n",
      "Epoch  4000, Loss_1:   2.3185, Loss_1_test:   2.5586, Loss_2:   2.5501, Loss_2_test:   2.3899\n",
      "Epoch  5000, Loss_1:   2.2533, Loss_1_test:   2.6162, Loss_2:   2.5500, Loss_2_test:   2.3858\n",
      "Epoch  6000, Loss_1:   2.2210, Loss_1_test:   2.6971, Loss_2:   2.5498, Loss_2_test:   2.3859\n",
      "Epoch  7000, Loss_1:   2.2198, Loss_1_test:   2.7202, Loss_2:   2.5495, Loss_2_test:   2.3858\n",
      "Epoch  8000, Loss_1:   2.2196, Loss_1_test:   2.7316, Loss_2:   2.5490, Loss_2_test:   2.3863\n",
      "Epoch  9000, Loss_1:   2.2196, Loss_1_test:   2.7347, Loss_2:   2.5485, Loss_2_test:   2.3878\n",
      "Epoch 10000, Loss_1:   2.2196, Loss_1_test:   2.7349, Loss_2:   2.5478, Loss_2_test:   2.3888\n"
     ]
    }
   ],
   "source": [
    "# Instantiate the model, define custom loss function, and optimizer\n",
    "model1 = LinearModel(input_size = 1)\n",
    "model2 = LinearModel(input_size = 1)\n",
    "\n",
    "squared_hinge_loss = SquaredHingeLoss(margin=1.5, low_lim=-8, high_lim=8)\n",
    "optimizer1 = optim.Adam(model1.parameters(), lr=0.0001)\n",
    "optimizer2 = optim.Adam(model2.parameters(), lr=0.0001)\n",
    "\n",
    "# Training loop\n",
    "min_loss_1_test = float('inf')\n",
    "min_loss_2_test = float('inf')\n",
    "for epoch in range(10001):\n",
    "    # Forward pass\n",
    "    outputs1 = model1(data)\n",
    "    outputs2 = model2(data)\n",
    "    \n",
    "    # Compute the custom loss\n",
    "    loss_1 = squared_hinge_loss(outputs1, y1)\n",
    "    loss_2 = squared_hinge_loss(outputs2, y2)\n",
    "\n",
    "    loss_1_test = squared_hinge_loss(outputs1, y2)\n",
    "    loss_2_test = squared_hinge_loss(outputs2, y1)\n",
    "    \n",
    "    # Backward pass and optimization\n",
    "    optimizer1.zero_grad()\n",
    "    loss_1.backward()\n",
    "    optimizer1.step()\n",
    "\n",
    "    optimizer2.zero_grad()\n",
    "    loss_2.backward()\n",
    "    optimizer2.step()\n",
    "\n",
    "    # save models\n",
    "    if loss_1_test < min_loss_1_test:\n",
    "        min_loss_1_test = loss_1_test\n",
    "        torch.save(model1.state_dict(), '1.genome_saved_models/model1_linear_best.pth')\n",
    "    \n",
    "    if loss_2_test < min_loss_2_test:\n",
    "        min_loss_2_test = loss_2_test\n",
    "        torch.save(model2.state_dict(), '1.genome_saved_models/model2_linear_best.pth')\n",
    "    \n",
    "    # Print the loss every 100 epochs\n",
    "    if (epoch) % 1000 == 0:\n",
    "        print(f'Epoch {epoch:5d}, Loss_1: {loss_1.item():8.4f}, Loss_1_test: {loss_1_test.item():8.4f}, Loss_2: {loss_2.item():8.4f}, Loss_2_test: {loss_2_test.item():8.4f}')"
   ]
  },
  {
   "cell_type": "code",
   "execution_count": 15,
   "metadata": {},
   "outputs": [],
   "source": [
    "# torch.save(model1.state_dict(), '1.genome_saved_models/model1_linear_best.pth')\n",
    "# torch.save(model2.state_dict(), '1.genome_saved_models/model2_linear_best.pth')"
   ]
  },
  {
   "cell_type": "code",
   "execution_count": 16,
   "metadata": {},
   "outputs": [
    {
     "data": {
      "text/plain": [
       "LinearModel(\n",
       "  (fc1): Linear(in_features=1, out_features=1, bias=True)\n",
       ")"
      ]
     },
     "execution_count": 16,
     "metadata": {},
     "output_type": "execute_result"
    }
   ],
   "source": [
    "# Load model1\n",
    "model1 = LinearModel(input_size=1)\n",
    "model1.load_state_dict(torch.load('1.genome_saved_models/model1_linear_best.pth'))\n",
    "model1.eval()  # Set the model to evaluation mode\n",
    "\n",
    "# Load model2\n",
    "model2 = LinearModel(input_size=1)\n",
    "model2.load_state_dict(torch.load('1.genome_saved_models/model2_linear_best.pth'))\n",
    "model2.eval()  # Set the model to evaluation mode"
   ]
  },
  {
   "cell_type": "code",
   "execution_count": 17,
   "metadata": {},
   "outputs": [
    {
     "name": "stdout",
     "output_type": "stream",
     "text": [
      "Parameter: fc1.weight, Value: tensor([[-0.1333]])\n",
      "Parameter: fc1.bias, Value: tensor([0.3075])\n"
     ]
    }
   ],
   "source": [
    "for name, param in model1.named_parameters():\n",
    "    print(f\"Parameter: {name}, Value: {param.data}\")"
   ]
  },
  {
   "cell_type": "code",
   "execution_count": 18,
   "metadata": {},
   "outputs": [
    {
     "name": "stdout",
     "output_type": "stream",
     "text": [
      "Parameter: fc1.weight, Value: tensor([[-0.2770]])\n",
      "Parameter: fc1.bias, Value: tensor([0.5791])\n"
     ]
    }
   ],
   "source": [
    "for name, param in model2.named_parameters():\n",
    "    print(f\"Parameter: {name}, Value: {param.data}\")"
   ]
  },
  {
   "cell_type": "code",
   "execution_count": 19,
   "metadata": {},
   "outputs": [],
   "source": [
    "with torch.no_grad():\n",
    "    ldas1 = np.e**(model1(data).numpy()).reshape(-1)\n",
    "    ldas2 = np.e**(model2(data).numpy()).reshape(-1)"
   ]
  },
  {
   "cell_type": "code",
   "execution_count": 20,
   "metadata": {},
   "outputs": [],
   "source": [
    "seqs   = gen_data_dict('sequence_label_data/genome/signals.gz')\n",
    "labels = gen_data_dict('sequence_label_data/genome/labels.gz')\n",
    "\n",
    "header = ['sequenceID', 'fold_1_total_labels', 'fold_2_total_labels', 'fold_1_fp_errs', 'fold_1_fn_errs', 'fold_1_tp', 'fold_1_tn', 'fold_2_fp_errs', 'fold_2_fn_errs', 'fold_2_tp', 'fold_2_tn',]\n",
    "\n",
    "for i in range(len(seqs)):\n",
    "    # generate data\n",
    "    sequence, neg_start_1, neg_end_1, pos_start_1, pos_end_1, neg_start_2, neg_end_2, pos_start_2, pos_end_2 = get_data(i, seqs=seqs, labels=labels)\n",
    "\n",
    "    # get total labels\n",
    "    fold1_total_labels = len(neg_start_1) + len(pos_start_1)\n",
    "    fold2_total_labels = len(neg_start_2) + len(pos_start_2)\n",
    "\n",
    "    # run each lambda and record it into csv file\n",
    "    row = [seqs[i][0], fold1_total_labels, fold2_total_labels]\n",
    "\n",
    "    chpnt_fold1 = opart(ldas2[i], sequence)\n",
    "    chpnt_fold2 = opart(ldas1[i], sequence)\n",
    "\n",
    "    err_1 = error_count(chpnt_fold1, neg_start_1, neg_end_1, pos_start_1, pos_end_1)\n",
    "    err_2 = error_count(chpnt_fold2, neg_start_2, neg_end_2, pos_start_2, pos_end_2)\n",
    "    \n",
    "    row.append(err_1[0])\n",
    "    row.append(err_1[1])\n",
    "    row.append(err_1[2])\n",
    "    row.append(err_1[3])\n",
    "    row.append(err_2[0])\n",
    "    row.append(err_2[1])\n",
    "    row.append(err_2[2])\n",
    "    row.append(err_2[3])\n",
    "\n",
    "    write_to_csv('1.genome_learning_output/linear.csv', header, row)"
   ]
  }
 ],
 "metadata": {
  "kernelspec": {
   "display_name": "Python 3",
   "language": "python",
   "name": "python3"
  },
  "language_info": {
   "codemirror_mode": {
    "name": "ipython",
    "version": 3
   },
   "file_extension": ".py",
   "mimetype": "text/x-python",
   "name": "python",
   "nbconvert_exporter": "python",
   "pygments_lexer": "ipython3",
   "version": "3.11.7"
  }
 },
 "nbformat": 4,
 "nbformat_minor": 2
}
