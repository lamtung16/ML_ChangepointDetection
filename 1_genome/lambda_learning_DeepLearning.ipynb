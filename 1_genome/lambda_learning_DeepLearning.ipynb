{
 "cells": [
  {
   "cell_type": "code",
   "execution_count": 1,
   "metadata": {},
   "outputs": [
    {
     "data": {
      "text/plain": [
       "<torch._C.Generator at 0x1a5fbcafcf0>"
      ]
     },
     "execution_count": 1,
     "metadata": {},
     "output_type": "execute_result"
    }
   ],
   "source": [
    "import torch\n",
    "import torch.nn as nn\n",
    "import torch.optim as optim\n",
    "from sklearn.model_selection import KFold\n",
    "import numpy as np\n",
    "import pandas as pd\n",
    "from joblib import Parallel, delayed\n",
    "\n",
    "from ipynb.fs.full.utility_functions import gen_data_dict, get_data, error_count, opart, SquaredHingeLoss, show_error_rate\n",
    "\n",
    "np.random.seed(4)\n",
    "torch.manual_seed(4)"
   ]
  },
  {
   "cell_type": "code",
   "execution_count": 2,
   "metadata": {},
   "outputs": [],
   "source": [
    "def normalize_data(data):\n",
    "    mean = data.mean(dim=0)\n",
    "    std  = data.std(dim=0)\n",
    "    norm_data = (data - mean) / std\n",
    "    return norm_data"
   ]
  },
  {
   "cell_type": "code",
   "execution_count": 3,
   "metadata": {},
   "outputs": [],
   "source": [
    "# data (inputs)\n",
    "\n",
    "# chosen_feature = ['std_deviation', 'count', 'sum_diff', 'range_value', 'abs_skewness']\n",
    "chosen_feature = ['count', 'sum_diff', 'range_value']\n",
    "data = torch.FloatTensor(pd.read_csv('1_training_data/seq_features.csv').iloc[:, 1:][chosen_feature].to_numpy())\n",
    "X = normalize_data(data)"
   ]
  },
  {
   "cell_type": "code",
   "execution_count": 4,
   "metadata": {},
   "outputs": [],
   "source": [
    "# data (targets)\n",
    "target_df_1 = pd.read_csv('1_training_data/target_lambda_fold1_base_e.csv')\n",
    "target_df_2 = pd.read_csv('1_training_data/target_lambda_fold2_base_e.csv')\n",
    "\n",
    "targets_low_1  = torch.FloatTensor(target_df_1.iloc[:, 1:2].to_numpy())\n",
    "targets_high_1 = torch.FloatTensor(target_df_1.iloc[:, 2:3].to_numpy())\n",
    "targets_low_2  = torch.FloatTensor(target_df_2.iloc[:, 1:2].to_numpy())\n",
    "targets_high_2 = torch.FloatTensor(target_df_2.iloc[:, 2:3].to_numpy())\n",
    "\n",
    "y1_raw = torch.cat((targets_low_1, targets_high_1), dim=1)\n",
    "y2_raw = torch.cat((targets_low_2, targets_high_2), dim=1)"
   ]
  },
  {
   "cell_type": "code",
   "execution_count": 5,
   "metadata": {},
   "outputs": [],
   "source": [
    "# filter\n",
    "idx_fold1 = [idx for idx, item in enumerate(y1_raw) if item[0] > -7 and item[1] < 7]\n",
    "X1 = X[idx_fold1]\n",
    "y1 = torch.mean(y1_raw[idx_fold1], axis=1).reshape(-1,1)\n",
    "\n",
    "idx_fold2 = [idx for idx, item in enumerate(y2_raw) if item[0] > -7 and item[1] < 7]\n",
    "X2 = X[idx_fold2]\n",
    "y2 = torch.mean(y2_raw[idx_fold2], axis=1).reshape(-1,1)"
   ]
  },
  {
   "cell_type": "code",
   "execution_count": 6,
   "metadata": {},
   "outputs": [
    {
     "name": "stdout",
     "output_type": "stream",
     "text": [
      "190 190\n",
      "313 313\n"
     ]
    }
   ],
   "source": [
    "print(len(X1), len(y1))\n",
    "print(len(X2), len(y2))"
   ]
  },
  {
   "cell_type": "code",
   "execution_count": 7,
   "metadata": {},
   "outputs": [],
   "source": [
    "class MyModel(nn.Module):\n",
    "    def __init__(self, input_size, hidden_layers, hidden_size):\n",
    "        super(MyModel, self).__init__()\n",
    "        self.hidden_layers = hidden_layers\n",
    "        self.hidden_size   = hidden_size\n",
    "        \n",
    "        # Define input layer\n",
    "        self.input_layer = nn.Linear(input_size, hidden_size)\n",
    "        \n",
    "        # Define hidden layers\n",
    "        self.hidden = nn.ModuleList([nn.Linear(hidden_size, hidden_size) for _ in range(hidden_layers)])\n",
    "        \n",
    "        # Define output layer\n",
    "        self.output_layer = nn.Linear(hidden_size, 1)\n",
    "\n",
    "    def forward(self, x):\n",
    "        # Forward pass through input layer\n",
    "        x = torch.relu(self.input_layer(x))\n",
    "        \n",
    "        # Forward pass through hidden layers\n",
    "        for layer in self.hidden:\n",
    "            x = torch.relu(layer(x))\n",
    "        \n",
    "        # Forward pass through output layer\n",
    "        x = self.output_layer(x)\n",
    "        return x"
   ]
  },
  {
   "cell_type": "code",
   "execution_count": 8,
   "metadata": {},
   "outputs": [],
   "source": [
    "def cv_learn(X1, X2, y1, y2, n_hiddens, layer_size):\n",
    "    # Define the number of folds for cross-validation\n",
    "    kf = KFold(n_splits=2, shuffle=True, random_state=123)\n",
    "\n",
    "    # loss function\n",
    "    loss_func = torch.nn.MSELoss()\n",
    "\n",
    "    # learn best ite from fold 1\n",
    "    best_ites_1 = []\n",
    "    for train_index, val_index in kf.split(X1):\n",
    "        # Split the data into training and validation sets\n",
    "        X1_train_tensor, X1_val_tensor = X1[train_index], X1[val_index]\n",
    "        y1_train_tensor, y1_val_tensor = y1[train_index], y1[val_index]\n",
    "\n",
    "        # Define your model, loss, and optimizer\n",
    "        model1 = MyModel(input_size=X1_train_tensor.shape[1], hidden_layers=n_hiddens, hidden_size=layer_size)\n",
    "        optimizer1 = optim.Adam(model1.parameters(), lr=0.001)\n",
    "\n",
    "        # Training loop for the specified number of iterations\n",
    "        val_losses_1 = []\n",
    "        for _ in range(5000):\n",
    "            loss1      = loss_func(model1(X1_train_tensor), y1_train_tensor)\n",
    "            val_loss_1 = loss_func(model1(X1_val_tensor),   y1_val_tensor)\n",
    "            optimizer1.zero_grad()\n",
    "            loss1.backward()\n",
    "            optimizer1.step()\n",
    "\n",
    "            val_losses_1.append(val_loss_1.item())\n",
    "        \n",
    "        best_ite_1 = np.argmin(val_losses_1) + 1\n",
    "        best_ites_1.append(best_ite_1)\n",
    "\n",
    "    # learn best ite from fold 2\n",
    "    best_ites_2 = []\n",
    "    for train_index, val_index in kf.split(X2):\n",
    "        # Split the data into training and validation sets\n",
    "        X2_train_tensor, X2_val_tensor = X2[train_index], X2[val_index]\n",
    "        y2_train_tensor, y2_val_tensor = y2[train_index], y2[val_index]\n",
    "\n",
    "        # Define your model, loss, and optimizer\n",
    "        model2 = MyModel(input_size=X2_train_tensor.shape[1], hidden_layers=n_hiddens, hidden_size=layer_size)\n",
    "        optimizer2 = optim.Adam(model2.parameters(), lr=0.001)\n",
    "\n",
    "        # Training loop for the specified number of iterations\n",
    "        val_losses_2 = []\n",
    "        for _ in range(5000):\n",
    "            loss2      = loss_func(model2(X2_train_tensor), y2_train_tensor)\n",
    "            val_loss_2 = loss_func(model2(X2_val_tensor),   y2_val_tensor)\n",
    "            optimizer2.zero_grad()\n",
    "            loss2.backward()\n",
    "            optimizer2.step()\n",
    "\n",
    "            val_losses_2.append(val_loss_2.item())\n",
    "        \n",
    "        best_ite_2 = np.argmin(val_losses_2) + 1\n",
    "        best_ites_2.append(best_ite_2)\n",
    "\n",
    "    best_no_ite_1 = int(np.mean(best_ites_1))\n",
    "    best_no_ite_2 = int(np.mean(best_ites_2))\n",
    "    \n",
    "    return best_no_ite_1, best_no_ite_2"
   ]
  },
  {
   "cell_type": "code",
   "execution_count": 9,
   "metadata": {},
   "outputs": [],
   "source": [
    "def train_model(X, y, n_hiddens, layer_size, n_ites):\n",
    "    model = MyModel(input_size=X.shape[1], hidden_layers=n_hiddens, hidden_size=layer_size)\n",
    "    # loss_func = SquaredHingeLoss(margin=1, low_lim=-7, high_lim=7)\n",
    "    loss_func = torch.nn.MSELoss()\n",
    "    optimizer = optim.Adam(model.parameters(), lr=0.001)\n",
    "\n",
    "    # Training loop\n",
    "    for _ in range(n_ites):\n",
    "        # Forward pass\n",
    "        outputs = model(X)\n",
    "        \n",
    "        # Compute the custom loss\n",
    "        loss = loss_func(outputs, y)\n",
    "        \n",
    "        # Backward pass and optimization\n",
    "        optimizer.zero_grad()\n",
    "        loss.backward()\n",
    "        optimizer.step()\n",
    "    \n",
    "    return model"
   ]
  },
  {
   "cell_type": "code",
   "execution_count": 10,
   "metadata": {},
   "outputs": [],
   "source": [
    "def get_df_stat(ldas1, ldas2, seqs, labels):\n",
    "    header = ['sequenceID', 'log_lambda_test_fold1', 'log_lambda_test_fold2', 'target_1', 'target_2', 'fold_1_total_labels', 'fold_2_total_labels', 'fold_1_fp_errs', 'fold_1_fn_errs', 'fold_1_tp', 'fold_1_tn', 'fold_2_fp_errs', 'fold_2_fn_errs', 'fold_2_tp', 'fold_2_tn']\n",
    "    rows = []\n",
    "    for i in range(len(seqs)):\n",
    "        # generate data\n",
    "        sequence, neg_start_1, neg_end_1, pos_start_1, pos_end_1, neg_start_2, neg_end_2, pos_start_2, pos_end_2 = get_data(i, seqs=seqs, labels=labels)\n",
    "\n",
    "        # get total labels\n",
    "        fold1_total_labels = len(neg_start_1) + len(pos_start_1)\n",
    "        fold2_total_labels = len(neg_start_2) + len(pos_start_2)\n",
    "\n",
    "        # run each lambda and record it into csv file\n",
    "        row  = [seqs[i][0], ldas2[i], ldas1[i], list(y1_raw[i].numpy()), list(y2_raw[i].numpy()), fold1_total_labels, fold2_total_labels]\n",
    "\n",
    "        chpnt_fold1 = opart(np.exp(ldas2[i]), sequence)\n",
    "        chpnt_fold2 = opart(np.exp(ldas1[i]), sequence)\n",
    "\n",
    "        err_1 = error_count(chpnt_fold1, neg_start_1, neg_end_1, pos_start_1, pos_end_1)\n",
    "        err_2 = error_count(chpnt_fold2, neg_start_2, neg_end_2, pos_start_2, pos_end_2)\n",
    "        \n",
    "        for err in [err_1, err_2]:\n",
    "            row.extend(err[:4])\n",
    "\n",
    "        rows.append(row)\n",
    "    \n",
    "    df = pd.DataFrame(rows, columns=header)\n",
    "    return df"
   ]
  },
  {
   "cell_type": "code",
   "execution_count": 11,
   "metadata": {},
   "outputs": [],
   "source": [
    "def try_model(X1, X2, y1, y2, config):\n",
    "    n_hiddens  = config['n_hiddens']\n",
    "    layer_size = config['layer_size']\n",
    "\n",
    "    best_no_ite_1, best_no_ite_2 = cv_learn(X1, X2, y1, y2, n_hiddens, layer_size)\n",
    "\n",
    "    model1 = train_model(X1, y1, n_hiddens, layer_size, best_no_ite_1)\n",
    "    model2 = train_model(X2, y2, n_hiddens, layer_size, best_no_ite_2)\n",
    "\n",
    "    torch.save(model1.state_dict(), '3_learned_models/2_deep/model1_' + str(n_hiddens) + '_' + str(layer_size) + '.pth')\n",
    "    torch.save(model2.state_dict(), '3_learned_models/2_deep/model2_' + str(n_hiddens) + '_' + str(layer_size) + '.pth')\n",
    "\n",
    "    with torch.no_grad():\n",
    "        ldas1 = model1(X).numpy().reshape(-1)\n",
    "        ldas2 = model2(X).numpy().reshape(-1)\n",
    "\n",
    "    seqs   = gen_data_dict('0_sequences_labels/signals.gz')\n",
    "    labels = gen_data_dict('0_sequences_labels/labels.gz')\n",
    "    df = get_df_stat(ldas1, ldas2, seqs, labels)\n",
    "\n",
    "    return df"
   ]
  },
  {
   "cell_type": "code",
   "execution_count": 12,
   "metadata": {},
   "outputs": [],
   "source": [
    "# Define the values for n_hiddens and layer_size\n",
    "n_hiddens_values  = [0, 1, 2, 3]\n",
    "layer_size_values = [4, 8, 16, 32]\n",
    "\n",
    "# Create a list of dictionaries\n",
    "configs = [{'n_hiddens': n, 'layer_size': s} for n in n_hiddens_values for s in layer_size_values]"
   ]
  },
  {
   "cell_type": "code",
   "execution_count": 13,
   "metadata": {},
   "outputs": [],
   "source": [
    "# choose best model\n",
    "dfs = Parallel(n_jobs=32)(delayed(try_model)(X1, X2, y1, y2, configs[i]) for i in range(0, len(configs)))"
   ]
  },
  {
   "cell_type": "code",
   "execution_count": 14,
   "metadata": {},
   "outputs": [
    {
     "name": "stdout",
     "output_type": "stream",
     "text": [
      "n_hiddens: 0 \t layer_size:  4 \t fold1.test: 78.86 \t fold2.test: 77.50 \t avg_acc: 78.18\n",
      "n_hiddens: 0 \t layer_size:  8 \t fold1.test: 78.72 \t fold2.test: 76.15 \t avg_acc: 77.44\n",
      "n_hiddens: 0 \t layer_size: 16 \t fold1.test: 79.26 \t fold2.test: 79.23 \t avg_acc: 79.24\n",
      "n_hiddens: 0 \t layer_size: 32 \t fold1.test: 80.19 \t fold2.test: 80.77 \t avg_acc: 80.48\n",
      "n_hiddens: 1 \t layer_size:  4 \t fold1.test: 77.39 \t fold2.test: 79.23 \t avg_acc: 78.31\n",
      "n_hiddens: 1 \t layer_size:  8 \t fold1.test: 80.05 \t fold2.test: 80.38 \t avg_acc: 80.22\n",
      "n_hiddens: 1 \t layer_size: 16 \t fold1.test: 80.98 \t fold2.test: 78.65 \t avg_acc: 79.82\n",
      "n_hiddens: 1 \t layer_size: 32 \t fold1.test: 79.79 \t fold2.test: 80.19 \t avg_acc: 79.99\n",
      "n_hiddens: 2 \t layer_size:  4 \t fold1.test: 81.12 \t fold2.test: 77.12 \t avg_acc: 79.12\n",
      "n_hiddens: 2 \t layer_size:  8 \t fold1.test: 79.65 \t fold2.test: 76.54 \t avg_acc: 78.10\n",
      "n_hiddens: 2 \t layer_size: 16 \t fold1.test: 78.19 \t fold2.test: 80.96 \t avg_acc: 79.58\n",
      "n_hiddens: 2 \t layer_size: 32 \t fold1.test: 80.19 \t fold2.test: 80.38 \t avg_acc: 80.29\n",
      "n_hiddens: 3 \t layer_size:  4 \t fold1.test: 81.12 \t fold2.test: 77.12 \t avg_acc: 79.12\n",
      "n_hiddens: 3 \t layer_size:  8 \t fold1.test: 81.78 \t fold2.test: 77.50 \t avg_acc: 79.64\n",
      "n_hiddens: 3 \t layer_size: 16 \t fold1.test: 80.32 \t fold2.test: 80.58 \t avg_acc: 80.45\n",
      "n_hiddens: 3 \t layer_size: 32 \t fold1.test: 79.65 \t fold2.test: 79.62 \t avg_acc: 79.63\n"
     ]
    }
   ],
   "source": [
    "avg_acc = []\n",
    "for i in range(len(dfs)):\n",
    "    rate1, rate2,_,_,_,_ = show_error_rate(dfs[i])\n",
    "    avg_acc.append((rate1 + rate2)/2)\n",
    "    print(\"n_hiddens: %1d \\t layer_size: %2d \\t fold1.test: %5.2f \\t fold2.test: %5.2f \\t avg_acc: %5.2f\" % \n",
    "          (configs[i]['n_hiddens'], configs[i]['layer_size'], rate1, rate2, (rate1 + rate2)/2))"
   ]
  },
  {
   "cell_type": "code",
   "execution_count": 15,
   "metadata": {},
   "outputs": [],
   "source": [
    "df = dfs[np.argmax(avg_acc)]\n",
    "df.to_csv('2_learning_record/deep.csv', index=False)"
   ]
  },
  {
   "cell_type": "code",
   "execution_count": 18,
   "metadata": {},
   "outputs": [
    {
     "data": {
      "text/plain": [
       "(80.18617021276596, 80.76923076923077, 752, 520, 149, 100)"
      ]
     },
     "execution_count": 18,
     "metadata": {},
     "output_type": "execute_result"
    }
   ],
   "source": [
    "show_error_rate(df)"
   ]
  }
 ],
 "metadata": {
  "kernelspec": {
   "display_name": "Python 3",
   "language": "python",
   "name": "python3"
  },
  "language_info": {
   "codemirror_mode": {
    "name": "ipython",
    "version": 3
   },
   "file_extension": ".py",
   "mimetype": "text/x-python",
   "name": "python",
   "nbconvert_exporter": "python",
   "pygments_lexer": "ipython3",
   "version": "3.11.7"
  }
 },
 "nbformat": 4,
 "nbformat_minor": 2
}
