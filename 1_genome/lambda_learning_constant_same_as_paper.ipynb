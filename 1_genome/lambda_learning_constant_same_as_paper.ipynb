{
 "cells": [
  {
   "cell_type": "code",
   "execution_count": 1,
   "metadata": {},
   "outputs": [],
   "source": [
    "import numpy as np\n",
    "import pandas as pd\n",
    "import random\n",
    "from ipynb.fs.full.utility_functions import gen_data_dict, get_data, error_count, opart, show_error_rate"
   ]
  },
  {
   "cell_type": "code",
   "execution_count": 2,
   "metadata": {},
   "outputs": [],
   "source": [
    "target_fold1_df = pd.read_csv('1_training_data/target_lambda_fold1_base_10.csv')\n",
    "target_fold2_df = pd.read_csv('1_training_data/target_lambda_fold2_base_10.csv')"
   ]
  },
  {
   "cell_type": "code",
   "execution_count": 3,
   "metadata": {},
   "outputs": [],
   "source": [
    "error_fold1_df = pd.read_csv('1_training_data/errors_fold1_base_10.csv')\n",
    "error_fold2_df = pd.read_csv('1_training_data/errors_fold2_base_10.csv')"
   ]
  },
  {
   "cell_type": "code",
   "execution_count": 4,
   "metadata": {},
   "outputs": [],
   "source": [
    "seqs   = gen_data_dict('0_sequences_labels/signals.gz')\n",
    "labels = gen_data_dict('0_sequences_labels/labels.gz')"
   ]
  },
  {
   "cell_type": "code",
   "execution_count": 5,
   "metadata": {},
   "outputs": [
    {
     "name": "stdout",
     "output_type": "stream",
     "text": [
      "231\n"
     ]
    }
   ],
   "source": [
    "# Test fold 2\n",
    "# random.seed(1524)\n",
    "\n",
    "total_error = 0\n",
    "for i in range(len(seqs)):\n",
    "    target_interval = target_fold1_df[target_fold1_df['sequenceID'] == seqs[i][0]].to_numpy()[0][1:]\n",
    "    if(target_interval[1] == np.inf):\n",
    "        target_interval[1] = 5\n",
    "    if(target_interval[0] == -np.inf):\n",
    "        target_interval[0] = -5\n",
    "\n",
    "    list_of_log_lambda = np.arange(target_interval[0], target_interval[1] + 0.5, 0.5)\n",
    "\n",
    "    errors = []\n",
    "    for j in range(len(list_of_log_lambda)):\n",
    "        errors.append(error_fold2_df.iloc[i][str(list_of_log_lambda[j])])\n",
    "\n",
    "    # total_error += random.choice(errors)\n",
    "    total_error += errors[int(len(errors)/2)]\n",
    "\n",
    "print(total_error)"
   ]
  },
  {
   "cell_type": "code",
   "execution_count": 6,
   "metadata": {},
   "outputs": [
    {
     "name": "stdout",
     "output_type": "stream",
     "text": [
      "200\n"
     ]
    }
   ],
   "source": [
    "# Test fold 1\n",
    "total_error = 0\n",
    "for i in range(len(seqs)):\n",
    "    target_interval = target_fold2_df[target_fold2_df['sequenceID'] == seqs[i][0]].to_numpy()[0][1:]\n",
    "    if(target_interval[1] == np.inf):\n",
    "        target_interval[1] = 5\n",
    "    if(target_interval[0] == -np.inf):\n",
    "        target_interval[0] = -5\n",
    "\n",
    "    list_of_log_lambda = np.arange(target_interval[0], target_interval[1] + 0.5, 0.5)\n",
    "\n",
    "    errors = []\n",
    "    for j in range(len(list_of_log_lambda)):\n",
    "        errors.append(error_fold1_df.iloc[i][str(list_of_log_lambda[j])])\n",
    "\n",
    "    total_error += errors[int(len(errors)/2)]\n",
    "\n",
    "print(total_error)"
   ]
  }
 ],
 "metadata": {
  "kernelspec": {
   "display_name": "Python 3",
   "language": "python",
   "name": "python3"
  },
  "language_info": {
   "codemirror_mode": {
    "name": "ipython",
    "version": 3
   },
   "file_extension": ".py",
   "mimetype": "text/x-python",
   "name": "python",
   "nbconvert_exporter": "python",
   "pygments_lexer": "ipython3",
   "version": "3.11.8"
  }
 },
 "nbformat": 4,
 "nbformat_minor": 2
}
