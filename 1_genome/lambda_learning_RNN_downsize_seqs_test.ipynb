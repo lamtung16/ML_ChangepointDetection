{
 "cells": [
  {
   "cell_type": "code",
   "execution_count": 1,
   "metadata": {},
   "outputs": [
    {
     "data": {
      "text/plain": [
       "<torch._C.Generator at 0x256788afd30>"
      ]
     },
     "execution_count": 1,
     "metadata": {},
     "output_type": "execute_result"
    }
   ],
   "source": [
    "import torch\n",
    "import torch.nn as nn\n",
    "import torch.optim as optim\n",
    "from sklearn.model_selection import KFold\n",
    "import numpy as np\n",
    "import pandas as pd\n",
    "import matplotlib.pyplot as plt\n",
    "from joblib import Parallel, delayed\n",
    "from ipynb.fs.full.utility_functions import gen_data_dict, get_data, error_count, opart, show_error_rate\n",
    "\n",
    "np.random.seed(32)\n",
    "torch.manual_seed(32)"
   ]
  },
  {
   "cell_type": "code",
   "execution_count": 2,
   "metadata": {},
   "outputs": [],
   "source": [
    "# hyper\n",
    "n_ites = 200\n",
    "downsize = 50"
   ]
  },
  {
   "cell_type": "code",
   "execution_count": 3,
   "metadata": {},
   "outputs": [],
   "source": [
    "def downsize_df(df, downsize):\n",
    "    return df.groupby(['sequenceID', df.groupby('sequenceID').cumcount() // downsize]).agg({'data.i': 'first', 'logratio': 'mean'}).reset_index(level=1, drop=True).reset_index()"
   ]
  },
  {
   "cell_type": "code",
   "execution_count": 4,
   "metadata": {},
   "outputs": [],
   "source": [
    "# sequences\n",
    "seqs = gen_data_dict('0_sequences_labels/signals.gz')\n",
    "labels = gen_data_dict('0_sequences_labels/labels.gz')\n",
    "\n",
    "downsized_seqs = ()\n",
    "for s in seqs:\n",
    "    new_seq = (s[0], downsize_df(s[1], len(s[1])//downsize+1))\n",
    "    downsized_seqs += (new_seq, )\n",
    "\n",
    "# target\n",
    "target_df_1 = pd.read_csv('1_training_data/target_lambda_fold1_base_e.csv')\n",
    "target_df_2 = pd.read_csv('1_training_data/target_lambda_fold2_base_e.csv')\n",
    "\n",
    "targets_low_1  = target_df_1.iloc[:, 1:2].to_numpy()\n",
    "targets_high_1 = target_df_1.iloc[:, 2:3].to_numpy()\n",
    "targets_low_2  = target_df_2.iloc[:, 1:2].to_numpy()\n",
    "targets_high_2 = target_df_2.iloc[:, 2:3].to_numpy()\n",
    "\n",
    "targets_low_1  = torch.FloatTensor(targets_low_1)\n",
    "targets_high_1 = torch.FloatTensor(targets_high_1)\n",
    "targets_low_2  = torch.FloatTensor(targets_low_2)\n",
    "targets_high_2 = torch.FloatTensor(targets_high_2)\n",
    "\n",
    "y1_raw = torch.cat((targets_low_1, targets_high_1), dim=1)\n",
    "y2_raw = torch.cat((targets_low_2, targets_high_2), dim=1)"
   ]
  },
  {
   "cell_type": "code",
   "execution_count": 5,
   "metadata": {},
   "outputs": [],
   "source": [
    "# filter\n",
    "idx_fold1 = [idx for idx, item in enumerate(y1_raw) if item[0] > -np.inf and item[1] < np.inf]\n",
    "X1 = [downsized_seqs[i] for i in idx_fold1]\n",
    "y1 = torch.mean(y1_raw[idx_fold1], axis=1).reshape(-1,1)\n",
    "\n",
    "idx_fold2 = [idx for idx, item in enumerate(y2_raw) if item[0] > -np.inf and item[1] < np.inf]\n",
    "X2 = [downsized_seqs[i] for i in idx_fold2]\n",
    "y2 = torch.mean(y2_raw[idx_fold2], axis=1).reshape(-1,1)"
   ]
  },
  {
   "cell_type": "code",
   "execution_count": 6,
   "metadata": {},
   "outputs": [
    {
     "name": "stdout",
     "output_type": "stream",
     "text": [
      "190 313\n",
      "190 313\n"
     ]
    }
   ],
   "source": [
    "print(len(X1), len(X2))\n",
    "print(len(y1), len(y2))"
   ]
  },
  {
   "cell_type": "code",
   "execution_count": 7,
   "metadata": {},
   "outputs": [],
   "source": [
    "# count = 0\n",
    "# for i in range(413):\n",
    "#     a = torch.mean(y1_raw, axis=1)[i]\n",
    "#     b = torch.mean(y2_raw, axis=1)[i]\n",
    "#     diff = torch.abs(a-b)\n",
    "#     if(a != torch.inf and b!=torch.inf):\n",
    "#         if(diff > 1):\n",
    "#             mark = 1\n",
    "#             count += 1\n",
    "#         else:\n",
    "#             mark = 0\n",
    "#         print(\"seq=%10s \\t y1=%5.3f \\t y2=%5.3f \\t diff=%5.3f \\t %d\" % (seqs[i][0], a.item(), b.item(), diff, mark))\n",
    "\n",
    "# print(\"count =\", count)"
   ]
  },
  {
   "cell_type": "code",
   "execution_count": 8,
   "metadata": {},
   "outputs": [],
   "source": [
    "# Define the RNN model\n",
    "class RNNModel(nn.Module):\n",
    "    def __init__(self, extracted_features, hidden_layers, hidden_size):\n",
    "        super(RNNModel, self).__init__()\n",
    "        # M1\n",
    "        self.rnn = nn.RNN(input_size=1, hidden_size=extracted_features, num_layers=1, nonlinearity='tanh', bias=True, batch_first=False)\n",
    "        # M2\n",
    "        self.hidden_layers = hidden_layers\n",
    "        self.hidden_size   = hidden_size\n",
    "        # Define input layer\n",
    "        self.input_layer = nn.Linear(extracted_features, hidden_size)\n",
    "        # Define hidden layers\n",
    "        self.hidden = nn.ModuleList([nn.Linear(hidden_size, hidden_size) for _ in range(hidden_layers)])\n",
    "        # Define output layer\n",
    "        self.output_layer = nn.Linear(hidden_size, 1)\n",
    "\n",
    "    def forward(self, x):\n",
    "        # M1\n",
    "        _, x = self.rnn(x)\n",
    "        # M2\n",
    "        # Forward pass through input layer\n",
    "        x = torch.relu(self.input_layer(x))\n",
    "        # Forward pass through hidden layers\n",
    "        for layer in self.hidden:\n",
    "            x = torch.relu(layer(x))\n",
    "        # Forward pass through output layer\n",
    "        x = self.output_layer(x)\n",
    "        return x"
   ]
  },
  {
   "cell_type": "code",
   "execution_count": 9,
   "metadata": {},
   "outputs": [],
   "source": [
    "def plot_loss(train_loss, val_loss, train_set_name, test_set_name):\n",
    "    epochs = range(1, len(train_loss) + 1)\n",
    "    plt.plot(epochs, train_loss, 'b', label='Training loss')\n",
    "    plt.plot(epochs, val_loss, 'r', label='Validation loss')\n",
    "    \n",
    "    # Find the index of the minimum validation loss\n",
    "    min_val_loss_index = val_loss.index(min(val_loss))\n",
    "    min_val_loss = val_loss[min_val_loss_index]\n",
    "    \n",
    "    # Mark the minimum validation loss point\n",
    "    plt.plot(min_val_loss_index + 1, min_val_loss, 'g*', markersize=10, label=f'Min Val epoch: {min_val_loss_index: 3d}')\n",
    "\n",
    "    plt.title('Train ' + train_set_name + \" Validate \" + test_set_name)\n",
    "    plt.xlabel('Epochs')\n",
    "    plt.ylabel('Loss')\n",
    "    plt.legend()\n",
    "    plt.show()"
   ]
  },
  {
   "cell_type": "code",
   "execution_count": 10,
   "metadata": {},
   "outputs": [],
   "source": [
    "def train_model(X, y, X_test, y_test, extracted_features, n_hiddens, layer_size, n_ites):\n",
    "    model = RNNModel(extracted_features=extracted_features, hidden_layers=n_hiddens, hidden_size=layer_size)\n",
    "    loss_func = torch.nn.MSELoss()\n",
    "    optimizer = optim.Adam(model.parameters(), lr=0.0001)\n",
    "\n",
    "    # Training loop\n",
    "    train_losses = []\n",
    "    val_losses = []\n",
    "    for i in range(n_ites+1):\n",
    "        loss_sum = 0.0\n",
    "        val_loss_sum = 0.0\n",
    "\n",
    "        for j in range(len(X)):\n",
    "            model.train()\n",
    "            optimizer.zero_grad()\n",
    "\n",
    "            seq = torch.tensor(X[j][1]['logratio'].to_numpy(), dtype=torch.float32).reshape(-1, 1)\n",
    "            output = model(seq)\n",
    "            loss = loss_func(output[0], y[j])\n",
    "            loss_sum += loss.item()\n",
    "\n",
    "            loss.backward()\n",
    "            optimizer.step()\n",
    "\n",
    "        train_losses.append(loss_sum / len(X))\n",
    "\n",
    "        with torch.no_grad():\n",
    "            for k in range(len(X_test)):\n",
    "                seq = torch.tensor(X_test[k][1]['logratio'].to_numpy(), dtype=torch.float32).reshape(-1, 1)\n",
    "                val_output = model(seq)\n",
    "                val_loss = loss_func(val_output[0], y_test[k])\n",
    "                val_loss_sum += val_loss.item()\n",
    "            val_losses.append(val_loss_sum / len(y_test))\n",
    "        \n",
    "        # print(\"epoch: %d \\t train_loss: %7.5f \\t test_loss: %7.5f\" % (i, loss_sum/len(X), val_loss_sum/len(y_test)))\n",
    "    \n",
    "    return model, train_losses, val_losses"
   ]
  },
  {
   "cell_type": "code",
   "execution_count": 11,
   "metadata": {},
   "outputs": [
    {
     "data": {
      "image/png": "[encoded data removed]",
      "text/plain": [
       "<Figure size 640x480 with 1 Axes>"
      ]
     },
     "metadata": {},
     "output_type": "display_data"
    }
   ],
   "source": [
    "model, train_losses, val_losses = train_model(X=X1, y=y1, X_test=X2, y_test=y2, extracted_features=12, n_hiddens=0, layer_size=8, n_ites=n_ites)\n",
    "plot_loss(train_losses, val_losses, train_set_name='X1', test_set_name='X2')"
   ]
  },
  {
   "cell_type": "code",
   "execution_count": 12,
   "metadata": {},
   "outputs": [],
   "source": [
    "model, train_losses, val_losses = train_model(X=X2, y=y2, X_test=X1, y_test=y1, extracted_features=12, n_hiddens=0, layer_size=8, n_ites=n_ites)\n",
    "plot_loss(train_losses, val_losses, train_set_name='X2', test_set_name='X1')"
   ]
  }
 ],
 "metadata": {
  "kernelspec": {
   "display_name": "Python 3",
   "language": "python",
   "name": "python3"
  },
  "language_info": {
   "codemirror_mode": {
    "name": "ipython",
    "version": 3
   },
   "file_extension": ".py",
   "mimetype": "text/x-python",
   "name": "python",
   "nbconvert_exporter": "python",
   "pygments_lexer": "ipython3",
   "version": "3.11.8"
  }
 },
 "nbformat": 4,
 "nbformat_minor": 2
}
