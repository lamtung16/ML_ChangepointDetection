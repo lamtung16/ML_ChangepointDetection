{
 "cells": [
  {
   "cell_type": "code",
   "execution_count": 1,
   "metadata": {},
   "outputs": [],
   "source": [
    "import pandas as pd"
   ]
  },
  {
   "cell_type": "code",
   "execution_count": 2,
   "metadata": {},
   "outputs": [],
   "source": [
    "BIC_df        = pd.read_csv('learning_output/BIC.csv')\n",
    "linear_svm_df = pd.read_csv('learning_output/linear_SVM.csv')\n",
    "linear_gd_df  = pd.read_csv('learning_output/linear_GD.csv')\n",
    "deep_df       = pd.read_csv('learning_output/deep.csv')\n",
    "deep2_df      = pd.read_csv('learning_output/deep_2.csv')"
   ]
  },
  {
   "cell_type": "code",
   "execution_count": 3,
   "metadata": {},
   "outputs": [
    {
     "name": "stdout",
     "output_type": "stream",
     "text": [
      "method:        BIC \t fold1.test: 72.74 \t fold2.test: 60.58\n",
      "method: linear-svm \t fold1.test: 76.46 \t fold2.test: 65.96\n",
      "method:  linear-gd \t fold1.test: 76.60 \t fold2.test: 66.15\n",
      "method:       deep \t fold1.test: 81.91 \t fold2.test: 73.85\n",
      "method:      deep2 \t fold1.test: 80.80 \t fold2.test: 72.25\n"
     ]
    }
   ],
   "source": [
    "for df in [BIC_df, linear_svm_df, linear_gd_df, deep_df, deep2_df]:\n",
    "    if(df is BIC_df):\n",
    "        method = \"BIC\"\n",
    "    elif(df is linear_svm_df):\n",
    "        method = \"linear-svm\"\n",
    "    elif(df is linear_gd_df):\n",
    "        method = \"linear-gd\"\n",
    "    elif(df is deep_df):\n",
    "        method = \"deep\"\n",
    "    elif(df is deep2_df):\n",
    "        method = \"deep2\"\n",
    "\n",
    "    fold1_total_errs = df['fold_2_errs'].sum()\n",
    "    fold2_total_errs = df['fold_2_errs'].sum()\n",
    "\n",
    "    fold1_total_labels = df['fold_1_total_labels'].sum()\n",
    "    fold2_total_labels = df['fold_2_total_labels'].sum()\n",
    "\n",
    "    rate1 = (fold1_total_labels - fold1_total_errs)/fold1_total_labels\n",
    "    rate2 = (fold2_total_labels - fold2_total_errs)/fold2_total_labels\n",
    "\n",
    "    print(\"method: %10s \\t fold1.test: %5.2f \\t fold2.test: %5.2f\" % (method, 100*rate1, 100*rate2))"
   ]
  }
 ],
 "metadata": {
  "kernelspec": {
   "display_name": "Python 3",
   "language": "python",
   "name": "python3"
  },
  "language_info": {
   "codemirror_mode": {
    "name": "ipython",
    "version": 3
   },
   "file_extension": ".py",
   "mimetype": "text/x-python",
   "name": "python",
   "nbconvert_exporter": "python",
   "pygments_lexer": "ipython3",
   "version": "3.11.7"
  }
 },
 "nbformat": 4,
 "nbformat_minor": 2
}
