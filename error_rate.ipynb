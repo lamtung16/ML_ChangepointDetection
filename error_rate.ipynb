{
 "cells": [
  {
   "cell_type": "code",
   "execution_count": 1,
   "metadata": {},
   "outputs": [],
   "source": [
    "import pandas as pd\n",
    "import matplotlib.pyplot as plt\n",
    "import numpy as np"
   ]
  },
  {
   "cell_type": "code",
   "execution_count": 2,
   "metadata": {},
   "outputs": [],
   "source": [
    "BIC_df    = pd.read_csv('1.genome_learning_output/BIC.csv')\n",
    "deep_df   = pd.read_csv('1.genome_learning_output/deep.csv')\n",
    "linear_df = pd.read_csv('1.genome_learning_output/linear.csv')\n",
    "rnn_df    = pd.read_csv('1.genome_learning_output/rnn.csv')"
   ]
  },
  {
   "cell_type": "code",
   "execution_count": 3,
   "metadata": {},
   "outputs": [
    {
     "name": "stdout",
     "output_type": "stream",
     "text": [
      "method:  BIC \t fold1.test: 70.35 \t fold2.test: 50.00 \t total_label_fold1: 752 \t total_label_fold2: 520 \t total_test_error_fold1: 223 \t total_test_error_fold2: 260\n",
      "method: linear \t fold1.test: 81.38 \t fold2.test: 75.00 \t total_label_fold1: 752 \t total_label_fold2: 520 \t total_test_error_fold1: 140 \t total_test_error_fold2: 130\n",
      "method: deep \t fold1.test: 81.65 \t fold2.test: 85.00 \t total_label_fold1: 752 \t total_label_fold2: 520 \t total_test_error_fold1: 138 \t total_test_error_fold2:  78\n",
      "method:  rnn \t fold1.test: 81.78 \t fold2.test: 85.77 \t total_label_fold1: 752 \t total_label_fold2: 520 \t total_test_error_fold1: 137 \t total_test_error_fold2:  74\n"
     ]
    }
   ],
   "source": [
    "rate1_list = []\n",
    "rate2_list = []\n",
    "for df in [BIC_df, linear_df, deep_df, rnn_df]:\n",
    "    if(df is BIC_df):\n",
    "        method = \"BIC\"\n",
    "    elif(df is deep_df):\n",
    "        method = \"deep\"\n",
    "    elif(df is linear_df):\n",
    "        method = \"linear\"\n",
    "    elif(df is rnn_df):\n",
    "        method = \"rnn\"\n",
    "\n",
    "    fold1_total_errs = df['fold_1_errs'].sum()\n",
    "    fold2_total_errs = df['fold_2_errs'].sum()\n",
    "\n",
    "    fold1_total_labels = df['fold_1_total_labels'].sum()\n",
    "    fold2_total_labels = df['fold_2_total_labels'].sum()\n",
    "\n",
    "    rate1 = (fold1_total_labels - fold1_total_errs)/fold1_total_labels\n",
    "    rate2 = (fold2_total_labels - fold2_total_errs)/fold2_total_labels\n",
    "\n",
    "    rate1_list.append(round(100*rate1, 2))\n",
    "    rate2_list.append(round(100*rate2, 2))\n",
    "\n",
    "    print(\"method: %4s \\t fold1.test: %5.2f \\t fold2.test: %5.2f \\t total_label_fold1: %3d \\t total_label_fold2: %3d \\t total_test_error_fold1: %3d \\t total_test_error_fold2: %3d\" \n",
    "          % (method, 100*rate1, 100*rate2, fold1_total_labels, fold2_total_labels, fold1_total_errs, fold2_total_errs))"
   ]
  },
  {
   "cell_type": "code",
   "execution_count": 4,
   "metadata": {},
   "outputs": [],
   "source": [
    "# methods = ['BIC', 'Linear', 'A1 (MLP)', 'A2 (RNN)', 'A2 (RNN_ReLU)']\n",
    "# dataset_1_results = np.array(rate1_list)\n",
    "# dataset_2_results = np.array(rate2_list)\n",
    "\n",
    "# # Plotting\n",
    "# bar_width = 0.35\n",
    "# index = np.arange(len(methods))\n",
    "\n",
    "# fig, ax = plt.subplots()\n",
    "# bar1 = ax.bar(index, dataset_1_results, bar_width, label='fold1.test')\n",
    "# bar2 = ax.bar(index + bar_width, dataset_2_results, bar_width, label='fold2.test')\n",
    "\n",
    "# # Add numbers above each column\n",
    "# for i, v in enumerate(dataset_1_results):\n",
    "#     ax.text(i, v + 1, str(v), ha='center', va='bottom')\n",
    "\n",
    "# for i, v in enumerate(dataset_2_results):\n",
    "#     ax.text(i + bar_width, v + 1, str(v), ha='center', va='bottom')\n",
    "\n",
    "# # Add labels, title, and legend\n",
    "# ax.set_xlabel('Methods')\n",
    "# ax.set_ylabel('Correct Label Prediction Percentage')\n",
    "# ax.set_title('Results by Method')\n",
    "# ax.set_xticks(index + bar_width / 2)\n",
    "# ax.set_xticklabels(methods)\n",
    "# ax.legend()\n",
    "\n",
    "# # Show the plot\n",
    "# # plt.savefig('output_plot.pdf', format='pdf')\n",
    "# plt.show()"
   ]
  }
 ],
 "metadata": {
  "kernelspec": {
   "display_name": "Python 3",
   "language": "python",
   "name": "python3"
  },
  "language_info": {
   "codemirror_mode": {
    "name": "ipython",
    "version": 3
   },
   "file_extension": ".py",
   "mimetype": "text/x-python",
   "name": "python",
   "nbconvert_exporter": "python",
   "pygments_lexer": "ipython3",
   "version": "3.11.7"
  }
 },
 "nbformat": 4,
 "nbformat_minor": 2
}
