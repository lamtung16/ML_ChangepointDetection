{
 "cells": [
  {
   "cell_type": "code",
   "execution_count": 7,
   "metadata": {},
   "outputs": [],
   "source": [
    "# # get functions from OPART.ipynb\n",
    "# %run OPART.ipynb"
   ]
  },
  {
   "cell_type": "code",
   "execution_count": 8,
   "metadata": {},
   "outputs": [],
   "source": [
    "import numpy as np\n",
    "import pandas as pd\n",
    "from ipynb.fs.full.utility_functions import gen_data_dict, get_data, get_cumsum, error_count, write_to_csv, opart"
   ]
  },
  {
   "cell_type": "code",
   "execution_count": 9,
   "metadata": {},
   "outputs": [],
   "source": [
    "seqs   = gen_data_dict('../sequence_label_data/genome/signals.gz')\n",
    "labels = gen_data_dict('../sequence_label_data/genome/labels.gz')\n",
    "\n",
    "header = ['sequenceID', \"log_lambda\", 'fold_1_total_labels', 'fold_2_total_labels', 'fold_1_fp_errs', 'fold_1_fn_errs', 'fold_1_tp', 'fold_1_tn', 'fold_2_fp_errs', 'fold_2_fn_errs', 'fold_2_tp', 'fold_2_tn',]\n",
    "# header = ['sequenceID', 'fold_1_total_labels', 'fold_2_total_labels', 'fold_1_errs', 'fold_2_errs']\n",
    "for i in range(len(seqs)):\n",
    "    # generate data\n",
    "    sequence, neg_start_1, neg_end_1, pos_start_1, pos_end_1, neg_start_2, neg_end_2, pos_start_2, pos_end_2 = get_data(i, seqs=seqs, labels=labels)\n",
    "    sequence_length = len(sequence)-1\n",
    "\n",
    "    # vectors of cumulative sums\n",
    "    y, z = get_cumsum(sequence)\n",
    "\n",
    "    # calculate lambda\n",
    "    lda = np.log(sequence_length)\n",
    "\n",
    "    # get total labels\n",
    "    fold1_total_labels = len(neg_start_1) + len(pos_start_1)\n",
    "    fold2_total_labels = len(neg_start_2) + len(pos_start_2)\n",
    "\n",
    "    # run each lambda and record it into csv file\n",
    "    row  = [seqs[i][0], np.log10(lda), fold1_total_labels, fold2_total_labels]\n",
    "\n",
    "    chpnt = opart(lda, sequence)\n",
    "    err_1 = error_count(chpnt, neg_start_1, neg_end_1, pos_start_1, pos_end_1)\n",
    "    err_2 = error_count(chpnt, neg_start_2, neg_end_2, pos_start_2, pos_end_2)\n",
    "    row.append(err_1[0])\n",
    "    row.append(err_1[1])\n",
    "    row.append(err_1[2])\n",
    "    row.append(err_1[3])\n",
    "    row.append(err_2[0])\n",
    "    row.append(err_2[1])\n",
    "    row.append(err_2[2])\n",
    "    row.append(err_2[3])\n",
    "    # row.append(sum(err_1))\n",
    "    # row.append(sum(err_2))\n",
    "\n",
    "    write_to_csv('BIC_1.csv', header, row)"
   ]
  },
  {
   "cell_type": "code",
   "execution_count": 10,
   "metadata": {},
   "outputs": [
    {
     "name": "stdout",
     "output_type": "stream",
     "text": [
      "method:  BIC \t fold1.test: 70.35 \t fold2.test: 50.00 \t total_label_fold1: 752 \t total_label_fold2: 520 \t total_test_error_fold1: 223 \t total_test_error_fold2: 260\n"
     ]
    }
   ],
   "source": [
    "BIC_df    = pd.read_csv('BIC_1.csv')\n",
    "rate1_list = []\n",
    "rate2_list = []\n",
    "for df in [BIC_df]:\n",
    "    if(df is BIC_df):\n",
    "        method = \"BIC\"\n",
    "\n",
    "    fold1_total_errs = df['fold_1_fp_errs'].sum() + df['fold_1_fn_errs'].sum()\n",
    "    fold2_total_errs = df['fold_2_fp_errs'].sum() + df['fold_2_fn_errs'].sum()\n",
    "\n",
    "    fold1_total_labels = df['fold_1_total_labels'].sum()\n",
    "    fold2_total_labels = df['fold_2_total_labels'].sum()\n",
    "\n",
    "    rate1 = (fold1_total_labels - fold1_total_errs)/fold1_total_labels\n",
    "    rate2 = (fold2_total_labels - fold2_total_errs)/fold2_total_labels\n",
    "\n",
    "    rate1_list.append(round(100*rate1, 2))\n",
    "    rate2_list.append(round(100*rate2, 2))\n",
    "\n",
    "    print(\"method: %4s \\t fold1.test: %5.2f \\t fold2.test: %5.2f \\t total_label_fold1: %3d \\t total_label_fold2: %3d \\t total_test_error_fold1: %3d \\t total_test_error_fold2: %3d\" \n",
    "          % (method, 100*rate1, 100*rate2, fold1_total_labels, fold2_total_labels, fold1_total_errs, fold2_total_errs))"
   ]
  }
 ],
 "metadata": {
  "kernelspec": {
   "display_name": "Python 3",
   "language": "python",
   "name": "python3"
  },
  "language_info": {
   "codemirror_mode": {
    "name": "ipython",
    "version": 3
   },
   "file_extension": ".py",
   "mimetype": "text/x-python",
   "name": "python",
   "nbconvert_exporter": "python",
   "pygments_lexer": "ipython3",
   "version": "3.11.7"
  }
 },
 "nbformat": 4,
 "nbformat_minor": 2
}
