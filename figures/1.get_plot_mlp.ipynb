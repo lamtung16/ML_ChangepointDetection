{
 "cells": [
  {
   "cell_type": "code",
   "execution_count": null,
   "metadata": {},
   "outputs": [],
   "source": [
    "import pandas as pd\n",
    "from plotnine import ggplot, aes, geom_line, xlab, ylab, scale_color_discrete, facet_wrap, theme_minimal, element_text, theme"
   ]
  },
  {
   "cell_type": "code",
   "execution_count": null,
   "metadata": {},
   "outputs": [],
   "source": [
    "detailed_df = pd.read_csv('../acc_rate_csvs/detailed_mlp_condensed.csv')\n",
    "detailed_df['dataset'] = 'detailed'\n",
    "\n",
    "systematic_df = pd.read_csv('../acc_rate_csvs/systematic_mlp_condensed.csv')\n",
    "systematic_df['dataset'] = 'systematic'\n",
    "\n",
    "final_df = pd.concat([detailed_df, systematic_df])\n",
    "final_df['layer_size'] = pd.Categorical(final_df['layer_size'], ordered=True)"
   ]
  },
  {
   "cell_type": "code",
   "execution_count": null,
   "metadata": {},
   "outputs": [],
   "source": [
    "# Plotting\n",
    "plot_combined = (\n",
    "    ggplot(final_df, aes(x='layer_size', y='acc', color='factor(n_layer)')) + \n",
    "    geom_line() +\n",
    "    aes(group='factor(n_layer)') +\n",
    "    xlab(\"number of neurons\") +\n",
    "    ylab(\"validation accuracy\") +\n",
    "    scale_color_discrete(name=\"Number of \\nHidden Layers\") +\n",
    "    facet_wrap('~dataset', ncol=3, scales='free_y') +\n",
    "    theme_minimal() +\n",
    "    theme(figure_size=(10, 3), text=element_text(size=12))\n",
    ")\n",
    "\n",
    "print(plot_combined)"
   ]
  },
  {
   "cell_type": "code",
   "execution_count": null,
   "metadata": {},
   "outputs": [],
   "source": [
    "plot_combined.save('mlp.pdf')\n",
    "plot_combined.save('mlp.jpg')"
   ]
  }
 ],
 "metadata": {
  "kernelspec": {
   "display_name": "Python 3",
   "language": "python",
   "name": "python3"
  },
  "language_info": {
   "codemirror_mode": {
    "name": "ipython",
    "version": 3
   },
   "file_extension": ".py",
   "mimetype": "text/x-python",
   "name": "python",
   "nbconvert_exporter": "python",
   "pygments_lexer": "ipython3",
   "version": "3.11.9"
  }
 },
 "nbformat": 4,
 "nbformat_minor": 2
}
