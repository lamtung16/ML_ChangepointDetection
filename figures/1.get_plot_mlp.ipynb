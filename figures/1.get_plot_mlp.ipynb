{
 "cells": [
  {
   "cell_type": "code",
   "execution_count": null,
   "metadata": {},
   "outputs": [],
   "source": [
    "import pandas as pd\n",
    "from plotnine import ggplot, aes, geom_line, xlab, ylab, scale_color_discrete, facet_wrap, theme_minimal, element_text, theme\n",
    "from plotnine import ggplot, aes, geom_point, labs, facet_wrap, geom_vline, theme_minimal, theme, element_text, geom_line, scale_x_continuous, ggtitle, xlab\n",
    "import ast"
   ]
  },
  {
   "cell_type": "code",
   "execution_count": null,
   "metadata": {},
   "outputs": [],
   "source": [
    "def print_mlp_dataset(dataset_name):\n",
    "    acc_rate_csv_path = '../acc_rate_csvs/' + dataset_name + '_cv.csv'\n",
    "\n",
    "    # raw_df\n",
    "    raw_df = pd.read_csv(acc_rate_csv_path)\n",
    "\n",
    "    for n_layer in [1, 2, 3, 4]:\n",
    "        for n_features in [1, 2, 4, 117]:\n",
    "            df_fold = raw_df\n",
    "            df_fold_compare = df_fold[df_fold['n_layer'] == n_layer]\n",
    "            df_fold_compare = df_fold_compare[df_fold_compare['n_features'] == n_features]\n",
    "            df_fold_compare = df_fold_compare[['fold', 'layer_size', 'val_acc']]\n",
    "            df_fold_compare['fold'] = df_fold_compare['fold'].apply(lambda x: f'fold{x}.test')\n",
    "\n",
    "            plot = (\n",
    "                ggplot(df_fold_compare, aes(x=pd.Categorical(df_fold_compare['layer_size']), y='val_acc')) +\n",
    "                geom_line(aes(group=1)) +\n",
    "                labs(title=\"dataset: \" + dataset_name + \" --- \" + str(n_layer) + \" hidden layer --- \" + str(n_features) + \" features\",\n",
    "                    x=\"hidden layer size\",\n",
    "                    y=\"acc percentage\") +\n",
    "                theme_minimal() + \n",
    "                facet_wrap('~fold', ncol=3) + \n",
    "                theme(plot_title=element_text(size=10))\n",
    "            )\n",
    "            print(plot)"
   ]
  },
  {
   "cell_type": "code",
   "execution_count": null,
   "metadata": {},
   "outputs": [],
   "source": [
    "print_mlp_dataset('detailed')"
   ]
  },
  {
   "cell_type": "code",
   "execution_count": null,
   "metadata": {},
   "outputs": [],
   "source": [
    "print_mlp_dataset('systematic')"
   ]
  },
  {
   "cell_type": "code",
   "execution_count": null,
   "metadata": {},
   "outputs": [],
   "source": [
    "print_mlp_dataset('epigenomic')"
   ]
  },
  {
   "cell_type": "code",
   "execution_count": null,
   "metadata": {},
   "outputs": [],
   "source": [
    "detailed_df   = pd.read_csv('../acc_rate_csvs/detailed_cv.csv')\n",
    "epigenomic_df = pd.read_csv('../acc_rate_csvs/epigenomic_cv.csv')\n",
    "systematic_df = pd.read_csv('../acc_rate_csvs/systematic_cv.csv')\n",
    "\n",
    "detailed_df = detailed_df.groupby(['n_layer', 'layer_size'])['val_acc'].mean().reset_index()\n",
    "epigenomic_df = epigenomic_df.groupby(['n_layer', 'layer_size'])['val_acc'].mean().reset_index()\n",
    "systematic_df = systematic_df.groupby(['n_layer', 'layer_size'])['val_acc'].mean().reset_index()\n",
    "\n",
    "detailed_df['dataset'] = 'detailed'\n",
    "epigenomic_df['dataset'] = 'epigenomic'\n",
    "systematic_df['dataset'] = 'systematic'\n",
    "\n",
    "final_df = pd.concat([detailed_df, epigenomic_df, systematic_df])\n",
    "final_df['layer_size'] = pd.Categorical(final_df['layer_size'], ordered=True)\n",
    "\n",
    "# Plotting\n",
    "plot_combined = (\n",
    "    ggplot(final_df, aes(x='layer_size', y='val_acc', color='factor(n_layer)')) + \n",
    "    geom_line() +\n",
    "    aes(group='factor(n_layer)') +\n",
    "    xlab(\"number of neurons\") +\n",
    "    ylab(\"validation accuracy\") +\n",
    "    scale_color_discrete(name=\"Number of \\nHidden Layers\") +\n",
    "    facet_wrap('~dataset', ncol=3, scales='free_y') +\n",
    "    theme_minimal() +\n",
    "    theme(figure_size=(12, 3), text=element_text(size=10))\n",
    ")\n",
    "print(plot_combined)"
   ]
  },
  {
   "cell_type": "code",
   "execution_count": null,
   "metadata": {},
   "outputs": [],
   "source": [
    "plot_combined.save('mlp.pdf')\n",
    "plot_combined.save('mlp.jpg')"
   ]
  }
 ],
 "metadata": {
  "kernelspec": {
   "display_name": "Python 3",
   "language": "python",
   "name": "python3"
  },
  "language_info": {
   "codemirror_mode": {
    "name": "ipython",
    "version": 3
   },
   "file_extension": ".py",
   "mimetype": "text/x-python",
   "name": "python",
   "nbconvert_exporter": "python",
   "pygments_lexer": "ipython3",
   "version": "3.11.9"
  }
 },
 "nbformat": 4,
 "nbformat_minor": 2
}
