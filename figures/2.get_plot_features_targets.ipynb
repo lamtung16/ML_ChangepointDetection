{
 "cells": [
  {
   "cell_type": "code",
   "execution_count": null,
   "metadata": {},
   "outputs": [],
   "source": [
    "import pandas as pd\n",
    "import numpy as np\n",
    "import matplotlib.pyplot as plt\n",
    "from scipy.stats import norm\n",
    "\n",
    "np.random.seed(0)"
   ]
  },
  {
   "cell_type": "code",
   "execution_count": null,
   "metadata": {},
   "outputs": [],
   "source": [
    "log    = lambda x: np.log(x)\n",
    "loglog = lambda x: np.log(np.log(x))"
   ]
  },
  {
   "cell_type": "code",
   "execution_count": null,
   "metadata": {},
   "outputs": [],
   "source": [
    "def confident_interval_indices(vector, confidence_level=0.50):\n",
    "    mean = np.mean(vector)\n",
    "    std_dev = np.std(vector)\n",
    "    margin_error = std_dev * norm.ppf(1 - (1 - confidence_level) / 2)\n",
    "    lower_bound = mean - margin_error\n",
    "    upper_bound = mean + margin_error\n",
    "    indices = np.where((vector >= lower_bound) & (vector <= upper_bound))[0]\n",
    "\n",
    "    return indices"
   ]
  },
  {
   "cell_type": "code",
   "execution_count": null,
   "metadata": {},
   "outputs": [],
   "source": [
    "# Set global font size\n",
    "plt.rcParams.update({'font.size': 15})\n",
    "\n",
    "def plot_feature_target(dataset_name, feature_name, feature_engineer, feature_engineer_name, ax):\n",
    "    features_df = pd.read_csv('../training_data/' + dataset_name + '/inputs.csv')\n",
    "    targets_df  = pd.read_csv('../training_data/' + dataset_name + '/outputs.csv')\n",
    "\n",
    "    feature = features_df[feature_name].to_numpy()\n",
    "    feature = feature_engineer(feature)\n",
    "    small_target = targets_df['min.log.lambda'].to_numpy()\n",
    "    big_target   = targets_df['max.log.lambda'].to_numpy()\n",
    "\n",
    "    # filter\n",
    "    sampled_indices = confident_interval_indices(feature, confidence_level=0.9)\n",
    "    sampled_indices = np.random.choice(sampled_indices, 100, replace=False)\n",
    "    feature = feature[sampled_indices]\n",
    "    small_target = small_target[sampled_indices]\n",
    "    big_target = big_target[sampled_indices]\n",
    "\n",
    "    # Plotting\n",
    "    ax.scatter(feature, small_target, label='small target', color='black', marker='o', facecolors='none', edgecolors='black', s=50)\n",
    "    ax.scatter(feature, big_target, label='big target', color='black', marker='o', s=50)\n",
    "\n",
    "    ax.set_xlabel(\"feature = \" + feature_engineer_name + \" \" + feature_name)\n",
    "\n",
    "\n",
    "def plot_row(dataset_name, feature_names, axs):\n",
    "    legend_handles = []\n",
    "    legend_labels = []\n",
    "    for i, feature_name in enumerate(feature_names):\n",
    "        if (feature_name in ['variance', 'range_value']):\n",
    "            feature_engineer = log\n",
    "            feature_engineer_name = 'log'\n",
    "        else:\n",
    "            feature_engineer = loglog\n",
    "            feature_engineer_name = 'loglog'\n",
    "        plot_feature_target(dataset_name, feature_name, feature_engineer, feature_engineer_name, axs[i])\n",
    "        # Set y-label only for the first subplot in each row\n",
    "        if i == 0:\n",
    "            axs[i].set_ylabel('output = optimal ' + r'$\\log\\lambda$')\n",
    "        # Collect handles and labels for each subplot\n",
    "        h, l = axs[i].get_legend_handles_labels()\n",
    "        # Only add unique handles and labels to the list\n",
    "        for handle, label in zip(h, l):\n",
    "            if label not in legend_labels:\n",
    "                legend_handles.append(handle)\n",
    "                legend_labels.append(label)\n",
    "\n",
    "    return legend_handles, legend_labels\n",
    "\n",
    "def plot_features_targets(dataset_name):\n",
    "    fig, axs = plt.subplots(1, 4, figsize=(15, 5))\n",
    "\n",
    "    feature_names = ['variance', 'length', 'range_value', 'sum_diff']\n",
    "    legend_handles = []\n",
    "    legend_labels = []\n",
    "    for i in range(0, len(feature_names), len(axs)):\n",
    "        handles, labels = plot_row(dataset_name, feature_names[i:i+len(axs)], axs)\n",
    "        legend_handles.extend(handles)\n",
    "        legend_labels.extend(labels)\n",
    "\n",
    "    # Create a combined legend for the entire figure\n",
    "    fig.legend(legend_handles, legend_labels, loc='upper left')\n",
    "    plt.tight_layout()\n",
    "    plt.savefig('features_targets_detailed.pdf')\n",
    "\n",
    "plot_features_targets('detailed')"
   ]
  }
 ],
 "metadata": {
  "kernelspec": {
   "display_name": "Python 3",
   "language": "python",
   "name": "python3"
  },
  "language_info": {
   "codemirror_mode": {
    "name": "ipython",
    "version": 3
   },
   "file_extension": ".py",
   "mimetype": "text/x-python",
   "name": "python",
   "nbconvert_exporter": "python",
   "pygments_lexer": "ipython3",
   "version": "3.11.9"
  }
 },
 "nbformat": 4,
 "nbformat_minor": 2
}
