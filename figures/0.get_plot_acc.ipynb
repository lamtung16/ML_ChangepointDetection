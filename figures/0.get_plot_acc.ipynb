{
 "cells": [
  {
   "cell_type": "code",
   "execution_count": null,
   "metadata": {},
   "outputs": [],
   "source": [
    "from plotnine import *\n",
    "import pandas as pd\n",
    "import numpy as np"
   ]
  },
  {
   "cell_type": "code",
   "execution_count": null,
   "metadata": {},
   "outputs": [],
   "source": [
    "df_detailed   = pd.read_csv('../acc_rate_csvs/detailed.csv')\n",
    "df_detailed['dataset'] = 'detailed'\n",
    "df_systematic = pd.read_csv('../acc_rate_csvs/systematic.csv')\n",
    "df_systematic['dataset'] = 'systematic'\n",
    "df_epigenomic = pd.read_csv('../acc_rate_csvs/epigenomic.csv')\n",
    "df_epigenomic['dataset'] = 'epigenomic'\n",
    "df = pd.concat([df_detailed, df_systematic, df_epigenomic])\n",
    "\n",
    "avg_df = df.groupby(['dataset', 'method', 'feature engineer']).agg(\n",
    "    median_acc=('acc', 'median'),\n",
    "    q25_acc=('acc', lambda x: np.percentile(x, 25)),\n",
    "    q75_acc=('acc', lambda x: np.percentile(x, 75))\n",
    ").reset_index()"
   ]
  },
  {
   "cell_type": "code",
   "execution_count": null,
   "metadata": {},
   "outputs": [],
   "source": [
    "acc_compare_df = avg_df.copy()\n",
    "acc_compare_df = acc_compare_df[acc_compare_df['method'] != 'BIC.1']\n",
    "acc_compare_df['lower_bound'] = acc_compare_df['q25_acc']\n",
    "acc_compare_df['upper_bound'] = acc_compare_df['q75_acc']"
   ]
  },
  {
   "cell_type": "code",
   "execution_count": null,
   "metadata": {},
   "outputs": [],
   "source": [
    "acc_compare_df['method'] = pd.Categorical(acc_compare_df['method'], \n",
    "                                          categories=['mmit.1', 'mmit.2', 'mmit.4', 'mmit.117', 'linear.1', 'linear.2', 'linear.4','linear.117', 'mlp.1', 'mlp.2', 'mlp.4', 'mlp.117'], ordered=True)"
   ]
  },
  {
   "cell_type": "code",
   "execution_count": null,
   "metadata": {},
   "outputs": [],
   "source": [
    "max_acc_per_dataset = acc_compare_df.groupby('dataset')['upper_bound'].max().reset_index()\n",
    "max_acc_per_dataset.loc[:, 'upper_bound'] += 0.1\n",
    "\n",
    "# Define colors for each method\n",
    "method_colors = {\n",
    "    'mmit.1':     'black',\n",
    "    'linear.1':   'black',\n",
    "    'mlp.1':      'red',\n",
    "    'mmit.2':     'black',\n",
    "    'linear.2':   'black',\n",
    "    'mlp.2':      'red',\n",
    "    'mmit.117':   'black',\n",
    "    'linear.117': 'black',\n",
    "    'mlp.117':    'red',\n",
    "    'mmit.4':     'black',\n",
    "    'linear.4':   'black',\n",
    "    'mlp.4':      'red'\n",
    "}\n",
    "\n",
    "# Define colors for proposed and existing methods\n",
    "method_colors = {\n",
    "    'Proposed': 'red',\n",
    "    'Existing': 'black'\n",
    "}\n",
    "\n",
    "# Create a new column indicating whether the method is proposed or existing\n",
    "acc_compare_df['category'] = 'Existing'\n",
    "acc_compare_df.loc[acc_compare_df['method'].str.startswith('mlp'), 'category'] = 'Proposed'\n",
    "\n",
    "# Plot with color adjustments\n",
    "plot_combined = (ggplot(acc_compare_df, aes(x='median_acc', y='method', color='category')) +\n",
    "                 geom_point(shape=\"D\", size=2, fill=\"white\") +\n",
    "                 geom_errorbarh(aes(xmin='lower_bound', xmax='upper_bound'), height=0.001) +\n",
    "                 labs(x=\"accuracy percentage\",\n",
    "                      y=\"method\") +\n",
    "                 facet_wrap('~dataset', ncol=acc_compare_df['dataset'].nunique(), scales='free_x') +\n",
    "                 theme_minimal() +\n",
    "                 theme(aspect_ratio=1.3) +\n",
    "                 geom_vline(data=max_acc_per_dataset, mapping=aes(xintercept='upper_bound'), color='black') + \n",
    "                 scale_color_manual(values=method_colors) +\n",
    "                 theme(figure_size=(9, 4)) +\n",
    "                 guides(color=guide_legend(title=\"method\"))  # Manual legend\n",
    "                 )\n",
    "\n",
    "print(plot_combined)"
   ]
  },
  {
   "cell_type": "code",
   "execution_count": null,
   "metadata": {},
   "outputs": [],
   "source": [
    "plot_combined.save(\"acc_compare.pdf\")\n",
    "plot_combined.save(\"acc_compare.jpg\")"
   ]
  }
 ],
 "metadata": {
  "kernelspec": {
   "display_name": "Python 3",
   "language": "python",
   "name": "python3"
  },
  "language_info": {
   "codemirror_mode": {
    "name": "ipython",
    "version": 3
   },
   "file_extension": ".py",
   "mimetype": "text/x-python",
   "name": "python",
   "nbconvert_exporter": "python",
   "pygments_lexer": "ipython3",
   "version": "3.11.9"
  }
 },
 "nbformat": 4,
 "nbformat_minor": 2
}
