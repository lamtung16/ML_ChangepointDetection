{
 "cells": [
  {
   "cell_type": "code",
   "execution_count": null,
   "metadata": {},
   "outputs": [],
   "source": [
    "from plotnine import ggplot, aes, geom_point, labs, facet_wrap, geom_vline, theme_minimal, theme, element_text, geom_errorbarh\n",
    "import pandas as pd\n",
    "import numpy as np"
   ]
  },
  {
   "cell_type": "code",
   "execution_count": null,
   "metadata": {},
   "outputs": [],
   "source": [
    "df_detailed   = pd.read_csv('../acc_rate_csvs/detailed.csv')\n",
    "df_detailed['dataset'] = 'detailed'\n",
    "df_systematic = pd.read_csv('../acc_rate_csvs/systematic.csv')\n",
    "df_systematic['dataset'] = 'systematic'\n",
    "df_epigenomic = pd.read_csv('../acc_rate_csvs/epigenomic.csv')\n",
    "df_epigenomic['dataset'] = 'epigenomic'\n",
    "df = pd.concat([df_detailed, df_systematic, df_epigenomic])\n",
    "\n",
    "avg_df = df.groupby(['dataset', 'method', 'feature engineer']).agg(\n",
    "    median_acc=('acc', 'median'),\n",
    "    q25_acc=('acc', lambda x: np.percentile(x, 25)),\n",
    "    q75_acc=('acc', lambda x: np.percentile(x, 75))\n",
    ").reset_index()\n"
   ]
  },
  {
   "cell_type": "code",
   "execution_count": null,
   "metadata": {},
   "outputs": [],
   "source": [
    "acc_compare_df = avg_df.copy()\n",
    "acc_compare_df = acc_compare_df[acc_compare_df['method'] != 'BIC.1']\n",
    "acc_compare_df['lower_bound'] = acc_compare_df['q25_acc']\n",
    "acc_compare_df['upper_bound'] = acc_compare_df['q75_acc']\n",
    "acc_compare_df['method'] = pd.Categorical(acc_compare_df['method'], \n",
    "                                          categories=['linear.1', 'linear.2', 'linear.4', 'linear.117', 'mmit.1', 'mmit.2', 'mmit.4', 'mmit.117', 'mlp.1', 'mlp.2', 'mlp.4', 'mlp.117'], ordered=True)"
   ]
  },
  {
   "cell_type": "code",
   "execution_count": null,
   "metadata": {},
   "outputs": [],
   "source": [
    "max_acc_per_dataset = acc_compare_df.groupby('dataset')['upper_bound'].max().reset_index()\n",
    "max_acc_per_dataset.loc[:, 'upper_bound'] += 0.5\n",
    "\n",
    "plot_combined = (ggplot(acc_compare_df, aes(x='median_acc', y='method')) +\n",
    "                 geom_point(shape=\"o\", size=2, fill=\"white\") +\n",
    "                 geom_errorbarh(aes(xmin='lower_bound', xmax='upper_bound'), height=0.1) +\n",
    "                 labs(x=\"accuracy percentage\",\n",
    "                      y=\"method\") +\n",
    "                 facet_wrap('~dataset', ncol=acc_compare_df['dataset'].nunique(), scales='free_x') +\n",
    "                 theme_minimal() +\n",
    "                 theme(legend_position='bottom', text=element_text(size=8)) +\n",
    "                 theme(aspect_ratio=0.9) +\n",
    "                 geom_vline(data=max_acc_per_dataset, mapping=aes(xintercept='upper_bound'), color='black') + \n",
    "                 theme(figure_size=(8, 3))\n",
    "                 )\n",
    "\n",
    "print(plot_combined)"
   ]
  },
  {
   "cell_type": "code",
   "execution_count": null,
   "metadata": {},
   "outputs": [],
   "source": [
    "plot_combined.save(\"acc_compare.pdf\")\n",
    "plot_combined.save(\"acc_compare.jpg\")"
   ]
  }
 ],
 "metadata": {
  "kernelspec": {
   "display_name": "Python 3",
   "language": "python",
   "name": "python3"
  },
  "language_info": {
   "codemirror_mode": {
    "name": "ipython",
    "version": 3
   },
   "file_extension": ".py",
   "mimetype": "text/x-python",
   "name": "python",
   "nbconvert_exporter": "python",
   "pygments_lexer": "ipython3",
   "version": "3.11.9"
  }
 },
 "nbformat": 4,
 "nbformat_minor": 2
}
