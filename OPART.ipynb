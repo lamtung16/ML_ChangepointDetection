{
 "cells": [
  {
   "cell_type": "code",
   "execution_count": 1,
   "metadata": {},
   "outputs": [],
   "source": [
    "# IMPORT\n",
    "from joblib import Parallel, delayed\n",
    "from ipynb.fs.full.utility_functions import gen_data_dict, get_data, error_count, write_to_csv, opart"
   ]
  },
  {
   "cell_type": "code",
   "execution_count": 2,
   "metadata": {},
   "outputs": [],
   "source": [
    "def try_lambda(i):\n",
    "    lda = ldas[i]\n",
    "    chpnt = opart(lda, sequence)\n",
    "    err_1 = error_count(chpnt, neg_start_1, neg_end_1, pos_start_1, pos_end_1)\n",
    "    err_2 = error_count(chpnt, neg_start_2, neg_end_2, pos_start_2, pos_end_2)\n",
    "    return err_1, err_2\n",
    "    \n",
    "if __name__ == \"__main__\":\n",
    "    # get sequences and labels\n",
    "    seqs   = gen_data_dict('sequence_label_data/genome/signals.gz')\n",
    "    labels = gen_data_dict('sequence_label_data/genome/labels.gz')\n",
    "\n",
    "    # lambda candidates\n",
    "    ldas = [10**element for element in [i*0.5 for i in range(-10, 11)]]\n",
    "\n",
    "    for i in range(len(seqs)):\n",
    "        # generate data\n",
    "        sequence, neg_start_1, neg_end_1, pos_start_1, pos_end_1, neg_start_2, neg_end_2, pos_start_2, pos_end_2 = get_data(i, seqs=seqs, labels=labels)\n",
    "\n",
    "        # run each lambda and record it into csv file\n",
    "        row  = [i]\n",
    "        errs = Parallel(n_jobs=32)(delayed(try_lambda)(i) for i in range(0, 21))\n",
    "        row += errs\n",
    "\n",
    "        header = ['sequenceID','-5','-4.5','-4','-3.5','-3','-2.5','-2','-1.5','-1','-0.5','0','0.5','1','1.5','2','2.5','3','3.5','4','4.5','5']\n",
    "        write_to_csv('1.genome_learning_data/errors.csv', header, row)"
   ]
  }
 ],
 "metadata": {
  "kernelspec": {
   "display_name": ".venv",
   "language": "python",
   "name": "python3"
  },
  "language_info": {
   "codemirror_mode": {
    "name": "ipython",
    "version": 3
   },
   "file_extension": ".py",
   "mimetype": "text/x-python",
   "name": "python",
   "nbconvert_exporter": "python",
   "pygments_lexer": "ipython3",
   "version": "3.11.7"
  }
 },
 "nbformat": 4,
 "nbformat_minor": 2
}
