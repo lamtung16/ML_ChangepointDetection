{
 "cells": [
  {
   "cell_type": "code",
   "execution_count": 1,
   "metadata": {
    "vscode": {
     "languageId": "r"
    }
   },
   "outputs": [
    {
     "name": "stderr",
     "output_type": "stream",
     "text": [
      "Loading required package: future\n",
      "\n"
     ]
    }
   ],
   "source": [
    "library(mmit)\n",
    "library(future.apply)"
   ]
  },
  {
   "cell_type": "code",
   "execution_count": 10,
   "metadata": {
    "vscode": {
     "languageId": "r"
    }
   },
   "outputs": [],
   "source": [
    "for (dataset in c(\"detailed\", \"systematic\", \"epigenomic\")) {\n",
    "    for (test.fold in c(1, 2, 3, 4, 5, 6)) {\n",
    "        for (inputset in list(c(\"length\"), c(\"length\", \"variance\"), c(\"length\", \"variance\", \"range_value\", \"sum_diff\"))) {\n",
    "            # get dfs for all folds\n",
    "            inputs.all.df  <- read.csv(paste(\"training_data/\", dataset, \"/inputs.csv\", sep = \"\"))\n",
    "            outputs.all.df <- read.csv(paste(\"training_data/\", dataset, \"/outputs.csv\", sep = \"\"))\n",
    "            folds.df <- read.csv(paste(\"training_data/\", dataset, \"/folds.csv\", sep = \"\"))\n",
    "\n",
    "            inputs.all.df <- cbind(inputs.all.df, folds.df)\n",
    "            outputs.all.df <- cbind(outputs.all.df, folds.df)\n",
    "\n",
    "            # get train set and test set\n",
    "            train.inputs.df <- inputs.all.df[inputs.all.df$fold != test.fold, inputset, drop = FALSE]\n",
    "            train.inputs.df <- cbind(train.inputs.df, constant = 1)\n",
    "            test.inputs.df  <- inputs.all.df[inputs.all.df$fold == test.fold, inputset, drop = FALSE]\n",
    "            test.inputs.df  <- cbind(test.inputs.df, constant = 1)\n",
    "\n",
    "            train.inputs.df <- data.frame(train.inputs.df)\n",
    "            test.inputs.df  <- data.frame(test.inputs.df)\n",
    "\n",
    "            train.outputs.df <- outputs.all.df[outputs.all.df$fold != test.fold, ][, c(\"min.log.lambda\", \"max.log.lambda\")]\n",
    "            train.outputs.df <- as.matrix(train.outputs.df)\n",
    "\n",
    "            # cv to pick the best params in train set\n",
    "            param_grid <- NULL\n",
    "            param_grid$margin <- 1\n",
    "            param_grid$loss <- \"square\"\n",
    "            param_grid$max_depth <- c(2, 4, 6, 8, 10, 12, 14, 16, 18, 20, Inf)\n",
    "            param_grid$min_sample <- c(5, 10, 15, 20, 25, 30)\n",
    "\n",
    "            set.seed(4)\n",
    "            result <- mmit.cv(\n",
    "                feature.mat = train.inputs.df,\n",
    "                target.mat = train.outputs.df,\n",
    "                param_grid = param_grid,\n",
    "                n_folds = 2,\n",
    "                scorer = mse,\n",
    "                pruning = TRUE,\n",
    "                future.seed = TRUE\n",
    "            )\n",
    "\n",
    "            # train the model with all train set by best params\n",
    "            tree <- mmit(feature.mat = train.inputs.df,\n",
    "                        target.mat = train.outputs.df,\n",
    "                        max_depth = result$best_params$max_depth,\n",
    "                        margin = 1,\n",
    "                        loss = \"square\",\n",
    "                        min_sample = result$best_params$min_sample)\n",
    "            \n",
    "            # produce prediction for test set\n",
    "            pred <- predict.mmit(tree, test.inputs.df)\n",
    "\n",
    "            # save to csv\n",
    "            sequenceID  <- inputs.all.df[inputs.all.df$fold == test.fold, 'sequenceID', drop = FALSE]\n",
    "            prediction <- cbind(sequenceID, pred)\n",
    "            names(prediction) <- c(\"sequenceID\", \"llda\")\n",
    "            write.csv(prediction, file = paste(\"predictions/\", dataset, test.fold, length(inputset), \"csv\", sep = \".\"), row.names = FALSE)\n",
    "        }\n",
    "    }\n",
    "}"
   ]
  }
 ],
 "metadata": {
  "kernelspec": {
   "display_name": "R",
   "language": "R",
   "name": "ir"
  },
  "language_info": {
   "codemirror_mode": "r",
   "file_extension": ".r",
   "mimetype": "text/x-r-source",
   "name": "R",
   "pygments_lexer": "r",
   "version": "4.3.3"
  }
 },
 "nbformat": 4,
 "nbformat_minor": 2
}
