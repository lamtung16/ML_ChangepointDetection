{
 "cells": [
  {
   "cell_type": "code",
   "execution_count": 1,
   "metadata": {},
   "outputs": [],
   "source": [
    "import pandas as pd\n",
    "import os"
   ]
  },
  {
   "cell_type": "code",
   "execution_count": 2,
   "metadata": {},
   "outputs": [],
   "source": [
    "folder_path = 'training_data'\n",
    "datasets = [name for name in os.listdir(folder_path) if os.path.isdir(os.path.join(folder_path, name))]"
   ]
  },
  {
   "cell_type": "code",
   "execution_count": 3,
   "metadata": {},
   "outputs": [
    {
     "name": "stdout",
     "output_type": "stream",
     "text": [
      "ATAC_JV_adipose          :No duplicate rows found.\n",
      "CTCF_TDH_ENCODE          :No duplicate rows found.\n",
      "detailed                 :No duplicate rows found.\n",
      "H3K27ac-H3K4me3_TDHAM_BP :No duplicate rows found.\n",
      "H3K27ac_TDH_some         :No duplicate rows found.\n",
      "H3K27me3_RL_cancer       :No duplicate rows found.\n",
      "H3K27me3_TDH_some        :No duplicate rows found.\n",
      "H3K36me3_AM_immune       :No duplicate rows found.\n",
      "H3K36me3_TDH_ENCODE      :No duplicate rows found.\n",
      "H3K36me3_TDH_immune      :No duplicate rows found.\n",
      "H3K36me3_TDH_other       :No duplicate rows found.\n",
      "H3K4me1_TDH_BP           :No duplicate rows found.\n",
      "H3K4me3_PGP_immune       :No duplicate rows found.\n",
      "H3K4me3_TDH_ENCODE       :No duplicate rows found.\n",
      "H3K4me3_XJ_immune        :No duplicate rows found.\n",
      "H3K9me3_TDH_BP           :No duplicate rows found.\n",
      "systematic               :No duplicate rows found.\n"
     ]
    }
   ],
   "source": [
    "for dataset in datasets:\n",
    "    print(f'{dataset:25s}', end=':')\n",
    "    df = pd.read_csv('acc_rate_csvs/' + dataset + '.csv')\n",
    "    \n",
    "    # Check for duplicate rows based on 'method' and 'fold'\n",
    "    duplicates = df[df.duplicated(subset=['method', 'fold'], keep=False)]\n",
    "\n",
    "    if not duplicates.empty:\n",
    "        print(\"Error: Duplicate rows found with the same method and fold values.\")\n",
    "        print(duplicates)\n",
    "    else:\n",
    "        print(\"No duplicate rows found.\")"
   ]
  }
 ],
 "metadata": {
  "kernelspec": {
   "display_name": "Python 3",
   "language": "python",
   "name": "python3"
  },
  "language_info": {
   "codemirror_mode": {
    "name": "ipython",
    "version": 3
   },
   "file_extension": ".py",
   "mimetype": "text/x-python",
   "name": "python",
   "nbconvert_exporter": "python",
   "pygments_lexer": "ipython3",
   "version": "3.10.11"
  }
 },
 "nbformat": 4,
 "nbformat_minor": 2
}
