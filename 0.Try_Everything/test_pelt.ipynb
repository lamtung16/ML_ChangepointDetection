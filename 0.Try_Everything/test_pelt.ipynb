{
 "cells": [
  {
   "cell_type": "code",
   "execution_count": null,
   "metadata": {},
   "outputs": [],
   "source": [
    "from ipynb.fs.full.utility_functions import gen_data_dict, get_data,  opart\n",
    "import ruptures as rpt"
   ]
  },
  {
   "cell_type": "code",
   "execution_count": 3,
   "metadata": {},
   "outputs": [],
   "source": [
    "seqs   = gen_data_dict('C:/Users/tln229/Downloads/ML_ChangepointDetection/1_genome/0_sequences_labels/signals.gz')\n",
    "labels = gen_data_dict('C:/Users/tln229/Downloads/ML_ChangepointDetection/1_genome/0_sequences_labels/labels.gz')"
   ]
  },
  {
   "cell_type": "code",
   "execution_count": 4,
   "metadata": {},
   "outputs": [
    {
     "name": "stdout",
     "output_type": "stream",
     "text": [
      "Sequence: 1 \t Pelt: [187, 437, 460, 474]\n",
      "Sequence: 2 \t Pelt:            [86, 155]\n",
      "Sequence: 3 \t Pelt:             [33, 79]\n",
      "Sequence: 4 \t Pelt:            [71, 163]\n",
      "Sequence: 5 \t Pelt:            [28, 118]\n",
      "Sequence: 6 \t Pelt:           [105, 199]\n",
      "Sequence: 7 \t Pelt:           [127, 188]\n",
      "Sequence: 8 \t Pelt:                [256]\n",
      "Sequence: 9 \t Pelt:           [139, 223]\n",
      "Sequence:10 \t Pelt:            [14, 170]\n",
      "Sequence:11 \t Pelt:           [243, 414]\n",
      "Sequence:12 \t Pelt:           [135, 303]\n",
      "Sequence:13 \t Pelt:       [24, 175, 495]\n",
      "Sequence:14 \t Pelt:            [19, 178]\n",
      "Sequence:15 \t Pelt:      [487, 513, 535]\n",
      "Sequence:16 \t Pelt:           [106, 199]\n",
      "Sequence:17 \t Pelt:            [81, 188]\n",
      "Sequence:18 \t Pelt:           [123, 333]\n",
      "Sequence:19 \t Pelt:            [68, 223]\n",
      "Sequence:20 \t Pelt:       [64, 122, 187]\n"
     ]
    }
   ],
   "source": [
    "for i in range(20):\n",
    "    sequence, _, _, _, _, _, _, _, _ = get_data(i, seqs=seqs, labels=labels)\n",
    "    pelt_result = rpt.Pelt(model=\"l2\", min_size=1, jump=1).fit(sequence[1:]).predict(pen=1)\n",
    "    print(\"Sequence:%2s \\t Pelt: %20s\" % (i+1, pelt_result))"
   ]
  },
  {
   "cell_type": "code",
   "execution_count": 5,
   "metadata": {},
   "outputs": [
    {
     "name": "stdout",
     "output_type": "stream",
     "text": [
      "Sequence: 1 \t Mine: [187, 437, 460, 474]\n",
      "Sequence: 2 \t Mine:            [86, 155]\n",
      "Sequence: 3 \t Mine:             [33, 79]\n",
      "Sequence: 4 \t Mine:            [71, 163]\n",
      "Sequence: 5 \t Mine:            [28, 118]\n",
      "Sequence: 6 \t Mine:           [105, 199]\n",
      "Sequence: 7 \t Mine:           [127, 188]\n",
      "Sequence: 8 \t Mine:                [256]\n",
      "Sequence: 9 \t Mine:           [139, 223]\n",
      "Sequence:10 \t Mine:            [14, 170]\n",
      "Sequence:11 \t Mine:           [243, 414]\n",
      "Sequence:12 \t Mine:           [135, 303]\n",
      "Sequence:13 \t Mine:       [24, 175, 495]\n",
      "Sequence:14 \t Mine:            [19, 178]\n",
      "Sequence:15 \t Mine:      [487, 513, 535]\n",
      "Sequence:16 \t Mine:           [106, 199]\n",
      "Sequence:17 \t Mine:            [81, 188]\n",
      "Sequence:18 \t Mine:           [123, 333]\n",
      "Sequence:19 \t Mine:            [68, 223]\n",
      "Sequence:20 \t Mine:       [64, 122, 187]\n"
     ]
    }
   ],
   "source": [
    "for i in range(20):\n",
    "    sequence, _, _, _, _, _, _, _, _ = get_data(i, seqs=seqs, labels=labels)\n",
    "    my_result = list(opart(1, sequence)[1:])\n",
    "    print(\"Sequence:%2s \\t Mine: %20s\" % (i+1, my_result))"
   ]
  }
 ],
 "metadata": {
  "kernelspec": {
   "display_name": "Python 3",
   "language": "python",
   "name": "python3"
  },
  "language_info": {
   "codemirror_mode": {
    "name": "ipython",
    "version": 3
   },
   "file_extension": ".py",
   "mimetype": "text/x-python",
   "name": "python",
   "nbconvert_exporter": "python",
   "pygments_lexer": "ipython3",
   "version": "3.11.8"
  }
 },
 "nbformat": 4,
 "nbformat_minor": 2
}
