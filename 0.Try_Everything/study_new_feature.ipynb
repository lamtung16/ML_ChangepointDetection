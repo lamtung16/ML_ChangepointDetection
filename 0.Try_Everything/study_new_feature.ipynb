{
 "cells": [
  {
   "cell_type": "code",
   "execution_count": 3,
   "metadata": {},
   "outputs": [
    {
     "name": "stdout",
     "output_type": "stream",
     "text": [
      "mean:  0.50, sd:  0.50, sum: 50.00, per_25:  1.00, sum_diff:  99.00\n",
      "mean:  0.50, sd:  0.50, sum: 50.00, per_25:  1.00, sum_diff:   3.00\n",
      "mean:  0.50, sd:  0.50, sum: 50.00, per_25:  1.00, sum_diff:   1.00\n"
     ]
    }
   ],
   "source": [
    "import numpy as np\n",
    "\n",
    "def calculate_statistics(sequence):\n",
    "    sum_of_diff = np.sum(np.abs(sequence[1:] - sequence[:-1]))\n",
    "    statistics = {\n",
    "        'mean':          np.mean(sequence),\n",
    "        'std_deviation': np.std(sequence),\n",
    "        'sum':           np.sum(sequence),\n",
    "        'percentile_75': np.percentile(sequence, 75),\n",
    "        'sum_diff':      sum_of_diff\n",
    "    }\n",
    "    return statistics\n",
    "\n",
    "sequence  = np.zeros(100)\n",
    "big_val   = 1\n",
    "small_val = 0\n",
    "step_list = [1, 25, 50]\n",
    "for step in step_list:\n",
    "    for i in range(int(len(sequence)/2/step)):\n",
    "        sequence[2*i*step: (2*i+1)*step]     = big_val\n",
    "        sequence[(2*i+1)*step: (2*i+2)*step] = small_val\n",
    "    stat = calculate_statistics(sequence)\n",
    "    print(\"mean: %5.2f, sd: %5.2f, sum: %5.2f, per_25: %5.2f, sum_diff: %6.2f\"\n",
    "            % (stat['mean'], stat['std_deviation'], stat['sum'], stat['percentile_75'], stat['sum_diff']))"
   ]
  }
 ],
 "metadata": {
  "kernelspec": {
   "display_name": "Python 3",
   "language": "python",
   "name": "python3"
  },
  "language_info": {
   "codemirror_mode": {
    "name": "ipython",
    "version": 3
   },
   "file_extension": ".py",
   "mimetype": "text/x-python",
   "name": "python",
   "nbconvert_exporter": "python",
   "pygments_lexer": "ipython3",
   "version": "3.11.7"
  }
 },
 "nbformat": 4,
 "nbformat_minor": 2
}
