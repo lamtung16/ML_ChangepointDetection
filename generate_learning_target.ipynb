{
 "cells": [
  {
   "cell_type": "code",
   "execution_count": 1,
   "metadata": {},
   "outputs": [],
   "source": [
    "import pandas as pd\n",
    "import numpy as np"
   ]
  },
  {
   "cell_type": "code",
   "execution_count": 2,
   "metadata": {},
   "outputs": [],
   "source": [
    "# Read the CSV file into a DataFrame\n",
    "df_1 = pd.read_csv('1_genome/1_training_data/errors_fold1_base_e.csv')\n",
    "df_2 = pd.read_csv('1_genome/1_training_data/errors_fold2_base_e.csv')"
   ]
  },
  {
   "cell_type": "code",
   "execution_count": 3,
   "metadata": {},
   "outputs": [],
   "source": [
    "df_3 = df_1.drop(columns='sequenceID') + df_2.drop(columns='sequenceID')\n",
    "df_3 = pd.concat([df_1['sequenceID'], df_3], axis=1)"
   ]
  },
  {
   "cell_type": "code",
   "execution_count": 4,
   "metadata": {},
   "outputs": [],
   "source": [
    "df_target_1 = pd.DataFrame(columns=['sequenceID', 'small_end', 'big_end'])\n",
    "df_target_2 = pd.DataFrame(columns=['sequenceID', 'small_end', 'big_end'])\n",
    "df_target_3 = pd.DataFrame(columns=['sequenceID', 'small_end', 'big_end'])\n",
    "\n",
    "# Create DataFrame\n",
    "rows = []\n",
    "for index, row in df_1.iterrows():\n",
    "    min_value_col_start = row.iloc[1:].idxmin()\n",
    "    min_value_col_end = row.iloc[1:][::-1].idxmin()\n",
    "    rows.append({'sequenceID': row['sequenceID'], \n",
    "                 'small_end': min_value_col_start, \n",
    "                 'big_end': min_value_col_end})\n",
    "\n",
    "df_target_1 = pd.DataFrame(rows)\n",
    "\n",
    "# Create DataFrame\n",
    "rows = []\n",
    "for index, row in df_2.iterrows():\n",
    "    min_value_col_start = row.iloc[1:].idxmin()\n",
    "    min_value_col_end = row.iloc[1:][::-1].idxmin()\n",
    "    rows.append({'sequenceID': row['sequenceID'], \n",
    "                 'small_end': min_value_col_start, \n",
    "                 'big_end': min_value_col_end})\n",
    "\n",
    "df_target_2 = pd.DataFrame(rows)\n",
    "\n",
    "# Create DataFrame\n",
    "rows = []\n",
    "for index, row in df_3.iterrows():\n",
    "    min_value_col_start = row.iloc[1:].idxmin()\n",
    "    min_value_col_end = row.iloc[1:][::-1].idxmin()\n",
    "    rows.append({'sequenceID': row['sequenceID'], \n",
    "                 'small_end': min_value_col_start, \n",
    "                 'big_end': min_value_col_end})\n",
    "\n",
    "df_target_3 = pd.DataFrame(rows)"
   ]
  },
  {
   "cell_type": "code",
   "execution_count": 5,
   "metadata": {},
   "outputs": [],
   "source": [
    "df_target_1.to_csv('1_genome/1_training_data/target_lambda_fold1_base_e.csv', index=False)\n",
    "df_target_2.to_csv('1_genome/1_training_data/target_lambda_fold2_base_e.csv', index=False)\n",
    "df_target_3.to_csv('1_genome/1_training_data/target_lambda_bothfold_base_e.csv', index=False)"
   ]
  }
 ],
 "metadata": {
  "kernelspec": {
   "display_name": "Python 3",
   "language": "python",
   "name": "python3"
  },
  "language_info": {
   "codemirror_mode": {
    "name": "ipython",
    "version": 3
   },
   "file_extension": ".py",
   "mimetype": "text/x-python",
   "name": "python",
   "nbconvert_exporter": "python",
   "pygments_lexer": "ipython3",
   "version": "3.11.7"
  }
 },
 "nbformat": 4,
 "nbformat_minor": 2
}
