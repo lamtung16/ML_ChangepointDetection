{
 "cells": [
  {
   "cell_type": "code",
   "execution_count": 1,
   "metadata": {},
   "outputs": [],
   "source": [
    "import pandas as pd\n",
    "import numpy as np"
   ]
  },
  {
   "cell_type": "code",
   "execution_count": 2,
   "metadata": {},
   "outputs": [],
   "source": [
    "# Read the CSV file into a DataFrame\n",
    "df_1 = pd.read_csv('1.genome_learning_data/errors_fold1.csv')\n",
    "df_2 = pd.read_csv('1.genome_learning_data/errors_fold2.csv')\n",
    "df_3 = pd.read_csv('1.genome_learning_data/errors_total.csv')"
   ]
  },
  {
   "cell_type": "code",
   "execution_count": 3,
   "metadata": {},
   "outputs": [],
   "source": [
    "def find_min_indices(array):\n",
    "    min_index = np.argmin(array)\n",
    "    max_index = len(array) - 1 - np.argmin(array[::-1])\n",
    "    return np.array([min_index, max_index])"
   ]
  },
  {
   "cell_type": "code",
   "execution_count": 4,
   "metadata": {},
   "outputs": [],
   "source": [
    "rows_1 = []\n",
    "rows_2 = []\n",
    "rows_3 = []\n",
    "for i in range(len(df_1)):\n",
    "    rows_1.append([i, ((find_min_indices(df_1.iloc[i].to_numpy()[1:]) - 10)*0.5)[0], ((find_min_indices(df_1.iloc[i].to_numpy()[1:]) - 10)*0.5)[1]])\n",
    "    rows_2.append([i, ((find_min_indices(df_2.iloc[i].to_numpy()[1:]) - 10)*0.5)[0], ((find_min_indices(df_2.iloc[i].to_numpy()[1:]) - 10)*0.5)[1]])\n",
    "    rows_3.append([i, ((find_min_indices(df_3.iloc[i].to_numpy()[1:]) - 10)*0.5)[0], ((find_min_indices(df_3.iloc[i].to_numpy()[1:]) - 10)*0.5)[1]])\n",
    "\n",
    "column_names = [\"seqID\", \"small_end\", \"big_end\"]\n",
    "pd.DataFrame(rows_1, columns=column_names).to_csv(\"1.genome_learning_data/target_lambda_fold1.csv\", index=False)\n",
    "pd.DataFrame(rows_2, columns=column_names).to_csv(\"1.genome_learning_data/target_lambda_fold2.csv\", index=False)\n",
    "pd.DataFrame(rows_3, columns=column_names).to_csv(\"1.genome_learning_data/target_lambda_bothfold.csv\", index=False)"
   ]
  }
 ],
 "metadata": {
  "kernelspec": {
   "display_name": "Python 3",
   "language": "python",
   "name": "python3"
  },
  "language_info": {
   "codemirror_mode": {
    "name": "ipython",
    "version": 3
   },
   "file_extension": ".py",
   "mimetype": "text/x-python",
   "name": "python",
   "nbconvert_exporter": "python",
   "pygments_lexer": "ipython3",
   "version": "3.11.7"
  }
 },
 "nbformat": 4,
 "nbformat_minor": 2
}
