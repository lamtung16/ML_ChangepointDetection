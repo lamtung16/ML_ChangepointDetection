{
 "cells": [
  {
   "cell_type": "code",
   "execution_count": null,
   "metadata": {},
   "outputs": [],
   "source": [
    "from ipynb.fs.full.utility_functions import gen_toy_data, get_cumsum, get_mean, get_T, plot_sequence, lopart\n",
    "from plotnine import save_as_pdf_pages"
   ]
  },
  {
   "cell_type": "code",
   "execution_count": null,
   "metadata": {},
   "outputs": [],
   "source": [
    "# generate data\n",
    "sequence, neg_start, neg_end, pos_start, pos_end = gen_toy_data()\n",
    "sequence_length = len(sequence) - 1\n",
    "\n",
    "# vectors of cumulative sums\n",
    "y, z = get_cumsum(sequence)\n",
    "\n",
    "# get T\n",
    "T_lopart = get_T(sequence_length, neg_start, neg_end, pos_start, pos_end)\n",
    "T_opart  = get_T(sequence_length, [], [], [], [])\n",
    "\n",
    "# save images of solution with respect to different lambda into one pdf file\n",
    "plots = [plot_sequence(sequence, neg_start, neg_end, pos_start, pos_end)]\n",
    "for T in [T_opart, T_lopart]:\n",
    "    for lda in [0, 1, 10, 100]:\n",
    "        chpnt = lopart(lda, T, sequence, y, z)\n",
    "        mean  = get_mean(y, chpnt)\n",
    "        if(T == T_opart):\n",
    "            algorithm = 'OPART'\n",
    "        else:\n",
    "            algorithm = 'LOPART'\n",
    "        \n",
    "        plots.append(plot_sequence(sequence, neg_start, neg_end, pos_start, pos_end, algorithm, chpnt, mean, lda))\n",
    "\n",
    "save_as_pdf_pages(plots, filename='output.pdf')"
   ]
  }
 ],
 "metadata": {
  "kernelspec": {
   "display_name": ".venv",
   "language": "python",
   "name": "python3"
  },
  "language_info": {
   "codemirror_mode": {
    "name": "ipython",
    "version": 3
   },
   "file_extension": ".py",
   "mimetype": "text/x-python",
   "name": "python",
   "nbconvert_exporter": "python",
   "pygments_lexer": "ipython3",
   "version": "3.11.7"
  }
 },
 "nbformat": 4,
 "nbformat_minor": 2
}
