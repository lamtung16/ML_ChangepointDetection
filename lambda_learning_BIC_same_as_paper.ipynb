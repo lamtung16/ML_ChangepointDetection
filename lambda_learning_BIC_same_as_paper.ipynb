{
 "cells": [
  {
   "cell_type": "code",
   "execution_count": 1,
   "metadata": {},
   "outputs": [],
   "source": [
    "import numpy as np\n",
    "from ipynb.fs.full.utility_functions import gen_data_dict, get_data, get_cumsum, error_count, write_to_csv, opart"
   ]
  },
  {
   "cell_type": "code",
   "execution_count": 2,
   "metadata": {},
   "outputs": [],
   "source": [
    "seqs   = gen_data_dict('sequence_label_data/genome/signals.gz')\n",
    "labels = gen_data_dict('sequence_label_data/genome/labels.gz')\n",
    "\n",
    "header = ['sequenceID', \"log_lambda\", 'fold_1_total_labels', 'fold_2_total_labels', 'fold_1_fp_errs', 'fold_1_fn_errs', 'fold_1_tp', 'fold_1_tn', 'fold_2_fp_errs', 'fold_2_fn_errs', 'fold_2_tp', 'fold_2_tn',]\n",
    "for i in range(len(seqs)):\n",
    "    # generate data\n",
    "    sequence, neg_start_1, neg_end_1, pos_start_1, pos_end_1, neg_start_2, neg_end_2, pos_start_2, pos_end_2 = get_data(i, seqs=seqs, labels=labels)\n",
    "    sequence_length = len(sequence)-1\n",
    "\n",
    "    # calculate lambda\n",
    "    lda = np.log(sequence_length)\n",
    "    lda = 10**(min([i/2 for i in range(-10, 11)], key=lambda x: abs(x - np.log10(lda))))\n",
    "\n",
    "    # get total labels\n",
    "    fold1_total_labels = len(neg_start_1) + len(pos_start_1)\n",
    "    fold2_total_labels = len(neg_start_2) + len(pos_start_2)\n",
    "\n",
    "    # run each lambda and record it into csv file\n",
    "    row = [seqs[i][0], np.log10(lda), fold1_total_labels, fold2_total_labels]\n",
    "\n",
    "    chpnt = opart(lda, sequence)\n",
    "    err_1 = error_count(chpnt, neg_start_1, neg_end_1, pos_start_1, pos_end_1)\n",
    "    err_2 = error_count(chpnt, neg_start_2, neg_end_2, pos_start_2, pos_end_2)\n",
    "    row.append(err_1[0])\n",
    "    row.append(err_1[1])\n",
    "    row.append(err_1[2])\n",
    "    row.append(err_1[3])\n",
    "    row.append(err_2[0])\n",
    "    row.append(err_2[1])\n",
    "    row.append(err_2[2])\n",
    "    row.append(err_2[3])\n",
    "\n",
    "    write_to_csv('1.genome_learning_output/BIC_paper.csv', header, row)"
   ]
  }
 ],
 "metadata": {
  "kernelspec": {
   "display_name": "Python 3",
   "language": "python",
   "name": "python3"
  },
  "language_info": {
   "codemirror_mode": {
    "name": "ipython",
    "version": 3
   },
   "file_extension": ".py",
   "mimetype": "text/x-python",
   "name": "python",
   "nbconvert_exporter": "python",
   "pygments_lexer": "ipython3",
   "version": "3.11.7"
  }
 },
 "nbformat": 4,
 "nbformat_minor": 2
}
