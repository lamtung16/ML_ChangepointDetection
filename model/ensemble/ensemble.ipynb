{
 "cells": [
  {
   "cell_type": "code",
   "execution_count": 1,
   "metadata": {},
   "outputs": [],
   "source": [
    "import numpy as np\n",
    "import pandas as pd\n",
    "from sklearn.linear_model import LinearRegression\n",
    "import os"
   ]
  },
  {
   "cell_type": "code",
   "execution_count": 2,
   "metadata": {},
   "outputs": [],
   "source": [
    "category = 'proposed'"
   ]
  },
  {
   "cell_type": "code",
   "execution_count": 3,
   "metadata": {},
   "outputs": [],
   "source": [
    "def train_and_predict(dataset, test_fold, number_of_features):\n",
    "    # Load data\n",
    "    folds_df = pd.read_csv(f'../../training_data/{dataset}/folds.csv')\n",
    "    features_df = pd.read_csv(f'../../training_data/{dataset}/features_sorted_transformed.csv').iloc[:, :1 + number_of_features * 2]\n",
    "    target_df = pd.read_csv(f'../../training_data/{dataset}/target.csv')\n",
    "\n",
    "    # Split data into training and test sets\n",
    "    train_ids = folds_df[folds_df['fold'] != test_fold]['sequenceID']\n",
    "    test_ids = folds_df[folds_df['fold'] == test_fold]['sequenceID']\n",
    "    \n",
    "    features_df_train = features_df[features_df['sequenceID'].isin(train_ids)]\n",
    "    features_df_test = features_df[features_df['sequenceID'].isin(test_ids)]\n",
    "    target_df_train = target_df[target_df['sequenceID'].isin(train_ids)]\n",
    "\n",
    "    def train_model(suffix, target_column):\n",
    "        # Filter features and target\n",
    "        X_train = features_df_train.filter(regex=fr'\\.{suffix}$')\n",
    "        X_test = features_df_test.filter(regex=fr'\\.{suffix}$')\n",
    "        y_train = target_df_train[target_column]\n",
    "\n",
    "        # Filter out invalid rows\n",
    "        X_train = X_train.reset_index(drop=True)\n",
    "        y_train = y_train.reset_index(drop=True)\n",
    "        if suffix == 'lower':\n",
    "            valid_rows = y_train != -np.inf\n",
    "        else:\n",
    "            valid_rows = y_train != np.inf\n",
    "\n",
    "        # Ensure y_train has no NaN values\n",
    "        valid_rows &= ~np.isnan(y_train)\n",
    "        X_train = X_train[valid_rows].to_numpy()\n",
    "        y_train = y_train[valid_rows].to_numpy()\n",
    "\n",
    "        # Replace NaN values in X_train and X_test with 0\n",
    "        X_train = np.nan_to_num(X_train)\n",
    "        X_test = np.nan_to_num(X_test)\n",
    "\n",
    "        # Train model\n",
    "        model = LinearRegression()\n",
    "        model.fit(X_train, y_train)\n",
    "\n",
    "        # Predict\n",
    "        return model.predict(X_test)\n",
    "\n",
    "    # Train and predict for both lower and upper models\n",
    "    lda_lower_pred = train_model('lower', 'min.log.lambda')\n",
    "    lda_upper_pred = train_model('upper', 'max.log.lambda')\n",
    "\n",
    "    # Calculate and return the average vector\n",
    "    pred_lldas = (lda_lower_pred + lda_upper_pred) / 2\n",
    "\n",
    "    lldas_df = pd.DataFrame(list(zip(features_df_test['sequenceID'], pred_lldas)), columns=['sequenceID', 'llda'])\n",
    "    lldas_df.to_csv(f'predictions/{category}.{dataset}.{test_fold}.{number_of_features}.csv', index=False)"
   ]
  },
  {
   "cell_type": "code",
   "execution_count": 4,
   "metadata": {},
   "outputs": [],
   "source": [
    "folder_path = '../../training_data'\n",
    "datasets = [name for name in os.listdir(folder_path) if os.path.isdir(os.path.join(folder_path, name))]"
   ]
  },
  {
   "cell_type": "code",
   "execution_count": 5,
   "metadata": {},
   "outputs": [],
   "source": [
    "for number_of_features in range(1, 21):\n",
    "    for dataset in datasets:\n",
    "        fold_df = pd.read_csv(f'../../training_data/{dataset}/folds.csv')\n",
    "        for test_fold in range(1, np.unique(fold_df['fold']).__len__() + 1):\n",
    "            train_and_predict(dataset, test_fold, number_of_features)"
   ]
  }
 ],
 "metadata": {
  "kernelspec": {
   "display_name": "Python 3",
   "language": "python",
   "name": "python3"
  },
  "language_info": {
   "codemirror_mode": {
    "name": "ipython",
    "version": 3
   },
   "file_extension": ".py",
   "mimetype": "text/x-python",
   "name": "python",
   "nbconvert_exporter": "python",
   "pygments_lexer": "ipython3",
   "version": "3.10.11"
  }
 },
 "nbformat": 4,
 "nbformat_minor": 2
}
