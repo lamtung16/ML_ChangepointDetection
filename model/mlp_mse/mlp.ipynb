{
 "cells": [
  {
   "cell_type": "code",
   "execution_count": 1,
   "metadata": {},
   "outputs": [],
   "source": [
    "from mlp_utils import mlp_train_and_predict\n",
    "import pandas as pd\n",
    "import numpy as np"
   ]
  },
  {
   "cell_type": "code",
   "execution_count": 2,
   "metadata": {},
   "outputs": [],
   "source": [
    "category = 'proposed'"
   ]
  },
  {
   "cell_type": "code",
   "execution_count": 3,
   "metadata": {},
   "outputs": [],
   "source": [
    "dataset = 'detailed'\n",
    "test_fold = 1\n",
    "chosen_feature = ['loglog_count', 'log_variance', 'log_range_value', 'loglog_sum_diff']"
   ]
  },
  {
   "cell_type": "code",
   "execution_count": 4,
   "metadata": {},
   "outputs": [],
   "source": [
    "# Load data\n",
    "folds_df = pd.read_csv(f'../../training_data/{dataset}/folds.csv')\n",
    "features_df = pd.read_csv(f'../../training_data/{dataset}/features.csv')[['sequenceID'] + chosen_feature]\n",
    "target_df = pd.read_csv(f'../../training_data/{dataset}/target.csv')"
   ]
  },
  {
   "cell_type": "code",
   "execution_count": 5,
   "metadata": {},
   "outputs": [],
   "source": [
    "# Split data into training and test sets\n",
    "train_ids = folds_df[folds_df['fold'] != test_fold]['sequenceID']\n",
    "test_ids = folds_df[folds_df['fold'] == test_fold]['sequenceID']\n",
    "\n",
    "features_df_train = features_df[features_df['sequenceID'].isin(train_ids)]\n",
    "features_df_test = features_df[features_df['sequenceID'].isin(test_ids)]\n",
    "target_df_train = target_df[target_df['sequenceID'].isin(train_ids)]"
   ]
  },
  {
   "cell_type": "code",
   "execution_count": 6,
   "metadata": {},
   "outputs": [],
   "source": [
    "def train_model(suffix, target_column):\n",
    "    # Filter features and target\n",
    "    X_train = features_df_train[chosen_feature]\n",
    "    X_test = features_df_test[chosen_feature]\n",
    "    y_train = target_df_train[target_column]\n",
    "\n",
    "    # Filter out invalid rows\n",
    "    X_train = X_train.reset_index(drop=True)\n",
    "    y_train = y_train.reset_index(drop=True)\n",
    "    if suffix == 'lower':\n",
    "        valid_rows = y_train != -np.inf\n",
    "    else:\n",
    "        valid_rows = y_train != np.inf\n",
    "    X_train = X_train[valid_rows]\n",
    "    y_train = y_train[valid_rows].to_numpy()\n",
    "\n",
    "    y_pred, best_params_ = mlp_train_and_predict(X_train, X_test, y_train)\n",
    "    return y_pred, best_params_"
   ]
  },
  {
   "cell_type": "code",
   "execution_count": 7,
   "metadata": {},
   "outputs": [],
   "source": [
    "# Train and predict for both lower and upper models\n",
    "lda_lower_pred, best_params_lower = train_model('lower', 'min.log.lambda')\n",
    "lda_upper_pred, best_params_upper = train_model('upper', 'max.log.lambda')\n",
    "\n",
    "# Calculate and return the average vector\n",
    "pred_lldas = (lda_lower_pred + lda_upper_pred) / 2"
   ]
  },
  {
   "cell_type": "code",
   "execution_count": 8,
   "metadata": {},
   "outputs": [],
   "source": [
    "lldas_df = pd.DataFrame(list(zip(features_df_test['sequenceID'], pred_lldas)), columns=['sequenceID', 'llda'])"
   ]
  },
  {
   "cell_type": "code",
   "execution_count": 9,
   "metadata": {},
   "outputs": [],
   "source": [
    "lldas_df = pd.DataFrame(list(zip(features_df_test['sequenceID'], pred_lldas)), columns=['sequenceID', 'llda'])\n",
    "lldas_df.to_csv(f'predictions/{category}.{dataset}.{test_fold}.{len(chosen_feature)}.csv', index=False)"
   ]
  },
  {
   "cell_type": "code",
   "execution_count": 10,
   "metadata": {},
   "outputs": [
    {
     "data": {
      "text/plain": [
       "{'hidden_layer_sizes': (512,), 'max_iter': 1000}"
      ]
     },
     "execution_count": 10,
     "metadata": {},
     "output_type": "execute_result"
    }
   ],
   "source": [
    "best_params_lower"
   ]
  },
  {
   "cell_type": "code",
   "execution_count": 11,
   "metadata": {},
   "outputs": [
    {
     "data": {
      "text/plain": [
       "{'hidden_layer_sizes': (64,), 'max_iter': 1000}"
      ]
     },
     "execution_count": 11,
     "metadata": {},
     "output_type": "execute_result"
    }
   ],
   "source": [
    "best_params_upper"
   ]
  }
 ],
 "metadata": {
  "kernelspec": {
   "display_name": "Python 3",
   "language": "python",
   "name": "python3"
  },
  "language_info": {
   "codemirror_mode": {
    "name": "ipython",
    "version": 3
   },
   "file_extension": ".py",
   "mimetype": "text/x-python",
   "name": "python",
   "nbconvert_exporter": "python",
   "pygments_lexer": "ipython3",
   "version": "3.11.9"
  }
 },
 "nbformat": 4,
 "nbformat_minor": 2
}
