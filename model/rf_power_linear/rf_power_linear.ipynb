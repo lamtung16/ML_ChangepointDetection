{
 "cells": [
  {
   "cell_type": "code",
   "execution_count": 19,
   "metadata": {
    "vscode": {
     "languageId": "r"
    }
   },
   "outputs": [],
   "source": [
    "# https://cran.r-project.org/web/packages/penaltyLearning/index.html"
   ]
  },
  {
   "cell_type": "code",
   "execution_count": 20,
   "metadata": {
    "vscode": {
     "languageId": "r"
    }
   },
   "outputs": [],
   "source": [
    "# libraries\n",
    "library(penaltyLearning)\n",
    "library(data.table)"
   ]
  },
  {
   "cell_type": "code",
   "execution_count": 21,
   "metadata": {
    "vscode": {
     "languageId": "r"
    }
   },
   "outputs": [],
   "source": [
    "# previous or proposed\n",
    "category <- 'proposed'"
   ]
  },
  {
   "cell_type": "code",
   "execution_count": 22,
   "metadata": {
    "vscode": {
     "languageId": "r"
    }
   },
   "outputs": [],
   "source": [
    "# choose number of feature\n",
    "n_features <- 8"
   ]
  },
  {
   "cell_type": "code",
   "execution_count": 23,
   "metadata": {
    "vscode": {
     "languageId": "r"
    }
   },
   "outputs": [],
   "source": [
    "# Get the names of all folders in a specified directory\n",
    "datasets <- list.dirs(path = \"../../training_data\", full.names = FALSE, recursive = FALSE)"
   ]
  },
  {
   "cell_type": "code",
   "execution_count": 24,
   "metadata": {
    "vscode": {
     "languageId": "r"
    }
   },
   "outputs": [
    {
     "name": "stdout",
     "output_type": "stream",
     "text": [
      "Error in fold 1 for dataset H3K9me3_TDH_BP \n"
     ]
    }
   ],
   "source": [
    "# training\n",
    "for (dataset in datasets) {\n",
    "    # read data\n",
    "    feature.dt <- fread(paste(\"../../training_data/\", dataset, \"/features_sorted_transformed.csv\", sep = \"\"))\n",
    "    feature.dt[, names(feature.dt) := lapply(.SD, function(x) { x[is.nan(x)] <- 0; x })]\n",
    "    target.dt  <- fread(paste(\"../../training_data/\", dataset, \"/target.csv\", sep = \"\"))\n",
    "    folds.dt   <- fread(paste(\"../../training_data/\", dataset, \"/folds.csv\", sep = \"\"))\n",
    "\n",
    "    # get number of folds\n",
    "    n_folds <- dim(unique(folds.dt[,\"fold\"]))[1]\n",
    "    \n",
    "    # filter censored intervals\n",
    "    target.dt  <- target.dt[!(min.log.lambda == -Inf & max.log.lambda == Inf)]\n",
    "    feature.dt <- feature.dt[sequenceID %in% target.dt$sequenceID]\n",
    "    folds.dt   <- folds.dt[sequenceID %in% target.dt$sequenceID]\n",
    "\n",
    "    inputset <- colnames(feature.dt)[2: (2*n_features+1)]    \n",
    "\n",
    "    # combine\n",
    "    feature.dt.all <- cbind(feature.dt[, c(\"sequenceID\", ..inputset)], folds.dt[, \"fold\"])\n",
    "    target.dt.all  <- cbind(target.dt, folds.dt[, \"fold\"])\n",
    "\n",
    "    for (test.fold in 1:n_folds) {\n",
    "        # get train and test data\n",
    "        feature.mat.train <- as.matrix(feature.dt.all[feature.dt.all$fold != test.fold, ..inputset])\n",
    "        feature.mat.test  <- as.matrix(feature.dt.all[feature.dt.all$fold == test.fold, ..inputset])\n",
    "        target.mat.train  <- as.matrix(target.dt.all[target.dt.all$fold != test.fold, c(\"min.log.lambda\", \"max.log.lambda\")])\n",
    "        \n",
    "        # train model with error handling\n",
    "        fit <- try(\n",
    "            IntervalRegressionUnregularized(\n",
    "                feature.mat = feature.mat.train,\n",
    "                target.mat = target.mat.train\n",
    "            ),\n",
    "            silent = TRUE\n",
    "        )\n",
    "        \n",
    "        # check if model training was successful\n",
    "        if (inherits(fit, \"try-error\")) {\n",
    "            cat(\"Error in fold\", test.fold, \"for dataset\", dataset, \"\\n\")\n",
    "            next\n",
    "        }\n",
    "        \n",
    "        # get prediction from test set\n",
    "        target.mat.pred <- fit$predict(feature.mat.test)\n",
    "        colnames(target.mat.pred) <- \"llda\"\n",
    "\n",
    "        # save prediction to csv\n",
    "        prediction <- data.frame(as.matrix(feature.dt.all[feature.dt.all$fold == test.fold, \"sequenceID\"]), target.mat.pred)\n",
    "        write.csv(prediction, file = paste(\"predictions/\", paste(category, dataset, test.fold, n_features, \"csv\", sep = \".\"), sep=''), row.names = FALSE)\n",
    "    }\n",
    "}"
   ]
  }
 ],
 "metadata": {
  "kernelspec": {
   "display_name": "R",
   "language": "R",
   "name": "ir"
  },
  "language_info": {
   "codemirror_mode": "r",
   "file_extension": ".r",
   "mimetype": "text/x-r-source",
   "name": "R",
   "pygments_lexer": "r",
   "version": "4.3.3"
  }
 },
 "nbformat": 4,
 "nbformat_minor": 2
}
