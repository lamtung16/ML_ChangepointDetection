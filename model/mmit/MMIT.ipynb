{
 "cells": [
  {
   "cell_type": "code",
   "execution_count": 1,
   "metadata": {
    "vscode": {
     "languageId": "r"
    }
   },
   "outputs": [],
   "source": [
    "# https://github.com/aldro61/mmit"
   ]
  },
  {
   "cell_type": "code",
   "execution_count": 2,
   "metadata": {
    "vscode": {
     "languageId": "r"
    }
   },
   "outputs": [
    {
     "name": "stderr",
     "output_type": "stream",
     "text": [
      "Loading required package: future\n",
      "\n"
     ]
    }
   ],
   "source": [
    "library(mmit)\n",
    "library(data.table)\n",
    "library(future.apply)"
   ]
  },
  {
   "cell_type": "code",
   "execution_count": 3,
   "metadata": {
    "vscode": {
     "languageId": "r"
    }
   },
   "outputs": [],
   "source": [
    "data_list       <- list(\"detailed\", \"systematic\")\n",
    "margin_list     <- c(1)\n",
    "loss_list       <- c(\"square\")\n",
    "max_depth_list  <- c(5, 10)\n",
    "min_sample_list <- c(2, 10, 20, 100)"
   ]
  },
  {
   "cell_type": "code",
   "execution_count": 4,
   "metadata": {
    "vscode": {
     "languageId": "r"
    }
   },
   "outputs": [],
   "source": [
    "for (dataset in data_list) {\n",
    "    folds.df <- fread(paste(\"../../training_data/\", dataset, \"/folds.csv\", sep = \"\"))\n",
    "\n",
    "    # get dfs for all folds\n",
    "    inputs.all.df  <- read.csv(paste(\"../../training_data/\", dataset, \"/features.csv\", sep = \"\"))\n",
    "    outputs.all.df <- read.csv(paste(\"../../training_data/\", dataset, \"/target.csv\", sep = \"\"))\n",
    "\n",
    "    inputs.all.df <- cbind(inputs.all.df, folds.df)\n",
    "    outputs.all.df <- cbind(outputs.all.df, folds.df)\n",
    "\n",
    "    # get train set and test set\n",
    "    train.inputs.df <- inputs.all.df[inputs.all.df$fold == \"short\", !names(inputs.all.df) %in% c(\"sequenceID\", \"fold\"), drop = FALSE]\n",
    "    test.inputs.df  <- inputs.all.df[inputs.all.df$fold == \"long\", !names(inputs.all.df) %in% c(\"sequenceID\", \"fold\"), drop = FALSE]\n",
    "\n",
    "    # Convert to data frames (this is often optional as subsetting should already result in a data frame)\n",
    "    train.inputs.df <- data.frame(train.inputs.df)\n",
    "    test.inputs.df  <- data.frame(test.inputs.df)\n",
    "\n",
    "    train.outputs.df <- outputs.all.df[outputs.all.df$fold == \"short\", ][, c(\"min.log.lambda\", \"max.log.lambda\")]\n",
    "    train.outputs.df <- as.matrix(train.outputs.df)\n",
    "\n",
    "    # cv to pick the best params in train set\n",
    "    param_grid <- NULL\n",
    "    param_grid$margin <- margin_list\n",
    "    param_grid$loss <- loss_list\n",
    "    param_grid$max_depth <- max_depth_list\n",
    "    param_grid$min_sample <- min_sample_list\n",
    "\n",
    "    set.seed(4)\n",
    "    result <- mmit.cv(\n",
    "        feature.mat = train.inputs.df,\n",
    "        target.mat = train.outputs.df,\n",
    "        param_grid = param_grid,\n",
    "        n_folds = 2,\n",
    "        scorer = mse,\n",
    "        pruning = TRUE,\n",
    "        future.seed = TRUE\n",
    "    )\n",
    "\n",
    "    # train the model with all train set by best params\n",
    "    tree <- mmit(feature.mat = train.inputs.df,\n",
    "                target.mat   = train.outputs.df,\n",
    "                max_depth    = result$best_params$max_depth,\n",
    "                margin       = result$best_params$margin,\n",
    "                loss         = result$best_params$loss,\n",
    "                min_sample   = result$best_params$min_sample)\n",
    "    \n",
    "    # produce prediction for test set\n",
    "    pred <- predict.mmit(tree, test.inputs.df)\n",
    "\n",
    "    # save to csv\n",
    "    sequenceID  <- inputs.all.df[inputs.all.df$fold == \"long\", 'sequenceID', drop = FALSE]\n",
    "    prediction <- cbind(sequenceID, pred)\n",
    "    names(prediction) <- c(\"sequenceID\", \"llda\")\n",
    "    write.csv(prediction, file = paste(\"predictions/\", paste(dataset, \"csv\", sep = \".\"), sep=''), row.names = FALSE)\n",
    "}"
   ]
  }
 ],
 "metadata": {
  "kernelspec": {
   "display_name": "R",
   "language": "R",
   "name": "ir"
  },
  "language_info": {
   "codemirror_mode": "r",
   "file_extension": ".r",
   "mimetype": "text/x-r-source",
   "name": "R",
   "pygments_lexer": "r",
   "version": "4.3.3"
  }
 },
 "nbformat": 4,
 "nbformat_minor": 2
}
