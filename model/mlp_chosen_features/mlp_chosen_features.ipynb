{
 "cells": [
  {
   "cell_type": "code",
   "execution_count": 1,
   "metadata": {},
   "outputs": [],
   "source": [
    "import pandas as pd\n",
    "import torch\n",
    "import torch.nn as nn\n",
    "import torch.optim as optim\n",
    "import numpy as np\n",
    "import os"
   ]
  },
  {
   "cell_type": "code",
   "execution_count": 2,
   "metadata": {},
   "outputs": [],
   "source": [
    "# Set random seed for reproducibility\n",
    "torch.manual_seed(12345)\n",
    "np.random.seed(12345)"
   ]
  },
  {
   "cell_type": "code",
   "execution_count": 3,
   "metadata": {},
   "outputs": [],
   "source": [
    "# Hinged Square Loss\n",
    "class SquaredHingeLoss(nn.Module):\n",
    "    def __init__(self, margin=1):\n",
    "        super(SquaredHingeLoss, self).__init__()\n",
    "        self.margin = margin\n",
    "\n",
    "    def forward(self, predicted, y):\n",
    "        low, high = y[:, 0:1], y[:, 1:2]\n",
    "        loss_low = torch.relu(low - predicted + self.margin)\n",
    "        loss_high = torch.relu(predicted - high + self.margin)\n",
    "        loss = loss_low + loss_high\n",
    "        return torch.mean(torch.square(loss))"
   ]
  },
  {
   "cell_type": "code",
   "execution_count": 4,
   "metadata": {},
   "outputs": [],
   "source": [
    "class SimpleNN(nn.Module):\n",
    "    def __init__(self, input_size):\n",
    "        super(SimpleNN, self).__init__()\n",
    "        self.fc1 = nn.Linear(input_size, 2)\n",
    "        self.fc2 = nn.Linear(2, 1)\n",
    "        self.leaky_relu = nn.LeakyReLU(negative_slope=0.01)\n",
    "\n",
    "    def forward(self, x):\n",
    "        x = self.leaky_relu(self.fc1(x))\n",
    "        x = self.fc2(x)\n",
    "        return x"
   ]
  },
  {
   "cell_type": "code",
   "execution_count": 5,
   "metadata": {},
   "outputs": [],
   "source": [
    "category = 'proposed'"
   ]
  },
  {
   "cell_type": "code",
   "execution_count": 6,
   "metadata": {},
   "outputs": [],
   "source": [
    "# dataset = 'ATAC_JV_adipose'\n",
    "# chosen_feature = [\"max_diff\", \"loglog_sum_diff\", \"log_range_value\"]"
   ]
  },
  {
   "cell_type": "code",
   "execution_count": 7,
   "metadata": {},
   "outputs": [],
   "source": [
    "# dataset = 'CTCF_TDH_ENCODE'\n",
    "# chosen_feature = [\"max_diff\", \"loglog_sum_diff\", \"mean\"]"
   ]
  },
  {
   "cell_type": "code",
   "execution_count": 8,
   "metadata": {},
   "outputs": [],
   "source": [
    "# dataset = 'detailed'\n",
    "# chosen_feature = [\"log_range_value\", \"log_variance\", \"autocorr\", \"loglog_sum_diff\", \"log_iqr\", \"log_unique_count\", \"log_mean_diff\", \"log_max_diff\", \"percentile_75\"]"
   ]
  },
  {
   "cell_type": "code",
   "execution_count": 9,
   "metadata": {},
   "outputs": [],
   "source": [
    "# dataset = 'H3K27ac-H3K4me3_TDHAM_BP'\n",
    "# chosen_feature = [\"log_mean\", \"log_variance\", \"log_range_value\", \"log_unique_count\"]"
   ]
  },
  {
   "cell_type": "code",
   "execution_count": 10,
   "metadata": {},
   "outputs": [],
   "source": [
    "# dataset = 'H3K36me3_AM_immune'\n",
    "# chosen_feature = [\"log_mean\", \"log_variance\", \"log_range_value\", \"log_unique_count\", \"autocorr\"]"
   ]
  },
  {
   "cell_type": "code",
   "execution_count": 11,
   "metadata": {},
   "outputs": [],
   "source": [
    "# dataset = 'H3K4me3_PGP_immune'\n",
    "# chosen_feature = [\"log_mean\", \"log_variance\", \"log_range_value\", \"log_unique_count\", \"autocorr\", \"log_max_diff\"]"
   ]
  },
  {
   "cell_type": "code",
   "execution_count": 12,
   "metadata": {},
   "outputs": [],
   "source": [
    "# dataset = 'H3K4me3_XJ_immune'\n",
    "# chosen_feature = [\"log_mean\", \"log_variance\", \"log_range_value\", \"log_max_diff\"]"
   ]
  },
  {
   "cell_type": "code",
   "execution_count": 13,
   "metadata": {},
   "outputs": [],
   "source": [
    "dataset = 'systematic'\n",
    "chosen_feature = [\"log_range_value\", \"log_variance\", \"autocorr\", \"loglog_sum_diff\", \"log_iqr\", \"log_unique_count\", \"log_mean_diff\", \"log_max_diff\"]"
   ]
  },
  {
   "cell_type": "code",
   "execution_count": 14,
   "metadata": {},
   "outputs": [],
   "source": [
    "# Load data\n",
    "folds_df = pd.read_csv(f'../../training_data/{dataset}/folds.csv')\n",
    "features_df = pd.read_csv(f'../../training_data/{dataset}/features.csv')[['sequenceID'] + chosen_feature]\n",
    "target_df = pd.read_csv(f'../../training_data/{dataset}/target.csv')\n",
    "\n",
    "for test_fold in range(1, np.unique(folds_df['fold']).__len__() + 1):\n",
    "    # Split data into training and test sets\n",
    "    train_ids = folds_df[folds_df['fold'] != test_fold]['sequenceID']\n",
    "    test_ids = folds_df[folds_df['fold'] == test_fold]['sequenceID']\n",
    "\n",
    "    features_df_train = features_df[features_df['sequenceID'].isin(train_ids)]\n",
    "    features_df_test = features_df[features_df['sequenceID'].isin(test_ids)]\n",
    "    target_df_train = target_df[target_df['sequenceID'].isin(train_ids)]\n",
    "\n",
    "    # Create X_train, y_train, X_test\n",
    "    X_train = features_df_train[chosen_feature].to_numpy()\n",
    "    y_train = target_df_train.iloc[:, 1:].to_numpy()\n",
    "    X_test = features_df_test[chosen_feature].to_numpy()\n",
    "\n",
    "    # Convert data to PyTorch tensors\n",
    "    X_train_tensor = torch.tensor(X_train, dtype=torch.float32)\n",
    "    y_train_tensor = torch.tensor(y_train, dtype=torch.float32)\n",
    "    X_test_tensor = torch.tensor(X_test, dtype=torch.float32)\n",
    "\n",
    "    # Initialize the model, loss function, and optimizer\n",
    "    input_dim = X_train.shape[1]\n",
    "    model = SimpleNN(input_dim)\n",
    "    criterion = SquaredHingeLoss()\n",
    "    optimizer = optim.Adam(model.parameters())\n",
    "\n",
    "    # Training with early stopping\n",
    "    best_train_loss = float('inf')\n",
    "    patience = 5000\n",
    "    patience_counter = 0\n",
    "\n",
    "    for epoch in range(500000):\n",
    "        model.train()\n",
    "        optimizer.zero_grad()\n",
    "        \n",
    "        # Forward pass\n",
    "        outputs = model(X_train_tensor)\n",
    "        loss = criterion(outputs, y_train_tensor)\n",
    "        \n",
    "        # Backward pass and optimization\n",
    "        loss.backward()\n",
    "        optimizer.step()\n",
    "        \n",
    "        # Early stopping check\n",
    "        train_loss = loss.item()\n",
    "        if train_loss < best_train_loss:\n",
    "            best_train_loss = train_loss\n",
    "            best_model = model.state_dict()  # Save the best model state\n",
    "            patience_counter = 0\n",
    "        else:\n",
    "            patience_counter += 1\n",
    "        \n",
    "        if patience_counter >= patience:\n",
    "            break\n",
    "\n",
    "    # Load the best model\n",
    "    model.load_state_dict(best_model)\n",
    "\n",
    "    # Predict on the test set\n",
    "    model.eval()\n",
    "    pred_lldas = model(X_test_tensor).detach().numpy().ravel()\n",
    "\n",
    "    # Save to CSV\n",
    "    lldas_df = pd.DataFrame(list(zip(features_df_test['sequenceID'], pred_lldas)), columns=['sequenceID', 'llda'])\n",
    "    lldas_df.to_csv(f'predictions/{category}.{dataset}.{test_fold}.{len(chosen_feature)}.csv', index=False)"
   ]
  }
 ],
 "metadata": {
  "kernelspec": {
   "display_name": "Python 3",
   "language": "python",
   "name": "python3"
  },
  "language_info": {
   "codemirror_mode": {
    "name": "ipython",
    "version": 3
   },
   "file_extension": ".py",
   "mimetype": "text/x-python",
   "name": "python",
   "nbconvert_exporter": "python",
   "pygments_lexer": "ipython3",
   "version": "3.10.11"
  }
 },
 "nbformat": 4,
 "nbformat_minor": 2
}
