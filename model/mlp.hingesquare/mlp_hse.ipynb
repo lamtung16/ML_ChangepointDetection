{
 "cells": [
  {
   "cell_type": "code",
   "execution_count": null,
   "metadata": {},
   "outputs": [],
   "source": [
    "import pandas as pd\n",
    "import torch\n",
    "import torch.nn as nn\n",
    "import torch.optim as optim\n",
    "from sklearn.model_selection import train_test_split\n",
    "from sklearn.preprocessing import StandardScaler\n",
    "from sklearn.metrics import mean_squared_error\n",
    "import numpy as np"
   ]
  },
  {
   "cell_type": "code",
   "execution_count": null,
   "metadata": {},
   "outputs": [],
   "source": [
    "dataset = 'detailed'\n",
    "test_fold = 1\n",
    "chosen_feature = ['loglog_count', 'log_variance', 'log_range_value', 'loglog_sum_diff']"
   ]
  },
  {
   "cell_type": "code",
   "execution_count": null,
   "metadata": {},
   "outputs": [],
   "source": [
    "# Load data\n",
    "folds_df = pd.read_csv(f'../../training_data/{dataset}/folds.csv')\n",
    "features_df = pd.read_csv(f'../../training_data/{dataset}/features.csv')[['sequenceID'] + chosen_feature]\n",
    "target_df = pd.read_csv(f'../../training_data/{dataset}/target.csv')"
   ]
  },
  {
   "cell_type": "code",
   "execution_count": null,
   "metadata": {},
   "outputs": [],
   "source": [
    "# Split data into training and test sets\n",
    "train_ids = folds_df[folds_df['fold'] != test_fold]['sequenceID']\n",
    "test_ids = folds_df[folds_df['fold'] == test_fold]['sequenceID']\n",
    "\n",
    "features_df_train = features_df[features_df['sequenceID'].isin(train_ids)]\n",
    "features_df_test = features_df[features_df['sequenceID'].isin(test_ids)]\n",
    "target_df_train = target_df[target_df['sequenceID'].isin(train_ids)]"
   ]
  },
  {
   "cell_type": "code",
   "execution_count": null,
   "metadata": {},
   "outputs": [],
   "source": [
    "features_df_train"
   ]
  },
  {
   "cell_type": "code",
   "execution_count": null,
   "metadata": {},
   "outputs": [],
   "source": [
    "# Set random seed for reproducibility\n",
    "torch.manual_seed(12345)\n",
    "np.random.seed(12345)\n",
    "\n",
    "# Sample data (replace with your actual data)\n",
    "X_train = np.random.rand(100, 10)\n",
    "y_train = np.random.rand(100, 1)\n",
    "X_test = np.random.rand(20, 10)\n",
    "y_test = np.random.rand(20, 1)\n",
    "\n",
    "# Preprocess by standardizing the data\n",
    "scaler = StandardScaler()\n",
    "X_train = scaler.fit_transform(X_train)\n",
    "X_test = scaler.transform(X_test)\n",
    "\n",
    "# Split train set into subtrain and validation (8:2 ratio)\n",
    "X_subtrain, X_val, y_subtrain, y_val = train_test_split(X_train, y_train, test_size=0.2, random_state=12345)\n",
    "\n",
    "# Convert data to PyTorch tensors\n",
    "X_subtrain_tensor = torch.tensor(X_subtrain, dtype=torch.float32)\n",
    "y_subtrain_tensor = torch.tensor(y_subtrain, dtype=torch.float32)\n",
    "X_val_tensor = torch.tensor(X_val, dtype=torch.float32)\n",
    "y_val_tensor = torch.tensor(y_val, dtype=torch.float32)\n",
    "X_test_tensor = torch.tensor(X_test, dtype=torch.float32)\n",
    "y_test_tensor = torch.tensor(y_test, dtype=torch.float32)\n",
    "\n",
    "# Define the MLP model\n",
    "class MLPRegressor(nn.Module):\n",
    "    def __init__(self, input_dim, output_dim):\n",
    "        super(MLPRegressor, self).__init__()\n",
    "        self.hidden1 = nn.Linear(input_dim, 64)\n",
    "        self.hidden2 = nn.Linear(64, 64)\n",
    "        self.output = nn.Linear(64, output_dim)\n",
    "    \n",
    "    def forward(self, x):\n",
    "        x = torch.relu(self.hidden1(x))\n",
    "        x = torch.relu(self.hidden2(x))\n",
    "        x = self.output(x)\n",
    "        return x\n",
    "\n",
    "# Initialize the model, loss function, and optimizer\n",
    "input_dim = X_subtrain.shape[1]\n",
    "output_dim = y_subtrain.shape[1]\n",
    "model = MLPRegressor(input_dim, output_dim)\n",
    "criterion = nn.MSELoss()\n",
    "optimizer = optim.Adam(model.parameters(), lr=0.001)\n",
    "\n",
    "# Training with early stopping\n",
    "best_val_loss = float('inf')\n",
    "patience = 20\n",
    "patience_counter = 0\n",
    "\n",
    "for epoch in range(1000):  # Large number to allow early stopping\n",
    "    model.train()\n",
    "    optimizer.zero_grad()\n",
    "    \n",
    "    # Forward pass\n",
    "    outputs = model(X_subtrain_tensor)\n",
    "    loss = criterion(outputs, y_subtrain_tensor)\n",
    "    \n",
    "    # Backward pass and optimization\n",
    "    loss.backward()\n",
    "    optimizer.step()\n",
    "    \n",
    "    # Validation step\n",
    "    model.eval()\n",
    "    val_outputs = model(X_val_tensor)\n",
    "    val_loss = criterion(val_outputs, y_val_tensor).item()\n",
    "    \n",
    "    # Early stopping check\n",
    "    if val_loss < best_val_loss:\n",
    "        best_val_loss = val_loss\n",
    "        best_model = model.state_dict()  # Save the best model state\n",
    "        patience_counter = 0\n",
    "    else:\n",
    "        patience_counter += 1\n",
    "    \n",
    "    if patience_counter >= patience:\n",
    "        print(f\"Early stopping at epoch {epoch + 1}\")\n",
    "        break\n",
    "\n",
    "# Load the best model\n",
    "model.load_state_dict(best_model)\n",
    "\n",
    "# Predict on the test set\n",
    "model.eval()\n",
    "test_predictions = model(X_test_tensor).detach().numpy()\n",
    "\n",
    "# Evaluate the model\n",
    "test_mse = mean_squared_error(y_test, test_predictions)\n",
    "print(f\"Test MSE: {test_mse}\")\n"
   ]
  }
 ],
 "metadata": {
  "kernelspec": {
   "display_name": "Python 3",
   "language": "python",
   "name": "python3"
  },
  "language_info": {
   "name": "python",
   "version": "3.11.9"
  }
 },
 "nbformat": 4,
 "nbformat_minor": 2
}
