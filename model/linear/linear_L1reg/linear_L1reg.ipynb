{
 "cells": [
  {
   "cell_type": "code",
   "execution_count": 1,
   "metadata": {
    "vscode": {
     "languageId": "r"
    }
   },
   "outputs": [],
   "source": [
    "# https://cran.r-project.org/web/packages/penaltyLearning/index.html"
   ]
  },
  {
   "cell_type": "code",
   "execution_count": 2,
   "metadata": {
    "vscode": {
     "languageId": "r"
    }
   },
   "outputs": [],
   "source": [
    "# libraries\n",
    "library(penaltyLearning)\n",
    "library(data.table)\n",
    "library(future)\n",
    "library(future.apply)\n",
    "library(directlabels)"
   ]
  },
  {
   "cell_type": "code",
   "execution_count": null,
   "metadata": {
    "vscode": {
     "languageId": "r"
    }
   },
   "outputs": [],
   "source": [
    "# previous or proposed\n",
    "category <- 'previous'"
   ]
  },
  {
   "cell_type": "code",
   "execution_count": null,
   "metadata": {
    "vscode": {
     "languageId": "r"
    }
   },
   "outputs": [],
   "source": [
    "# Get the names of all folders in a specified directory\n",
    "datasets <- list.dirs(path = \"C:/Users/nguye/Downloads/ML_ChangepointDetection/training_data\", full.names = FALSE, recursive = FALSE)"
   ]
  },
  {
   "cell_type": "code",
   "execution_count": null,
   "metadata": {
    "vscode": {
     "languageId": "r"
    }
   },
   "outputs": [],
   "source": [
    "for (dataset in datasets) {\n",
    "    # read data\n",
    "    feature.dt <- fread(paste(\"../../training_data/\", dataset, \"/inputs_old.csv\", sep = \"\"))\n",
    "    target.dt  <- fread(paste(\"../../training_data/\", dataset, \"/outputs.csv\", sep = \"\"))\n",
    "    folds.dt   <- fread(paste(\"../../training_data/\", dataset, \"/folds.csv\", sep = \"\"))\n",
    "    \n",
    "    # get number of folds\n",
    "    n_folds = dim(unique(folds.dt[,\"fold\"]))[1]\n",
    "    \n",
    "    # filter censored intervals\n",
    "    target.dt  <- target.dt[!(min.log.lambda == -Inf & max.log.lambda == Inf)]\n",
    "    feature.dt <- feature.dt[sequenceID %in% target.dt$sequenceID]\n",
    "    folds.dt   <- folds.dt[sequenceID %in% target.dt$sequenceID]\n",
    "\n",
    "    # combine\n",
    "    feature.dt.all <- cbind(feature.dt, folds.dt[, \"fold\"])\n",
    "    target.dt.all  <- cbind(target.dt, folds.dt[, \"fold\"])\n",
    "    \n",
    "    for (test.fold in 1:n_folds) {\n",
    "        # get train and test data\n",
    "        feature.mat.train <- as.matrix(feature.dt.all[feature.dt.all$fold != test.fold][, 2:118])\n",
    "        feature.mat.test  <- as.matrix(feature.dt.all[feature.dt.all$fold == test.fold][, 2:118])\n",
    "        target.mat.train  <- as.matrix(target.dt.all[target.dt.all$fold != test.fold, c(\"min.log.lambda\", \"max.log.lambda\")])\n",
    "        \n",
    "        # train model\n",
    "        fit <- IntervalRegressionCV(feature.mat = feature.mat.train, target.mat = target.mat.train)\n",
    "        \n",
    "        # get prediction from test set\n",
    "        target.mat.pred <- fit$predict(feature.mat.test)\n",
    "        colnames(target.mat.pred) <- \"llda\"\n",
    "\n",
    "        # save prediction to csv\n",
    "        prediction <- data.frame(as.matrix(feature.dt.all[feature.dt.all$fold == test.fold, \"sequenceID\"]), target.mat.pred)\n",
    "        write.csv(prediction, file = paste(\"predictions/\", dataset, test.fold, \"117\", \"csv\", sep = \".\"), row.names = FALSE)\n",
    "    }\n",
    "}"
   ]
  }
 ],
 "metadata": {
  "kernelspec": {
   "display_name": "R",
   "language": "R",
   "name": "ir"
  },
  "language_info": {
   "codemirror_mode": "r",
   "file_extension": ".r",
   "mimetype": "text/x-r-source",
   "name": "R",
   "pygments_lexer": "r",
   "version": "4.4.1"
  }
 },
 "nbformat": 4,
 "nbformat_minor": 2
}
