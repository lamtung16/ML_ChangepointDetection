{
 "cells": [
  {
   "cell_type": "code",
   "execution_count": 1,
   "metadata": {
    "vscode": {
     "languageId": "r"
    }
   },
   "outputs": [],
   "source": [
    "# https://cran.r-project.org/web/packages/penaltyLearning/index.html"
   ]
  },
  {
   "cell_type": "code",
   "execution_count": 2,
   "metadata": {
    "vscode": {
     "languageId": "r"
    }
   },
   "outputs": [],
   "source": [
    "# libraries\n",
    "library(penaltyLearning)\n",
    "library(data.table)"
   ]
  },
  {
   "cell_type": "code",
   "execution_count": 4,
   "metadata": {
    "vscode": {
     "languageId": "r"
    }
   },
   "outputs": [],
   "source": [
    "# features engineering functions\n",
    "f1 <- function(x) log((x))\n",
    "f2 <- function(x) log(log(x))\n",
    "\n",
    "# inputs and feature engineering\n",
    "inputsets <- list(\n",
    "  c(\"count\"),\n",
    "  c(\"count\", \"variance\")\n",
    ")\n",
    "\n",
    "fes <- list(\n",
    "  list(f2),\n",
    "  list(f2, f1)\n",
    ")"
   ]
  },
  {
   "cell_type": "code",
   "execution_count": 5,
   "metadata": {
    "vscode": {
     "languageId": "r"
    }
   },
   "outputs": [],
   "source": [
    "# Get the names of all folders in a specified directory\n",
    "datasets <- list(\"detailed\", \"systematic\")"
   ]
  },
  {
   "cell_type": "code",
   "execution_count": 6,
   "metadata": {
    "vscode": {
     "languageId": "r"
    }
   },
   "outputs": [],
   "source": [
    "# training\n",
    "for (dataset in datasets) {\n",
    "    # read data\n",
    "    feature.dt <- fread(paste(\"../../training_data/\", dataset, \"/features.csv\", sep = \"\"))\n",
    "    target.dt  <- fread(paste(\"../../training_data/\", dataset, \"/target.csv\", sep = \"\"))\n",
    "    folds.dt   <- fread(paste(\"../../training_data/\", dataset, \"/folds.csv\", sep = \"\"))\n",
    "    \n",
    "    # filter censored intervals\n",
    "    target.dt  <- target.dt[!(min.log.lambda == -Inf & max.log.lambda == Inf)]\n",
    "    feature.dt <- feature.dt[sequenceID %in% target.dt$sequenceID]\n",
    "    folds.dt   <- folds.dt[sequenceID %in% target.dt$sequenceID]\n",
    "    \n",
    "    for (i in 1:length(inputsets)) {\n",
    "        inputset <- inputsets[[i]]\n",
    "        fe <- fes[[i]]\n",
    "\n",
    "        # combine\n",
    "        feature.dt.all <- cbind(feature.dt[, c(\"sequenceID\", ..inputset)], folds.dt[, \"fold\"])\n",
    "        target.dt.all  <- cbind(target.dt, folds.dt[, \"fold\"])\n",
    "\n",
    "        # apply feature engineering\n",
    "        feature.dt.all[, (inputset) := mapply(function(col, func) func(feature.dt.all[[col]]), col = inputset, func = fe, SIMPLIFY = FALSE)]\n",
    "\n",
    "        # get train and test data\n",
    "        feature.mat.train <- as.matrix(feature.dt.all[feature.dt.all$fold == \"short\", ..inputset])\n",
    "        feature.mat.test  <- as.matrix(feature.dt.all[feature.dt.all$fold == \"long\", ..inputset])\n",
    "        target.mat.train  <- as.matrix(target.dt.all[target.dt.all$fold == \"short\", c(\"min.log.lambda\", \"max.log.lambda\")])\n",
    "        \n",
    "        # train model\n",
    "        fit <- IntervalRegressionUnregularized(\n",
    "            feature.mat = feature.mat.train,\n",
    "            target.mat = target.mat.train)\n",
    "        \n",
    "        # get prediction from test set\n",
    "        target.mat.pred <- fit$predict(feature.mat.test)\n",
    "        colnames(target.mat.pred) <- \"llda\"\n",
    "\n",
    "        # save prediction to csv\n",
    "        prediction <- data.frame(as.matrix(feature.dt.all[feature.dt.all$fold == \"long\", \"sequenceID\"]), target.mat.pred)\n",
    "        write.csv(prediction, file = paste(\"predictions/\", paste(dataset, length(inputset), \"csv\", sep = \".\"), sep=''), row.names = FALSE)\n",
    "    }\n",
    "}"
   ]
  }
 ],
 "metadata": {
  "kernelspec": {
   "display_name": "R",
   "language": "R",
   "name": "ir"
  },
  "language_info": {
   "codemirror_mode": "r",
   "file_extension": ".r",
   "mimetype": "text/x-r-source",
   "name": "R",
   "pygments_lexer": "r",
   "version": "4.3.3"
  }
 },
 "nbformat": 4,
 "nbformat_minor": 2
}
