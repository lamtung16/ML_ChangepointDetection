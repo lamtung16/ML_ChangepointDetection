{
 "cells": [
  {
   "cell_type": "code",
   "execution_count": 1,
   "metadata": {},
   "outputs": [],
   "source": [
    "import pandas as pd\n",
    "import torch\n",
    "import torch.nn as nn\n",
    "import torch.optim as optim\n",
    "from sklearn.model_selection import train_test_split\n",
    "from sklearn.preprocessing import StandardScaler\n",
    "import numpy as np\n",
    "import os"
   ]
  },
  {
   "cell_type": "code",
   "execution_count": 2,
   "metadata": {},
   "outputs": [],
   "source": [
    "# Set random seed for reproducibility\n",
    "torch.manual_seed(12345)\n",
    "np.random.seed(12345)"
   ]
  },
  {
   "cell_type": "code",
   "execution_count": 3,
   "metadata": {},
   "outputs": [],
   "source": [
    "# Hinged Square Loss\n",
    "class SquaredHingeLoss(nn.Module):\n",
    "    def __init__(self, margin=1):\n",
    "        super(SquaredHingeLoss, self).__init__()\n",
    "        self.margin = margin\n",
    "\n",
    "    def forward(self, predicted, y):\n",
    "        low, high = y[:, 0:1], y[:, 1:2]\n",
    "        loss_low = torch.relu(low - predicted + self.margin)\n",
    "        loss_high = torch.relu(predicted - high + self.margin)\n",
    "        loss = loss_low + loss_high\n",
    "        interval_length = high - low  # Length of the interval\n",
    "        loss = loss * (1 + 1/interval_length)\n",
    "        return torch.mean(torch.square(loss))"
   ]
  },
  {
   "cell_type": "code",
   "execution_count": 4,
   "metadata": {},
   "outputs": [],
   "source": [
    "class MLPRegressor(nn.Module):\n",
    "    def __init__(self, layer_sizes):\n",
    "        super(MLPRegressor, self).__init__()\n",
    "        self.layers = nn.ModuleList()\n",
    "        \n",
    "        # Create input layer\n",
    "        self.layers.append(nn.Linear(layer_sizes[0], layer_sizes[1]))\n",
    "        \n",
    "        # Create hidden layers\n",
    "        for i in range(1, len(layer_sizes) - 2):\n",
    "            self.layers.append(nn.Linear(layer_sizes[i], layer_sizes[i + 1]))\n",
    "        \n",
    "        # Create output layer\n",
    "        self.layers.append(nn.Linear(layer_sizes[-2], layer_sizes[-1]))\n",
    "    \n",
    "    def forward(self, x):\n",
    "        for i in range(len(self.layers) - 1):\n",
    "            x = torch.relu(self.layers[i](x))\n",
    "        x = self.layers[-1](x)\n",
    "        return x"
   ]
  },
  {
   "cell_type": "code",
   "execution_count": 5,
   "metadata": {},
   "outputs": [],
   "source": [
    "category = 'proposed'"
   ]
  },
  {
   "cell_type": "code",
   "execution_count": 6,
   "metadata": {},
   "outputs": [],
   "source": [
    "folder_path = '../../training_data'\n",
    "datasets = [name for name in os.listdir(folder_path) if os.path.isdir(os.path.join(folder_path, name))]"
   ]
  },
  {
   "cell_type": "code",
   "execution_count": 7,
   "metadata": {},
   "outputs": [],
   "source": [
    "chosen_feature = ['loglog_count']\n",
    "# chosen_feature = ['loglog_count', 'log_variance']\n",
    "# chosen_feature = ['loglog_count', 'log_variance', 'log_range_value', 'loglog_sum_diff']"
   ]
  },
  {
   "cell_type": "code",
   "execution_count": 8,
   "metadata": {},
   "outputs": [],
   "source": [
    "for dataset in datasets:\n",
    "    # Load data\n",
    "    folds_df = pd.read_csv(f'../../training_data/{dataset}/folds.csv')\n",
    "    features_df = pd.read_csv(f'../../training_data/{dataset}/features.csv')[['sequenceID'] + chosen_feature]\n",
    "    target_df = pd.read_csv(f'../../training_data/{dataset}/target.csv')\n",
    "\n",
    "    for test_fold in range(1, np.unique(folds_df['fold']).__len__()+1):\n",
    "        # Split data into training and test sets\n",
    "        train_ids = folds_df[folds_df['fold'] != test_fold]['sequenceID']\n",
    "        test_ids = folds_df[folds_df['fold'] == test_fold]['sequenceID']\n",
    "\n",
    "        features_df_train = features_df[features_df['sequenceID'].isin(train_ids)]\n",
    "        features_df_test = features_df[features_df['sequenceID'].isin(test_ids)]\n",
    "        target_df_train = target_df[target_df['sequenceID'].isin(train_ids)]\n",
    "\n",
    "        # create X_train, y_train, X_test\n",
    "        X_train = features_df_train[chosen_feature].to_numpy()\n",
    "        y_train = target_df_train.iloc[:,1:].to_numpy()\n",
    "        X_test = features_df_test[chosen_feature].to_numpy()\n",
    "\n",
    "        # Preprocess by standardizing the data\n",
    "        scaler = StandardScaler()\n",
    "        X_train = scaler.fit_transform(X_train)\n",
    "        X_test = scaler.transform(X_test)\n",
    "\n",
    "        # Split train set into subtrain and validation (8:2 ratio)\n",
    "        X_subtrain, X_val, y_subtrain, y_val = train_test_split(X_train, y_train, test_size=0.2, random_state=12345)\n",
    "\n",
    "        # Convert data to PyTorch tensors\n",
    "        X_subtrain_tensor = torch.tensor(X_subtrain, dtype=torch.float32)\n",
    "        y_subtrain_tensor = torch.tensor(y_subtrain, dtype=torch.float32)\n",
    "        X_val_tensor = torch.tensor(X_val, dtype=torch.float32)\n",
    "        y_val_tensor = torch.tensor(y_val, dtype=torch.float32)\n",
    "        X_test_tensor = torch.tensor(X_test, dtype=torch.float32)\n",
    "\n",
    "        # Initialize the model, loss function, and optimizer\n",
    "        input_dim = X_subtrain.shape[1]\n",
    "        model = MLPRegressor([input_dim, 50, 1])\n",
    "        criterion = SquaredHingeLoss()\n",
    "        optimizer = optim.Adam(model.parameters())\n",
    "\n",
    "        # Training with early stopping\n",
    "        best_val_loss = float('inf')\n",
    "        patience = 500\n",
    "        patience_counter = 0\n",
    "\n",
    "        for epoch in range(20000):\n",
    "            model.train()\n",
    "            optimizer.zero_grad()\n",
    "            \n",
    "            # Forward pass\n",
    "            outputs = model(X_subtrain_tensor)\n",
    "            loss = criterion(outputs, y_subtrain_tensor)\n",
    "            \n",
    "            # Backward pass and optimization\n",
    "            loss.backward()\n",
    "            optimizer.step()\n",
    "            \n",
    "            # Validation step\n",
    "            model.eval()\n",
    "            val_outputs = model(X_val_tensor)\n",
    "            val_loss = criterion(val_outputs, y_val_tensor).item()\n",
    "            \n",
    "            # Early stopping check\n",
    "            if val_loss < best_val_loss:\n",
    "                best_val_loss = val_loss\n",
    "                best_model = model.state_dict()  # Save the best model state\n",
    "                patience_counter = 0\n",
    "            else:\n",
    "                patience_counter += 1\n",
    "            \n",
    "            if patience_counter >= patience:\n",
    "                break\n",
    "\n",
    "        # Load the best model\n",
    "        model.load_state_dict(best_model)\n",
    "\n",
    "        # Predict on the test set\n",
    "        model.eval()\n",
    "        pred_lldas = model(X_test_tensor).detach().numpy().ravel()\n",
    "\n",
    "        # save to csv\n",
    "        lldas_df = pd.DataFrame(list(zip(features_df_test['sequenceID'], pred_lldas)), columns=['sequenceID', 'llda'])\n",
    "        lldas_df.to_csv(f'predictions/{category}.{dataset}.{test_fold}.{len(chosen_feature)}.csv', index=False)"
   ]
  }
 ],
 "metadata": {
  "kernelspec": {
   "display_name": "Python 3",
   "language": "python",
   "name": "python3"
  },
  "language_info": {
   "codemirror_mode": {
    "name": "ipython",
    "version": 3
   },
   "file_extension": ".py",
   "mimetype": "text/x-python",
   "name": "python",
   "nbconvert_exporter": "python",
   "pygments_lexer": "ipython3",
   "version": "3.10.11"
  }
 },
 "nbformat": 4,
 "nbformat_minor": 2
}
