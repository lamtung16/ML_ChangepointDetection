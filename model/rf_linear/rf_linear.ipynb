{
 "cells": [
  {
   "cell_type": "code",
   "execution_count": 13,
   "metadata": {
    "vscode": {
     "languageId": "r"
    }
   },
   "outputs": [],
   "source": [
    "# https://cran.r-project.org/web/packages/penaltyLearning/index.html"
   ]
  },
  {
   "cell_type": "code",
   "execution_count": 14,
   "metadata": {
    "vscode": {
     "languageId": "r"
    }
   },
   "outputs": [],
   "source": [
    "# libraries\n",
    "library(penaltyLearning)\n",
    "library(data.table)"
   ]
  },
  {
   "cell_type": "code",
   "execution_count": 15,
   "metadata": {
    "vscode": {
     "languageId": "r"
    }
   },
   "outputs": [],
   "source": [
    "# previous or proposed\n",
    "category <- 'proposed'"
   ]
  },
  {
   "cell_type": "code",
   "execution_count": 16,
   "metadata": {
    "vscode": {
     "languageId": "r"
    }
   },
   "outputs": [],
   "source": [
    "# choose number of feature\n",
    "n_features <- 10"
   ]
  },
  {
   "cell_type": "code",
   "execution_count": 17,
   "metadata": {
    "vscode": {
     "languageId": "r"
    }
   },
   "outputs": [],
   "source": [
    "# Get the names of all folders in a specified directory\n",
    "datasets <- list.dirs(path = \"../../training_data\", full.names = FALSE, recursive = FALSE)"
   ]
  },
  {
   "cell_type": "code",
   "execution_count": 18,
   "metadata": {
    "vscode": {
     "languageId": "r"
    }
   },
   "outputs": [
    {
     "name": "stderr",
     "output_type": "stream",
     "text": [
      "Warning message in log(mean):\n",
      "\"NaNs produced\"\n",
      "Warning message in log(max_value):\n",
      "\"NaNs produced\"\n",
      "Warning message in log(kurtosis):\n",
      "\"NaNs produced\"\n",
      "Warning message in log(kurtosis):\n",
      "\"NaNs produced\"\n",
      "Warning message in log(mean):\n",
      "\"NaNs produced\"\n",
      "Warning message in log(max_value):\n",
      "\"NaNs produced\"\n",
      "Warning message in log(kurtosis):\n",
      "\"NaNs produced\"\n"
     ]
    }
   ],
   "source": [
    "# training\n",
    "for (dataset in datasets) {\n",
    "    # read data\n",
    "    feature.dt <- fread(paste(\"../../training_data/\", dataset, \"/features_sorted.csv\", sep = \"\"))\n",
    "    target.dt  <- fread(paste(\"../../training_data/\", dataset, \"/target.csv\", sep = \"\"))\n",
    "    folds.dt   <- fread(paste(\"../../training_data/\", dataset, \"/folds.csv\", sep = \"\"))\n",
    "\n",
    "    # Apply transformations\n",
    "    feature.dt[, sum_diff      := log(log(sum_diff))]\n",
    "    feature.dt[, max_diff      := log(max_diff)]\n",
    "    feature.dt[, std_deviation := log(std_deviation)]\n",
    "    feature.dt[, mean          := log(mean)]\n",
    "    feature.dt[, variance      := log(variance)]\n",
    "    feature.dt[, max_value     := log(max_value)]\n",
    "    feature.dt[, range_value   := log(range_value)]\n",
    "    feature.dt[, iqr           := log(iqr)]\n",
    "    feature.dt[, kurtosis      := log(kurtosis)]\n",
    "    feature.dt[, count         := log(log(count))]\n",
    "    feature.dt[, unique_count  := log(unique_count)]\n",
    "\n",
    "    feature.dt[, names(feature.dt) := lapply(.SD, function(x) { x[is.nan(x)] <- 0; x })]\n",
    "\n",
    "    # get number of folds\n",
    "    n_folds <- dim(unique(folds.dt[,\"fold\"]))[1]\n",
    "    \n",
    "    # filter censored intervals\n",
    "    target.dt  <- target.dt[!(min.log.lambda == -Inf & max.log.lambda == Inf)]\n",
    "    feature.dt <- feature.dt[sequenceID %in% target.dt$sequenceID]\n",
    "    folds.dt   <- folds.dt[sequenceID %in% target.dt$sequenceID]\n",
    "\n",
    "    inputset <- colnames(feature.dt)[2: (n_features+1)]    \n",
    "\n",
    "    # combine\n",
    "    feature.dt.all <- cbind(feature.dt[, c(\"sequenceID\", ..inputset)], folds.dt[, \"fold\"])\n",
    "    target.dt.all  <- cbind(target.dt, folds.dt[, \"fold\"])\n",
    "\n",
    "    for (test.fold in 1:n_folds) {\n",
    "        # get train and test data\n",
    "        feature.mat.train <- as.matrix(feature.dt.all[feature.dt.all$fold != test.fold, ..inputset])\n",
    "        feature.mat.test  <- as.matrix(feature.dt.all[feature.dt.all$fold == test.fold, ..inputset])\n",
    "        target.mat.train  <- as.matrix(target.dt.all[target.dt.all$fold != test.fold, c(\"min.log.lambda\", \"max.log.lambda\")])\n",
    "        \n",
    "        # train model\n",
    "        fit <- IntervalRegressionUnregularized(\n",
    "            feature.mat = feature.mat.train,\n",
    "            target.mat = target.mat.train)\n",
    "        \n",
    "        # get prediction from test set\n",
    "        target.mat.pred <- fit$predict(feature.mat.test)\n",
    "        colnames(target.mat.pred) <- \"llda\"\n",
    "\n",
    "        # save prediction to csv\n",
    "        prediction <- data.frame(as.matrix(feature.dt.all[feature.dt.all$fold == test.fold, \"sequenceID\"]), target.mat.pred)\n",
    "        write.csv(prediction, file = paste(\"predictions/\", paste(category, dataset, test.fold, length(inputset), \"csv\", sep = \".\"), sep=''), row.names = FALSE)\n",
    "    }\n",
    "}"
   ]
  }
 ],
 "metadata": {
  "kernelspec": {
   "display_name": "R",
   "language": "R",
   "name": "ir"
  },
  "language_info": {
   "codemirror_mode": "r",
   "file_extension": ".r",
   "mimetype": "text/x-r-source",
   "name": "R",
   "pygments_lexer": "r",
   "version": "4.3.3"
  }
 },
 "nbformat": 4,
 "nbformat_minor": 2
}
