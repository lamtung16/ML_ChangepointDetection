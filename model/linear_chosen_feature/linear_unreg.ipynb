{
 "cells": [
  {
   "cell_type": "code",
   "execution_count": 9,
   "metadata": {
    "vscode": {
     "languageId": "r"
    }
   },
   "outputs": [],
   "source": [
    "# https://cran.r-project.org/web/packages/penaltyLearning/index.html"
   ]
  },
  {
   "cell_type": "code",
   "execution_count": 10,
   "metadata": {
    "vscode": {
     "languageId": "r"
    }
   },
   "outputs": [],
   "source": [
    "# libraries\n",
    "library(penaltyLearning)\n",
    "library(data.table)"
   ]
  },
  {
   "cell_type": "code",
   "execution_count": 11,
   "metadata": {
    "vscode": {
     "languageId": "r"
    }
   },
   "outputs": [],
   "source": [
    "# previous or proposed\n",
    "category <- 'previous'"
   ]
  },
  {
   "cell_type": "code",
   "execution_count": 12,
   "metadata": {
    "vscode": {
     "languageId": "r"
    }
   },
   "outputs": [],
   "source": [
    "# features engineering functions\n",
    "f0 <- function(x) x\n",
    "f1 <- function(x) log((x))\n",
    "f2 <- function(x) log(log(x))"
   ]
  },
  {
   "cell_type": "code",
   "execution_count": 13,
   "metadata": {
    "vscode": {
     "languageId": "r"
    }
   },
   "outputs": [],
   "source": [
    "# dataset <- 'ATAC_JV_adipose'\n",
    "# inputset <- c(\"max_diff\", \"sum_diff\", \"range_value\")\n",
    "# fe <- list(f0, f2, f1)"
   ]
  },
  {
   "cell_type": "code",
   "execution_count": 14,
   "metadata": {
    "vscode": {
     "languageId": "r"
    }
   },
   "outputs": [],
   "source": [
    "# dataset <- 'detailed'\n",
    "# inputset <- c(\"range_value\", \"variance\", \"autocorr\", \"sum_diff\", \"iqr\", \"unique_count\", \"mean_diff\", \"max_diff\", \"percentile_75\")\n",
    "# fe <- list(f1, f1, f0, f2, f1, f1, f1, f1, f0)"
   ]
  },
  {
   "cell_type": "code",
   "execution_count": 15,
   "metadata": {
    "vscode": {
     "languageId": "r"
    }
   },
   "outputs": [],
   "source": [
    "dataset <- 'H3K27ac-H3K4me3_TDHAM_BP'\n",
    "inputset <- c(\"mean\", \"variance\", \"range_value\", \"unique_count\")\n",
    "fe <- list(f1, f1, f1, f1)"
   ]
  },
  {
   "cell_type": "code",
   "execution_count": 16,
   "metadata": {
    "vscode": {
     "languageId": "r"
    }
   },
   "outputs": [],
   "source": [
    "# dataset <- 'systematic'\n",
    "# inputset <- c(\"range_value\", \"variance\", \"autocorr\", \"sum_diff\", \"iqr\", \"unique_count\", \"mean_diff\", \"max_diff\")\n",
    "# fe <- list(f1, f1, f0, f2, f1, f1, f1, f1)"
   ]
  },
  {
   "cell_type": "code",
   "execution_count": 17,
   "metadata": {
    "vscode": {
     "languageId": "r"
    }
   },
   "outputs": [],
   "source": [
    "# read data\n",
    "feature.dt <- fread(paste(\"../../training_data/\", dataset, \"/features.csv\", sep = \"\"))\n",
    "target.dt  <- fread(paste(\"../../training_data/\", dataset, \"/target.csv\", sep = \"\"))\n",
    "folds.dt   <- fread(paste(\"../../training_data/\", dataset, \"/folds.csv\", sep = \"\"))\n",
    "\n",
    "# get number of folds\n",
    "n_folds <- dim(unique(folds.dt[,\"fold\"]))[1]\n",
    "\n",
    "# filter censored intervals\n",
    "target.dt  <- target.dt[!(min.log.lambda == -Inf & max.log.lambda == Inf)]\n",
    "feature.dt <- feature.dt[sequenceID %in% target.dt$sequenceID]\n",
    "folds.dt   <- folds.dt[sequenceID %in% target.dt$sequenceID]\n",
    "\n",
    "# combine\n",
    "feature.dt.all <- cbind(feature.dt[, c(\"sequenceID\", ..inputset)], folds.dt[, \"fold\"])\n",
    "target.dt.all  <- cbind(target.dt, folds.dt[, \"fold\"])\n",
    "\n",
    "# apply feature engineering\n",
    "feature.dt.all[, (inputset) := mapply(function(col, func) func(feature.dt.all[[col]]), col = inputset, func = fe, SIMPLIFY = FALSE)]\n",
    "\n",
    "for (test.fold in 1:n_folds) {\n",
    "    # get train and test data\n",
    "    feature.mat.train <- as.matrix(feature.dt.all[feature.dt.all$fold != test.fold, ..inputset])\n",
    "    feature.mat.test  <- as.matrix(feature.dt.all[feature.dt.all$fold == test.fold, ..inputset])\n",
    "    target.mat.train  <- as.matrix(target.dt.all[target.dt.all$fold != test.fold, c(\"min.log.lambda\", \"max.log.lambda\")])\n",
    "    \n",
    "    # train model\n",
    "    fit <- IntervalRegressionUnregularized(\n",
    "        feature.mat = feature.mat.train,\n",
    "        target.mat = target.mat.train)\n",
    "    \n",
    "    # get prediction from test set\n",
    "    target.mat.pred <- fit$predict(feature.mat.test)\n",
    "    colnames(target.mat.pred) <- \"llda\"\n",
    "\n",
    "    # save prediction to csv\n",
    "    prediction <- data.frame(as.matrix(feature.dt.all[feature.dt.all$fold == test.fold, \"sequenceID\"]), target.mat.pred)\n",
    "    write.csv(prediction, file = paste(\"predictions/\", paste(category, dataset, test.fold, length(inputset), \"csv\", sep = \".\"), sep=''), row.names = FALSE)\n",
    "}"
   ]
  }
 ],
 "metadata": {
  "kernelspec": {
   "display_name": "R",
   "language": "R",
   "name": "ir"
  },
  "language_info": {
   "codemirror_mode": "r",
   "file_extension": ".r",
   "mimetype": "text/x-r-source",
   "name": "R",
   "pygments_lexer": "r",
   "version": "4.3.3"
  }
 },
 "nbformat": 4,
 "nbformat_minor": 2
}
