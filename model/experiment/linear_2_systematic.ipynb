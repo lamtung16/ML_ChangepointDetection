{
 "cells": [
  {
   "cell_type": "code",
   "execution_count": 1,
   "metadata": {},
   "outputs": [],
   "source": [
    "import pandas as pd\n",
    "import torch\n",
    "import torch.nn as nn\n",
    "import torch.optim as optim\n",
    "import numpy as np\n",
    "import os\n",
    "from sklearn.model_selection import train_test_split"
   ]
  },
  {
   "cell_type": "code",
   "execution_count": 2,
   "metadata": {},
   "outputs": [],
   "source": [
    "# Hinged Square Loss\n",
    "class SquaredHingeLoss(nn.Module):\n",
    "    def __init__(self, margin=1):\n",
    "        super(SquaredHingeLoss, self).__init__()\n",
    "        self.margin = margin\n",
    "\n",
    "    def forward(self, predicted, y):\n",
    "        low, high = y[:, 0:1], y[:, 1:2]\n",
    "        loss_low = torch.relu(low - predicted + self.margin)\n",
    "        loss_high = torch.relu(predicted - high + self.margin)\n",
    "        loss = loss_low + loss_high\n",
    "        return torch.mean(torch.square(loss))"
   ]
  },
  {
   "cell_type": "code",
   "execution_count": 3,
   "metadata": {},
   "outputs": [],
   "source": [
    "class LinearModel(nn.Module):\n",
    "    def __init__(self, input_size):\n",
    "        super(LinearModel, self).__init__()\n",
    "        self.fc1 = nn.Linear(input_size, 1)\n",
    "\n",
    "    def forward(self, x):\n",
    "        x = self.fc1(x)\n",
    "        return x"
   ]
  },
  {
   "cell_type": "code",
   "execution_count": 4,
   "metadata": {},
   "outputs": [],
   "source": [
    "dataset = 'systematic'\n",
    "chosen_feature = ['log_variance', 'loglog_count']"
   ]
  },
  {
   "cell_type": "code",
   "execution_count": 5,
   "metadata": {},
   "outputs": [
    {
     "name": "stdout",
     "output_type": "stream",
     "text": [
      "Test fold: 1 \t Test Loss: 0.08095080\n",
      "Test fold: 2 \t Test Loss: 0.06858940\n",
      "Test fold: 3 \t Test Loss: 0.07166144\n",
      "Test fold: 4 \t Test Loss: 0.08258455\n",
      "Test fold: 5 \t Test Loss: 0.07257746\n",
      "Test fold: 6 \t Test Loss: 0.08724432\n"
     ]
    }
   ],
   "source": [
    "# Load data\n",
    "folds_df = pd.read_csv(f'../../training_data/{dataset}/folds.csv')\n",
    "features_df = pd.read_csv(f'../../training_data/{dataset}/features.csv')[['sequenceID'] + chosen_feature]\n",
    "target_df = pd.read_csv(f'../../training_data/{dataset}/target.csv')\n",
    "for test_fold in range(1, 7):\n",
    "    # Split data into training and test sets\n",
    "    train_ids = folds_df[folds_df['fold'] != test_fold]['sequenceID']\n",
    "    test_ids = folds_df[folds_df['fold'] == test_fold]['sequenceID']\n",
    "\n",
    "    features_df_train = features_df[features_df['sequenceID'].isin(train_ids)]\n",
    "    features_df_test = features_df[features_df['sequenceID'].isin(test_ids)]\n",
    "    target_df_train = target_df[target_df['sequenceID'].isin(train_ids)]\n",
    "    target_df_test = target_df[target_df['sequenceID'].isin(test_ids)]\n",
    "\n",
    "    # Create X_train, y_train, X_test, y_test\n",
    "    X_train = features_df_train[chosen_feature].to_numpy()\n",
    "    X_test = features_df_test[chosen_feature].to_numpy()\n",
    "    y_train = target_df_train.iloc[:, 1:].to_numpy()\n",
    "    y_test = target_df_test.iloc[:, 1:].to_numpy()\n",
    "\n",
    "\n",
    "    # Convert data to PyTorch tensors\n",
    "    X_train_tensor = torch.tensor(X_train, dtype=torch.float32)\n",
    "    y_train_tensor = torch.tensor(y_train, dtype=torch.float32)\n",
    "    X_test_tensor = torch.tensor(X_test, dtype=torch.float32)\n",
    "    y_test_tensor = torch.tensor(y_test, dtype=torch.float32)\n",
    "\n",
    "    # Initialize the model, loss function, and optimizer\n",
    "    input_dim = X_train.shape[1]\n",
    "    model = LinearModel(input_dim)\n",
    "    criterion = SquaredHingeLoss()\n",
    "    optimizer = optim.Adam(model.parameters())\n",
    "\n",
    "    # Training with early stopping based on validation loss\n",
    "    best_loss = float('inf')\n",
    "    patience = 100\n",
    "    patience_counter = 0\n",
    "\n",
    "    for epoch in range(100000):\n",
    "        model.train()\n",
    "        optimizer.zero_grad()\n",
    "        \n",
    "        # Forward pass on subtrain data\n",
    "        outputs_subtrain = model(X_train_tensor)\n",
    "        train_loss = criterion(outputs_subtrain, y_train_tensor)\n",
    "        \n",
    "        # Backward pass and optimization\n",
    "        train_loss.backward()\n",
    "        optimizer.step()\n",
    "        \n",
    "        # Early stopping check based on validation loss\n",
    "        train_loss_value = train_loss.item()\n",
    "        if train_loss_value < best_loss:\n",
    "            best_loss = train_loss_value\n",
    "            best_model = model.state_dict()  # Save the best model state\n",
    "            patience_counter = 0\n",
    "        else:\n",
    "            patience_counter += 1\n",
    "        \n",
    "        # # Print train, validation, and test losses every 1000 epochs\n",
    "        # if epoch % 2000 == 0:\n",
    "        #     model.eval()\n",
    "        #     with torch.no_grad():\n",
    "        #         outputs_test = model(X_test_tensor)\n",
    "        #         test_loss = criterion(outputs_test, y_test_tensor)\n",
    "        #     print(f\"Epoch [{epoch:5d}] \\t Train Loss: {train_loss.item():.8f} \\t  Test Loss: {test_loss.item():.8f}\")\n",
    "        \n",
    "        if patience_counter >= patience:\n",
    "            # print(f\"Early stopping at epoch {epoch}\")\n",
    "            break\n",
    "\n",
    "    # Load the best model\n",
    "    model.load_state_dict(best_model)\n",
    "\n",
    "    # Final evaluation on the test set\n",
    "    model.eval()\n",
    "    with torch.no_grad():\n",
    "        outputs_test = model(X_test_tensor)\n",
    "        test_loss = criterion(outputs_test, y_test_tensor)\n",
    "\n",
    "    # Print the final test loss\n",
    "    print(f\"Test fold: {test_fold} \\t Test Loss: {test_loss.item():.8f}\")"
   ]
  }
 ],
 "metadata": {
  "kernelspec": {
   "display_name": "Python 3",
   "language": "python",
   "name": "python3"
  },
  "language_info": {
   "codemirror_mode": {
    "name": "ipython",
    "version": 3
   },
   "file_extension": ".py",
   "mimetype": "text/x-python",
   "name": "python",
   "nbconvert_exporter": "python",
   "pygments_lexer": "ipython3",
   "version": "3.10.11"
  }
 },
 "nbformat": 4,
 "nbformat_minor": 2
}
