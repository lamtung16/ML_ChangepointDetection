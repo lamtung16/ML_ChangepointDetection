{
 "cells": [
  {
   "cell_type": "code",
   "execution_count": 1,
   "metadata": {},
   "outputs": [],
   "source": [
    "import pandas as pd\n",
    "import numpy as np\n",
    "import ast"
   ]
  },
  {
   "cell_type": "code",
   "execution_count": 2,
   "metadata": {},
   "outputs": [],
   "source": [
    "# Specify the path to your CSV file\n",
    "csv_file_path = 'errors.csv'\n",
    "\n",
    "# Read the CSV file into a DataFrame\n",
    "df = pd.read_csv(csv_file_path)"
   ]
  },
  {
   "cell_type": "code",
   "execution_count": 3,
   "metadata": {},
   "outputs": [],
   "source": [
    "# convert all string into tuple\n",
    "for i in range(len(df)):\n",
    "    for j in range(-10, 11):\n",
    "        if(j%2==0):\n",
    "            df.at[i, str(int(0.5*j))] = ast.literal_eval(df.iloc[i][str(int(0.5*j))])\n",
    "        else:\n",
    "            df.at[i, str(0.5*j)] = ast.literal_eval(df.iloc[i][str(0.5*j)])"
   ]
  },
  {
   "cell_type": "code",
   "execution_count": 4,
   "metadata": {},
   "outputs": [],
   "source": [
    "# get df for each fold\n",
    "df_1 = df.copy()\n",
    "df_2 = df.copy()\n",
    "df_3 = df.copy()\n",
    "for i in range(len(df)):\n",
    "    for j in range(-10, 11):\n",
    "        if(j%2==0):\n",
    "            df_1.at[i, str(int(0.5*j))] = sum(df_1.iloc[i][str(int(0.5*j))][0])\n",
    "            df_2.at[i, str(int(0.5*j))] = sum(df_2.iloc[i][str(int(0.5*j))][1])\n",
    "            df_3.at[i, str(int(0.5*j))] = sum(df_3.iloc[i][str(int(0.5*j))][0]) + sum(df_3.iloc[i][str(int(0.5*j))][1])\n",
    "        else:\n",
    "            df_1.at[i, str(0.5*j)] = sum(df_1.iloc[i][str(0.5*j)][0])\n",
    "            df_2.at[i, str(0.5*j)] = sum(df_2.iloc[i][str(0.5*j)][1])\n",
    "            df_3.at[i, str(0.5*j)] = sum(df_3.iloc[i][str(0.5*j)][0]) + sum(df_3.iloc[i][str(0.5*j)][1])"
   ]
  },
  {
   "cell_type": "code",
   "execution_count": 7,
   "metadata": {},
   "outputs": [],
   "source": [
    "df_1.to_csv('errors_1.csv', index=False)\n",
    "df_2.to_csv('errors_2.csv', index=False)\n",
    "df_3.to_csv('errors_total.csv', index=False)\n"
   ]
  }
 ],
 "metadata": {
  "kernelspec": {
   "display_name": "Python 3",
   "language": "python",
   "name": "python3"
  },
  "language_info": {
   "codemirror_mode": {
    "name": "ipython",
    "version": 3
   },
   "file_extension": ".py",
   "mimetype": "text/x-python",
   "name": "python",
   "nbconvert_exporter": "python",
   "pygments_lexer": "ipython3",
   "version": "3.11.7"
  }
 },
 "nbformat": 4,
 "nbformat_minor": 2
}
