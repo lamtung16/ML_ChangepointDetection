{
 "cells": [
  {
   "cell_type": "code",
   "execution_count": 1,
   "metadata": {},
   "outputs": [],
   "source": [
    "import gzip\n",
    "import pandas as pd\n",
    "import numpy as np"
   ]
  },
  {
   "cell_type": "code",
   "execution_count": 2,
   "metadata": {},
   "outputs": [],
   "source": [
    "file_path = 'data/signals.gz'\n",
    "with gzip.open(file_path, 'rt') as file:\n",
    "    signal_df = pd.read_csv(file)\n",
    "\n",
    "seqs = tuple(signal_df.groupby('sequenceID'))"
   ]
  },
  {
   "cell_type": "code",
   "execution_count": 3,
   "metadata": {},
   "outputs": [],
   "source": [
    "def get_feature(sequence):\n",
    "    # Descriptive statistics\n",
    "    mean_value = sequence['logratio'].mean()\n",
    "    median_value = sequence['logratio'].median()\n",
    "    std_deviation = sequence['logratio'].std()\n",
    "\n",
    "    # Percentiles\n",
    "    percentile_25 = sequence['logratio'].quantile(0.25)\n",
    "    percentile_75 = sequence['logratio'].quantile(0.75)\n",
    "\n",
    "    # Other statistics\n",
    "    min_value = sequence['logratio'].min()\n",
    "    max_value = sequence['logratio'].max()\n",
    "    range_value = max_value - min_value\n",
    "\n",
    "    # Skewness and Kurtosis\n",
    "    skewness = sequence['logratio'].skew()\n",
    "    kurtosis = sequence['logratio'].kurt()\n",
    "\n",
    "    # Count and unique values\n",
    "    count = sequence['logratio'].count()\n",
    "\n",
    "    return np.array([mean_value, median_value, std_deviation, percentile_25, percentile_75, range_value, skewness, kurtosis, count/1000])\n"
   ]
  },
  {
   "cell_type": "code",
   "execution_count": 4,
   "metadata": {},
   "outputs": [],
   "source": [
    "array_rows = []\n",
    "for i in range(len(seqs)):\n",
    "    sequence = seqs[i][1]\n",
    "    array_rows.append(np.append(int(i), get_feature(sequence)))\n",
    "\n",
    "column_names = [\"seqID\", \"mean_value\", \"median_value\", \"std_deviation\", \"percentile_25\", \"percentile_75\", \"range_value\", \"skewness\", \"kurtosis\", \"count\"]\n",
    "df = pd.DataFrame(array_rows, columns=column_names)"
   ]
  },
  {
   "cell_type": "code",
   "execution_count": 6,
   "metadata": {},
   "outputs": [],
   "source": [
    "df.to_csv('data/seq_stat.csv', index=False)"
   ]
  }
 ],
 "metadata": {
  "kernelspec": {
   "display_name": "Python 3",
   "language": "python",
   "name": "python3"
  },
  "language_info": {
   "codemirror_mode": {
    "name": "ipython",
    "version": 3
   },
   "file_extension": ".py",
   "mimetype": "text/x-python",
   "name": "python",
   "nbconvert_exporter": "python",
   "pygments_lexer": "ipython3",
   "version": "3.11.7"
  }
 },
 "nbformat": 4,
 "nbformat_minor": 2
}
