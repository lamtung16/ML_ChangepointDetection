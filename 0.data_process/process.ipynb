{
 "cells": [
  {
   "cell_type": "code",
   "execution_count": 1,
   "metadata": {},
   "outputs": [],
   "source": [
    "import os\n",
    "import csv\n",
    "import gzip\n",
    "import pandas as pd\n",
    "import numpy as np"
   ]
  },
  {
   "cell_type": "code",
   "execution_count": 2,
   "metadata": {},
   "outputs": [],
   "source": [
    "def list_files(folder_path):\n",
    "    files = os.listdir(folder_path)\n",
    "    return files"
   ]
  },
  {
   "cell_type": "code",
   "execution_count": 3,
   "metadata": {},
   "outputs": [],
   "source": [
    "# csv_file_path = \"output.csv\"\n",
    "\n",
    "# with open(csv_file_path, 'w', newline='') as csvfile:\n",
    "#     # Create a CSV writer object\n",
    "#     csv_writer = csv.writer(csvfile)\n",
    "\n",
    "#     # Write the header\n",
    "#     csv_writer.writerow(['sequenceID'])\n",
    "\n",
    "#     # Iterate over data, sample, problem, and chr\n",
    "#     for data in list_files('data'):\n",
    "#         for sample in list_files(\"data/\" + data + \"/samples\"):\n",
    "#             for problem in list_files(\"data/\" + data + \"/samples/\" + sample):\n",
    "#                 for chr in list_files(\"data/\" + data + \"/samples/\" + sample + \"/\" + problem + \"/problems\"):\n",
    "#                     # Write each row to the CSV file\n",
    "#                     csv_writer.writerow([data + \"/samples/\" + sample + \"/\" + problem + \"/problems/\" + chr.replace('_', ':')])"
   ]
  },
  {
   "cell_type": "code",
   "execution_count": 4,
   "metadata": {},
   "outputs": [
    {
     "name": "stdout",
     "output_type": "stream",
     "text": [
      "An error occurred: Error -3 while decompressing data: invalid code lengths set\n"
     ]
    }
   ],
   "source": [
    "csv_file_path = \"sum_diff.csv\"\n",
    "with open(csv_file_path, 'w', newline='') as csvfile:\n",
    "    csv_writer = csv.writer(csvfile)\n",
    "    csv_writer.writerow(['sequenceID', 'sum_diff'])\n",
    "    for data in list_files('data'):\n",
    "        for sample in list_files(\"data/\" + data + \"/samples\"):\n",
    "            for problem in list_files(\"data/\" + data + \"/samples/\" + sample):\n",
    "                for chr in list_files(\"data/\" + data + \"/samples/\" + sample + \"/\" + problem + \"/problems\"):\n",
    "                    sequenceID = data + \"/samples/\" + sample + \"/\" + problem + \"/problems/\" + chr.replace('_', ':')\n",
    "                    try:\n",
    "                        sequence_path = \"data/\" + data + \"/samples/\" + sample + \"/\" + problem + \"/problems/\" + chr + \"/coverage.bedGraph.gz\"\n",
    "                        extracted_file = sequence_path.replace('.gz', '')\n",
    "\n",
    "                        # Open the compressed file and read the content\n",
    "                        with gzip.open(sequence_path, 'rb') as f_in:\n",
    "                            with open(extracted_file, 'wb') as f_out:\n",
    "                                f_out.write(f_in.read())\n",
    "                        \n",
    "                        # Load the data into a Pandas DataFrame\n",
    "                        df = pd.read_csv(extracted_file, sep='\\t', header=None, names=['chromosome', 'start', 'end', 'value'])\n",
    "                        os.remove(extracted_file)\n",
    "                        sum_diff = np.sum(np.abs(df['value'].to_numpy()[1:] - df['value'].to_numpy()[:-1]))\n",
    "                        csv_writer.writerow([sequenceID, sum_diff])\n",
    "                    except Exception as e:\n",
    "                        print(\"An error occurred:\", e)"
   ]
  },
  {
   "cell_type": "code",
   "execution_count": 5,
   "metadata": {},
   "outputs": [],
   "source": [
    "# # Path to the gzipped file\n",
    "# gzipped_file = 'data/H3K9me3_TDH_BP/samples/tcell/ERS358697/problems/chr8_48135599-86500000/coverage.bedGraph.gz'\n",
    "\n",
    "# # Path where you want to save the extracted file\n",
    "# extracted_file = gzipped_file.replace('.gz', '')\n",
    "\n",
    "# # Open the compressed file and read the content\n",
    "# with gzip.open(gzipped_file, 'rb') as f_in:\n",
    "#     with open(extracted_file, 'wb') as f_out:\n",
    "#         f_out.write(f_in.read())\n",
    "\n",
    "# # Load the data into a Pandas DataFrame\n",
    "# df = pd.read_csv(extracted_file, sep='\\t', header=None, names=['chromosome', 'start', 'end', 'value'])\n",
    "\n",
    "# # Remove the extracted file\n",
    "# import os\n",
    "# os.remove(extracted_file)\n",
    "\n",
    "# # Display the DataFrame\n",
    "# print(df.head())"
   ]
  },
  {
   "cell_type": "code",
   "execution_count": 6,
   "metadata": {},
   "outputs": [],
   "source": [
    "# np.sum(np.abs(df['value'].to_numpy()[1:] - df['value'].to_numpy()[:-1]))"
   ]
  }
 ],
 "metadata": {
  "kernelspec": {
   "display_name": "Python 3",
   "language": "python",
   "name": "python3"
  },
  "language_info": {
   "codemirror_mode": {
    "name": "ipython",
    "version": 3
   },
   "file_extension": ".py",
   "mimetype": "text/x-python",
   "name": "python",
   "nbconvert_exporter": "python",
   "pygments_lexer": "ipython3",
   "version": "3.11.9"
  }
 },
 "nbformat": 4,
 "nbformat_minor": 2
}
