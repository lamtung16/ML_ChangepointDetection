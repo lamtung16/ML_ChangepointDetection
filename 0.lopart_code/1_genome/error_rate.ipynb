{
 "cells": [
  {
   "cell_type": "code",
   "execution_count": 3,
   "metadata": {},
   "outputs": [],
   "source": [
    "import pandas as pd\n",
    "import matplotlib.pyplot as plt\n",
    "import numpy as np"
   ]
  },
  {
   "cell_type": "code",
   "execution_count": 2,
   "metadata": {},
   "outputs": [],
   "source": [
    "def show_error_rate(df):\n",
    "    fold1_total_errs = df['fold_1_fp_errs'].sum() + df['fold_1_fn_errs'].sum()\n",
    "    fold2_total_errs = df['fold_2_fp_errs'].sum() + df['fold_2_fn_errs'].sum()\n",
    "\n",
    "    fold1_total_labels = df['fold_1_total_labels'].sum()\n",
    "    fold2_total_labels = df['fold_2_total_labels'].sum()\n",
    "\n",
    "    rate1 = (fold1_total_labels - fold1_total_errs)/fold1_total_labels\n",
    "    rate2 = (fold2_total_labels - fold2_total_errs)/fold2_total_labels\n",
    "\n",
    "    print(\"fold1.test: %5.2f \\t fold2.test: %5.2f \\t total_label_fold1: %3d \\t total_label_fold2: %3d \\t total_test_error_fold1: %3d \\t total_test_error_fold2: %3d\" \n",
    "          % (100*rate1, 100*rate2, fold1_total_labels, fold2_total_labels, fold1_total_errs, fold2_total_errs))"
   ]
  },
  {
   "cell_type": "code",
   "execution_count": 10,
   "metadata": {},
   "outputs": [
    {
     "name": "stdout",
     "output_type": "stream",
     "text": [
      "fold1.test: 72.87 \t fold2.test: 53.65 \t total_label_fold1: 752 \t total_label_fold2: 520 \t total_test_error_fold1: 204 \t total_test_error_fold2: 241\n"
     ]
    }
   ],
   "source": [
    "show_error_rate(pd.read_csv('1_genome/2_learning_record/BIC_paper.csv'))"
   ]
  },
  {
   "cell_type": "code",
   "execution_count": 9,
   "metadata": {},
   "outputs": [
    {
     "name": "stdout",
     "output_type": "stream",
     "text": [
      "fold1.test: 72.74 \t fold2.test: 73.08 \t total_label_fold1: 752 \t total_label_fold2: 520 \t total_test_error_fold1: 205 \t total_test_error_fold2: 140\n"
     ]
    }
   ],
   "source": [
    "show_error_rate(pd.read_csv('1_genome/2_learning_record/linear.csv'))"
   ]
  },
  {
   "cell_type": "code",
   "execution_count": 4,
   "metadata": {},
   "outputs": [
    {
     "name": "stdout",
     "output_type": "stream",
     "text": [
      "fold1.test: 71.28 \t fold2.test: 61.73 \t total_label_fold1: 752 \t total_label_fold2: 520 \t total_test_error_fold1: 216 \t total_test_error_fold2: 199\n"
     ]
    }
   ],
   "source": [
    "show_error_rate(pd.read_csv('1_genome/2_learning_record/linear_SVM.csv'))"
   ]
  },
  {
   "cell_type": "code",
   "execution_count": 5,
   "metadata": {},
   "outputs": [
    {
     "name": "stdout",
     "output_type": "stream",
     "text": [
      "fold1.test: 75.80 \t fold2.test: 72.69 \t total_label_fold1: 752 \t total_label_fold2: 520 \t total_test_error_fold1: 182 \t total_test_error_fold2: 142\n"
     ]
    }
   ],
   "source": [
    "show_error_rate(pd.read_csv('1_genome/2_learning_record/linear_SVM_train.csv'))"
   ]
  },
  {
   "cell_type": "code",
   "execution_count": 6,
   "metadata": {},
   "outputs": [
    {
     "name": "stdout",
     "output_type": "stream",
     "text": [
      "fold1.test: 76.06 \t fold2.test: 69.42 \t total_label_fold1: 752 \t total_label_fold2: 520 \t total_test_error_fold1: 180 \t total_test_error_fold2: 159\n"
     ]
    }
   ],
   "source": [
    "show_error_rate(pd.read_csv('1_genome/2_learning_record/linear_SVM_both.csv'))"
   ]
  },
  {
   "cell_type": "code",
   "execution_count": 4,
   "metadata": {},
   "outputs": [
    {
     "name": "stdout",
     "output_type": "stream",
     "text": [
      "fold1.test: 61.04 \t fold2.test: 27.88 \t total_label_fold1: 752 \t total_label_fold2: 520 \t total_test_error_fold1: 293 \t total_test_error_fold2: 375\n"
     ]
    }
   ],
   "source": [
    "show_error_rate(pd.read_csv('1_genome/2_learning_record/deep.csv'))"
   ]
  },
  {
   "cell_type": "code",
   "execution_count": 7,
   "metadata": {},
   "outputs": [],
   "source": [
    "# methods = ['BIC', 'Linear', 'A1 (MLP)', 'A2 (RNN)', 'A2 (RNN_ReLU)']\n",
    "# dataset_1_results = np.array(rate1_list)\n",
    "# dataset_2_results = np.array(rate2_list)\n",
    "\n",
    "# # Plotting\n",
    "# bar_width = 0.35\n",
    "# index = np.arange(len(methods))\n",
    "\n",
    "# fig, ax = plt.subplots()\n",
    "# bar1 = ax.bar(index, dataset_1_results, bar_width, label='fold1.test')\n",
    "# bar2 = ax.bar(index + bar_width, dataset_2_results, bar_width, label='fold2.test')\n",
    "\n",
    "# # Add numbers above each column\n",
    "# for i, v in enumerate(dataset_1_results):\n",
    "#     ax.text(i, v + 1, str(v), ha='center', va='bottom')\n",
    "\n",
    "# for i, v in enumerate(dataset_2_results):\n",
    "#     ax.text(i + bar_width, v + 1, str(v), ha='center', va='bottom')\n",
    "\n",
    "# # Add labels, title, and legend\n",
    "# ax.set_xlabel('Methods')\n",
    "# ax.set_ylabel('Correct Label Prediction Percentage')\n",
    "# ax.set_title('Results by Method')\n",
    "# ax.set_xticks(index + bar_width / 2)\n",
    "# ax.set_xticklabels(methods)\n",
    "# ax.legend()\n",
    "\n",
    "# # Show the plot\n",
    "# # plt.savefig('output_plot.pdf', format='pdf')\n",
    "# plt.show()"
   ]
  }
 ],
 "metadata": {
  "kernelspec": {
   "display_name": "Python 3",
   "language": "python",
   "name": "python3"
  },
  "language_info": {
   "codemirror_mode": {
    "name": "ipython",
    "version": 3
   },
   "file_extension": ".py",
   "mimetype": "text/x-python",
   "name": "python",
   "nbconvert_exporter": "python",
   "pygments_lexer": "ipython3",
   "version": "3.11.7"
  }
 },
 "nbformat": 4,
 "nbformat_minor": 2
}
