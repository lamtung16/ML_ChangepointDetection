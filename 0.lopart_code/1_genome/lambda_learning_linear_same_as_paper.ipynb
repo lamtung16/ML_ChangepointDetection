{
 "cells": [
  {
   "cell_type": "code",
   "execution_count": 1,
   "metadata": {},
   "outputs": [
    {
     "data": {
      "text/plain": [
       "<torch._C.Generator at 0x1b5ff5bf390>"
      ]
     },
     "execution_count": 1,
     "metadata": {},
     "output_type": "execute_result"
    }
   ],
   "source": [
    "import torch\n",
    "import torch.nn as nn\n",
    "import torch.optim as optim\n",
    "from sklearn.model_selection import KFold\n",
    "import numpy as np\n",
    "import pandas as pd\n",
    "import matplotlib.pyplot as plt\n",
    "from ipynb.fs.full.utility_functions import gen_data_dict, get_data, SquaredHingeLoss\n",
    "from torch.utils.data import DataLoader, TensorDataset\n",
    "\n",
    "np.set_printoptions(precision=3)\n",
    "np.random.seed(123)\n",
    "torch.manual_seed(123)"
   ]
  },
  {
   "cell_type": "code",
   "execution_count": 2,
   "metadata": {},
   "outputs": [],
   "source": [
    "# data features\n",
    "data = pd.read_csv('1_training_data/seq_features.csv')['count'].to_numpy()\n",
    "data = np.log10(np.log(data)).reshape(-1,1)\n",
    "X = torch.FloatTensor(data)"
   ]
  },
  {
   "cell_type": "code",
   "execution_count": 3,
   "metadata": {},
   "outputs": [],
   "source": [
    "# target\n",
    "target_df_1 = pd.read_csv('1_training_data/target_lambda_fold1_base_10.csv')\n",
    "target_df_2 = pd.read_csv('1_training_data/target_lambda_fold2_base_10.csv')\n",
    "\n",
    "targets_low_1  = torch.FloatTensor(target_df_1.iloc[:, 1:2].to_numpy())\n",
    "targets_high_1 = torch.FloatTensor(target_df_1.iloc[:, 2:3].to_numpy())\n",
    "targets_low_2  = torch.FloatTensor(target_df_2.iloc[:, 1:2].to_numpy())\n",
    "targets_high_2 = torch.FloatTensor(target_df_2.iloc[:, 2:3].to_numpy())\n",
    "\n",
    "y1 = torch.cat((targets_low_1, targets_high_1), dim=1)\n",
    "y2 = torch.cat((targets_low_2, targets_high_2), dim=1)"
   ]
  },
  {
   "cell_type": "code",
   "execution_count": 4,
   "metadata": {},
   "outputs": [],
   "source": [
    "# Define the linear model\n",
    "class LinearModel(nn.Module):\n",
    "    def __init__(self, input_size=1):\n",
    "        super(LinearModel, self).__init__()\n",
    "        self.linear = nn.Linear(input_size, 1)\n",
    "\n",
    "    def forward(self, x):\n",
    "        return self.linear(x)"
   ]
  },
  {
   "cell_type": "code",
   "execution_count": 5,
   "metadata": {},
   "outputs": [],
   "source": [
    "def train_model(X, y, lr, epochs):\n",
    "    # Create DataLoader\n",
    "    dataset    = TensorDataset(X, y)\n",
    "    dataloader = DataLoader(dataset, batch_size=1, shuffle=True)\n",
    "\n",
    "    # Instantiate model and loss function\n",
    "    model = LinearModel()\n",
    "    criterion = SquaredHingeLoss()\n",
    "    optimizer = optim.Adam(model.parameters(), lr)\n",
    "\n",
    "    # Training loop\n",
    "    for epoch in range(epochs):\n",
    "        total_loss = 0\n",
    "        for inputs, labels in dataloader:\n",
    "            optimizer.zero_grad()\n",
    "            outputs = model(inputs)\n",
    "            loss = criterion(outputs, labels)\n",
    "            loss.backward()\n",
    "            optimizer.step()\n",
    "            total_loss += loss.item()\n",
    "        if (epoch+1) % 100 == 0:\n",
    "            print(f'Epoch [{epoch+1}/{epochs}], Loss: {total_loss/len(dataloader):.3f}')\n",
    "    return model"
   ]
  },
  {
   "cell_type": "code",
   "execution_count": 6,
   "metadata": {},
   "outputs": [],
   "source": [
    "def get_df_stat(ldas1, ldas2, err_fold1_df, err_fold2_df, seqs, labels):\n",
    "    header = ['sequenceID', 'lda_fold1', 'lda_fold2', 'fold_1_total_labels', 'fold_2_total_labels', 'fold1_err', 'fold2_err']\n",
    "    rows = []\n",
    "    for i in range(len(seqs)):\n",
    "        # get total labels\n",
    "        _, neg_start_1, _, pos_start_1, _, neg_start_2, _, pos_start_2, _ = get_data(i, seqs, labels)\n",
    "        fold1_total_labels = len(neg_start_1) + len(pos_start_1)\n",
    "        fold2_total_labels = len(neg_start_2) + len(pos_start_2)\n",
    "\n",
    "        # round lambda\n",
    "        ldas1 = [round(num*2)/2 for num in ldas1]\n",
    "        ldas2 = [round(num*2)/2 for num in ldas2]\n",
    "\n",
    "        # get err\n",
    "        fold1_err = err_fold1_df.iloc[i][str(ldas1[i])]\n",
    "        fold2_err = err_fold2_df.iloc[i][str(ldas2[i])]\n",
    "        \n",
    "        # add row to rows\n",
    "        row = [seqs[i][0], ldas1[i], ldas2[i], fold1_total_labels, fold2_total_labels, fold1_err, fold2_err]\n",
    "        rows.append(row)\n",
    "    \n",
    "    df = pd.DataFrame(rows, columns=header)\n",
    "    return df"
   ]
  },
  {
   "cell_type": "code",
   "execution_count": 7,
   "metadata": {},
   "outputs": [],
   "source": [
    "def try_model(full_X, X1, X2, y1, y2, err_fold1_df, err_fold2_df, seqs, labels):\n",
    "    model1 = train_model(X1, y1, 0.001, 500)\n",
    "    model2 = train_model(X2, y2, 0.001, 500)\n",
    "\n",
    "    with torch.no_grad():\n",
    "        ldas1 = model1(full_X).numpy().reshape(-1)\n",
    "        ldas2 = model2(full_X).numpy().reshape(-1)\n",
    "\n",
    "    df = get_df_stat(ldas1, ldas2, err_fold1_df, err_fold2_df, seqs, labels)\n",
    "    return df"
   ]
  },
  {
   "cell_type": "code",
   "execution_count": 8,
   "metadata": {},
   "outputs": [],
   "source": [
    "# getting dataframe of error count\n",
    "err_fold1_df = pd.read_csv('1_training_data/errors_fold1_base_10.csv')\n",
    "err_fold2_df = pd.read_csv('1_training_data/errors_fold2_base_10.csv')\n",
    "\n",
    "# getting sequences and labels data\n",
    "seqs   = gen_data_dict('0_sequences_labels/signals.gz')\n",
    "labels = gen_data_dict('0_sequences_labels/labels.gz')"
   ]
  },
  {
   "cell_type": "code",
   "execution_count": 9,
   "metadata": {},
   "outputs": [
    {
     "name": "stdout",
     "output_type": "stream",
     "text": [
      "Epoch [100/600], Loss: 1.135\n",
      "Epoch [200/600], Loss: 1.104\n",
      "Epoch [300/600], Loss: 1.084\n",
      "Epoch [400/600], Loss: 1.073\n",
      "Epoch [500/600], Loss: 1.071\n",
      "Epoch [600/600], Loss: 1.068\n",
      "Epoch [100/600], Loss: 1.394\n",
      "Epoch [200/600], Loss: 1.358\n",
      "Epoch [300/600], Loss: 1.342\n",
      "Epoch [400/600], Loss: 1.337\n",
      "Epoch [500/600], Loss: 1.334\n",
      "Epoch [600/600], Loss: 1.333\n"
     ]
    }
   ],
   "source": [
    "df = try_model(X, X, X, y1, y2, err_fold1_df, err_fold2_df, seqs, labels)"
   ]
  },
  {
   "cell_type": "code",
   "execution_count": 10,
   "metadata": {},
   "outputs": [
    {
     "name": "stdout",
     "output_type": "stream",
     "text": [
      "fold1.test: 78.19 \t fold2.test: 75.58\n"
     ]
    }
   ],
   "source": [
    "total_label_fold1 = df['fold_1_total_labels'].sum()\n",
    "total_label_fold2 = df['fold_2_total_labels'].sum()\n",
    "err1 = df['fold1_err'].sum()\n",
    "err2 = df['fold2_err'].sum()\n",
    "rate1 = (total_label_fold1 - err1)/total_label_fold1\n",
    "rate2 = (total_label_fold2 - err2)/total_label_fold2\n",
    "\n",
    "print(\"fold1.test: %5.2f \\t fold2.test: %5.2f\" % (rate1*100, rate2*100))"
   ]
  }
 ],
 "metadata": {
  "kernelspec": {
   "display_name": "Python 3",
   "language": "python",
   "name": "python3"
  },
  "language_info": {
   "codemirror_mode": {
    "name": "ipython",
    "version": 3
   },
   "file_extension": ".py",
   "mimetype": "text/x-python",
   "name": "python",
   "nbconvert_exporter": "python",
   "pygments_lexer": "ipython3",
   "version": "3.11.8"
  }
 },
 "nbformat": 4,
 "nbformat_minor": 2
}
