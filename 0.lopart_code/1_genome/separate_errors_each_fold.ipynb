{
 "cells": [
  {
   "cell_type": "code",
   "execution_count": 1,
   "metadata": {},
   "outputs": [],
   "source": [
    "import pandas as pd\n",
    "import ast"
   ]
  },
  {
   "cell_type": "code",
   "execution_count": 33,
   "metadata": {},
   "outputs": [],
   "source": [
    "# Read the CSV file into a DataFrame\n",
    "df = pd.read_csv('1.genome_learning_data/errors_base_e.csv')\n",
    "\n",
    "# Function to convert string representation of tuples into actual tuples\n",
    "def convert_to_tuple(cell_value):\n",
    "    try:\n",
    "        # Using ast.literal_eval to safely evaluate the string representation of tuples\n",
    "        return ast.literal_eval(cell_value)\n",
    "    except (SyntaxError, ValueError):\n",
    "        # If the cell value cannot be converted, return None or handle it as you prefer\n",
    "        return None\n",
    "\n",
    "# Apply the conversion function to each cell in the DataFrame\n",
    "for col in df.columns:\n",
    "    if col != 'sequenceID':\n",
    "        df[col] = df[col].apply(convert_to_tuple)"
   ]
  },
  {
   "cell_type": "code",
   "execution_count": 35,
   "metadata": {},
   "outputs": [],
   "source": [
    "# Create two empty DataFrames with the same columns\n",
    "df1 = pd.DataFrame(columns=df.columns)\n",
    "df2 = pd.DataFrame(columns=df.columns)\n",
    "\n",
    "for index, row in df.iterrows():\n",
    "    for col in df.columns:\n",
    "        if col != 'sequenceID':\n",
    "            col_val = row[col]\n",
    "            df1.at[index, col] = sum(col_val[0])\n",
    "            df2.at[index, col] = sum(col_val[1])\n",
    "df1['sequenceID'] = df['sequenceID']\n",
    "df2['sequenceID'] = df['sequenceID']"
   ]
  },
  {
   "cell_type": "code",
   "execution_count": 36,
   "metadata": {},
   "outputs": [],
   "source": [
    "df1.to_csv('1.genome_learning_data/errors_fold1_base_e.csv', index=False)\n",
    "df2.to_csv('1.genome_learning_data/errors_fold2_base_e.csv', index=False)"
   ]
  }
 ],
 "metadata": {
  "kernelspec": {
   "display_name": "Python 3",
   "language": "python",
   "name": "python3"
  },
  "language_info": {
   "codemirror_mode": {
    "name": "ipython",
    "version": 3
   },
   "file_extension": ".py",
   "mimetype": "text/x-python",
   "name": "python",
   "nbconvert_exporter": "python",
   "pygments_lexer": "ipython3",
   "version": "3.11.7"
  }
 },
 "nbformat": 4,
 "nbformat_minor": 2
}
