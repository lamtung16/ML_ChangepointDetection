{
 "cells": [
  {
   "cell_type": "code",
   "execution_count": 1,
   "metadata": {},
   "outputs": [],
   "source": [
    "import pandas as pd\n",
    "import numpy as np\n",
    "import torch\n",
    "import torch.nn as nn\n",
    "import torch.optim as optim\n",
    "from utility_functions import SquaredHingeLoss, get_acc, add_row_to_csv"
   ]
  },
  {
   "cell_type": "code",
   "execution_count": 2,
   "metadata": {},
   "outputs": [],
   "source": [
    "# dataset\n",
    "dataset = 'systematic'"
   ]
  },
  {
   "cell_type": "code",
   "execution_count": 3,
   "metadata": {},
   "outputs": [],
   "source": [
    "# get dataframes\n",
    "fold_split_df = pd.read_csv('training_data/' + dataset + '/folds.csv')\n",
    "inputs_df     = pd.read_csv('training_data/' + dataset + '/inputs.csv')\n",
    "outputs_df    = pd.read_csv('training_data/' + dataset + '/outputs.csv')\n",
    "evaluation_df = pd.read_csv('training_data/' + dataset + '/evaluation.csv')"
   ]
  },
  {
   "cell_type": "code",
   "execution_count": 4,
   "metadata": {},
   "outputs": [],
   "source": [
    "# number of folds\n",
    "n_fold = fold_split_df['fold'].nunique()"
   ]
  },
  {
   "cell_type": "code",
   "execution_count": 5,
   "metadata": {},
   "outputs": [],
   "source": [
    "# feature engineering transformation\n",
    "identity = lambda x: x\n",
    "log      = lambda x: np.log(x)\n",
    "loglog   = lambda x: np.log(np.log(x))"
   ]
  },
  {
   "cell_type": "code",
   "execution_count": 6,
   "metadata": {},
   "outputs": [],
   "source": [
    "# get df from test fold\n",
    "def get_fold_dfs(test_fold, fold_split_df, inputs_df, outputs_df, evaluation_df):\n",
    "    train_inputs_df  = inputs_df[inputs_df['sequenceID'].isin(fold_split_df[fold_split_df['fold'] != test_fold]['sequenceID'])]\n",
    "    train_outputs_df = outputs_df[outputs_df['sequenceID'].isin(fold_split_df[fold_split_df['fold'] != test_fold]['sequenceID'])]\n",
    "    train_eval_df    = evaluation_df[evaluation_df['sequenceID'].isin(fold_split_df[fold_split_df['fold'] != test_fold]['sequenceID'])]\n",
    "    test_inputs_df   = inputs_df[inputs_df['sequenceID'].isin(fold_split_df[fold_split_df['fold'] == test_fold]['sequenceID'])]\n",
    "    test_eval_df     = evaluation_df[evaluation_df['sequenceID'].isin(fold_split_df[fold_split_df['fold'] == test_fold]['sequenceID'])]\n",
    "    return train_inputs_df.sort_values(by='sequenceID'), train_outputs_df.sort_values(by='sequenceID'), train_eval_df, test_inputs_df, test_eval_df"
   ]
  },
  {
   "cell_type": "code",
   "execution_count": 7,
   "metadata": {},
   "outputs": [],
   "source": [
    "# Define the linear model\n",
    "class LinearModel(nn.Module):\n",
    "    def __init__(self, input_size):\n",
    "        super(LinearModel, self).__init__()\n",
    "        self.linear = nn.Linear(input_size, 1)\n",
    "        \n",
    "    def forward(self, x):\n",
    "        return self.linear(x)"
   ]
  },
  {
   "cell_type": "code",
   "execution_count": 8,
   "metadata": {},
   "outputs": [],
   "source": [
    "# train model\n",
    "def get_trained_model(inputs_tensor, outputs_tensor):\n",
    "    model = LinearModel(inputs_tensor.shape[1])\n",
    "    criterion = SquaredHingeLoss()\n",
    "    optimizer = optim.Adam(model.parameters())\n",
    "    \n",
    "    best_loss = float('inf')\n",
    "    patience = 500\n",
    "    wait = 0\n",
    "    for epoch in range(10000):\n",
    "        loss = criterion(model(inputs_tensor), outputs_tensor)\n",
    "        optimizer.zero_grad()\n",
    "        loss.backward()\n",
    "        optimizer.step()\n",
    "\n",
    "        # Check if the loss has decreased\n",
    "        if loss < best_loss:\n",
    "            best_loss = loss\n",
    "            wait = 0\n",
    "        else:\n",
    "            wait += 1\n",
    "            if wait >= patience:\n",
    "                break\n",
    "    return model"
   ]
  },
  {
   "cell_type": "code",
   "execution_count": 9,
   "metadata": {},
   "outputs": [],
   "source": [
    "# main\n",
    "for test_fold in range(1, n_fold+1):\n",
    "    for chosen_features, feature_engineer in zip([['length'], ['length', 'sd'], ['length', 'sd', 'range_value', 'sum_diff']],\n",
    "                                                 [[loglog],   [loglog,   log],  [loglog, log, log, log]]):\n",
    "        # fold dataframe\n",
    "        train_inputs_df, train_outputs_df, train_eval_df, test_inputs_df, test_eval_df = get_fold_dfs(test_fold, fold_split_df, inputs_df, outputs_df, evaluation_df)\n",
    "\n",
    "        # train_input_tensor\n",
    "        train_input_tensor = train_inputs_df[chosen_features].to_numpy()\n",
    "        for i in range(len(feature_engineer)):\n",
    "            train_input_tensor[:, i] = feature_engineer[i](train_input_tensor[:, i])\n",
    "        train_input_tensor = torch.Tensor(train_input_tensor)\n",
    "\n",
    "        # test_input_tensor\n",
    "        test_input_tensor = test_inputs_df[chosen_features].to_numpy()\n",
    "        for i in range(len(feature_engineer)):\n",
    "            test_input_tensor[:, i] = feature_engineer[i](test_input_tensor[:, i])\n",
    "        test_input_tensor = torch.Tensor(test_input_tensor)\n",
    "\n",
    "        # output tensor\n",
    "        targets_low  = torch.Tensor(train_outputs_df['min.log.lambda'].to_numpy().reshape(-1,1))\n",
    "        targets_high = torch.Tensor(train_outputs_df['max.log.lambda'].to_numpy().reshape(-1,1))\n",
    "        outputs_tensor = torch.cat((targets_low, targets_high), dim=1)\n",
    "\n",
    "        # trained model\n",
    "        trained_model = get_trained_model(train_input_tensor, outputs_tensor)\n",
    "        \n",
    "        # get acc\n",
    "        with torch.no_grad():\n",
    "            lldas = trained_model(test_input_tensor).numpy().reshape(-1)\n",
    "\n",
    "        lldas_df = pd.DataFrame(list(zip(test_inputs_df['sequenceID'], lldas)), columns=['sequenceID', 'llda'])\n",
    "        acc = get_acc(test_eval_df, lldas_df)\n",
    "        add_row_to_csv('acc_rate_csvs/' + dataset + '.csv', \n",
    "                    ['method', 'fold', 'feature engineer', 'acc'], \n",
    "                    ['linear.'+str(len(chosen_features)), test_fold, 'yes', acc])"
   ]
  }
 ],
 "metadata": {
  "kernelspec": {
   "display_name": "Python 3",
   "language": "python",
   "name": "python3"
  },
  "language_info": {
   "codemirror_mode": {
    "name": "ipython",
    "version": 3
   },
   "file_extension": ".py",
   "mimetype": "text/x-python",
   "name": "python",
   "nbconvert_exporter": "python",
   "pygments_lexer": "ipython3",
   "version": "3.11.9"
  }
 },
 "nbformat": 4,
 "nbformat_minor": 2
}
