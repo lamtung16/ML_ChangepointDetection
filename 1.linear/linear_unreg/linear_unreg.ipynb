{
 "cells": [
  {
   "cell_type": "code",
   "execution_count": 19,
   "metadata": {
    "vscode": {
     "languageId": "r"
    }
   },
   "outputs": [],
   "source": [
    "# https://cran.r-project.org/web/packages/penaltyLearning/index.html"
   ]
  },
  {
   "cell_type": "code",
   "execution_count": 20,
   "metadata": {
    "vscode": {
     "languageId": "r"
    }
   },
   "outputs": [],
   "source": [
    "# libraries\n",
    "library(penaltyLearning)\n",
    "library(data.table)"
   ]
  },
  {
   "cell_type": "code",
   "execution_count": 21,
   "metadata": {
    "vscode": {
     "languageId": "r"
    }
   },
   "outputs": [],
   "source": [
    "# choosing training data\n",
    "dataset <- \"detailed\"\n",
    "\n",
    "# features engineering functions\n",
    "f1 <- function(x) log((x))\n",
    "f2 <- function(x) log(log(x))\n",
    "\n",
    "# features\n",
    "\n",
    "# inputset <- c(\"length\")\n",
    "# fe       <- list(f2)\n",
    "# inputset <- c(\"length\", \"variance\")\n",
    "# fe       <- list(f2, f1)\n",
    "inputset <- c(\"length\", \"variance\", \"range_value\", \"sum_diff\")\n",
    "fe       <- list(f2, f1, f1, f2)"
   ]
  },
  {
   "cell_type": "code",
   "execution_count": 22,
   "metadata": {
    "vscode": {
     "languageId": "r"
    }
   },
   "outputs": [],
   "source": [
    "# read data\n",
    "feature.dt <- fread(paste(\"../../training_data/\", dataset, \"/inputs_chosen.csv\", sep = \"\"))\n",
    "target.dt  <- fread(paste(\"../../training_data/\", dataset, \"/outputs.csv\", sep = \"\"))\n",
    "folds.dt   <- fread(paste(\"../../training_data/\", dataset, \"/folds.csv\", sep = \"\"))"
   ]
  },
  {
   "cell_type": "code",
   "execution_count": 23,
   "metadata": {
    "vscode": {
     "languageId": "r"
    }
   },
   "outputs": [],
   "source": [
    "# filter censored intervals\n",
    "target.dt  <- target.dt[!(min.log.lambda == -Inf & max.log.lambda == Inf)]\n",
    "feature.dt <- feature.dt[sequenceID %in% target.dt$sequenceID]\n",
    "folds.dt   <- folds.dt[sequenceID %in% target.dt$sequenceID]"
   ]
  },
  {
   "cell_type": "code",
   "execution_count": 24,
   "metadata": {
    "vscode": {
     "languageId": "r"
    }
   },
   "outputs": [],
   "source": [
    "# combine\n",
    "feature.dt.all <- cbind(feature.dt[, c(\"sequenceID\", ..inputset)], folds.dt[, \"fold\"])\n",
    "target.dt.all  <- cbind(target.dt, folds.dt[, \"fold\"])"
   ]
  },
  {
   "cell_type": "code",
   "execution_count": 25,
   "metadata": {
    "vscode": {
     "languageId": "r"
    }
   },
   "outputs": [],
   "source": [
    "# apply feature engineering\n",
    "feature.dt.all[, (inputset) := mapply(function(col, func) func(feature.dt.all[[col]]), col = inputset, func = fe, SIMPLIFY = FALSE)]"
   ]
  },
  {
   "cell_type": "code",
   "execution_count": 26,
   "metadata": {
    "vscode": {
     "languageId": "r"
    }
   },
   "outputs": [],
   "source": [
    "# get number of folds\n",
    "n_folds = dim(unique(folds.dt[,\"fold\"]))[1]"
   ]
  },
  {
   "cell_type": "code",
   "execution_count": 27,
   "metadata": {
    "vscode": {
     "languageId": "r"
    }
   },
   "outputs": [],
   "source": [
    "for (test.fold in 1:n_folds) {\n",
    "    # get train and test data\n",
    "    feature.mat.train <- as.matrix(feature.dt.all[feature.dt.all$fold != test.fold, ..inputset])\n",
    "    feature.mat.test  <- as.matrix(feature.dt.all[feature.dt.all$fold == test.fold, ..inputset])\n",
    "    target.mat.train  <- as.matrix(target.dt.all[target.dt.all$fold != test.fold, c(\"min.log.lambda\", \"max.log.lambda\")])\n",
    "\n",
    "    # # double check the size of train and test set\n",
    "    # print(paste(\"Size of train matrix is:\", dim(feature.mat.train)[1], \"rows and\", dim(feature.mat.train)[2], \"columns\"))\n",
    "    # print(paste(\"Size of test matrix is:\", dim(feature.mat.test)[1], \"rows and\", dim(feature.mat.test)[2], \"columns\"))\n",
    "    \n",
    "    # train model\n",
    "    fit <- IntervalRegressionUnregularized(\n",
    "        feature.mat = feature.mat.train,\n",
    "        target.mat = target.mat.train)\n",
    "    \n",
    "    # get prediction from test set\n",
    "    target.mat.pred <- fit$predict(feature.mat.test)\n",
    "    colnames(target.mat.pred) <- \"llda\"\n",
    "\n",
    "    # save prediction to csv\n",
    "    prediction <- data.frame(as.matrix(feature.dt.all[feature.dt.all$fold == test.fold, \"sequenceID\"]), target.mat.pred)\n",
    "    write.csv(prediction, file = paste(\"predictions/\", dataset, test.fold, length(inputset), \"csv\", sep = \".\"), row.names = FALSE)\n",
    "}"
   ]
  }
 ],
 "metadata": {
  "kernelspec": {
   "display_name": "R",
   "language": "R",
   "name": "ir"
  },
  "language_info": {
   "codemirror_mode": "r",
   "file_extension": ".r",
   "mimetype": "text/x-r-source",
   "name": "R",
   "pygments_lexer": "r",
   "version": "4.4.1"
  }
 },
 "nbformat": 4,
 "nbformat_minor": 2
}
