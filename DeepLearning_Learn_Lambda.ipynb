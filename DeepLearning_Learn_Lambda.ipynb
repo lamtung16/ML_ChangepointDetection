{
 "cells": [
  {
   "cell_type": "code",
   "execution_count": 1,
   "metadata": {},
   "outputs": [
    {
     "data": {
      "text/plain": [
       "<torch._C.Generator at 0x1a47fbb32f0>"
      ]
     },
     "execution_count": 1,
     "metadata": {},
     "output_type": "execute_result"
    }
   ],
   "source": [
    "import torch\n",
    "import torch.nn as nn\n",
    "import torch.optim as optim\n",
    "import numpy as np\n",
    "import pandas as pd\n",
    "\n",
    "np.random.seed(123)\n",
    "torch.manual_seed(123)"
   ]
  },
  {
   "cell_type": "code",
   "execution_count": 2,
   "metadata": {},
   "outputs": [],
   "source": [
    "# Custom loss function\n",
    "class SquaredHingeLoss(nn.Module):\n",
    "    def forward(self, predicted, a, b):\n",
    "        loss = torch.relu(predicted - b) + torch.relu(a - predicted)\n",
    "        return torch.sum(loss**2)"
   ]
  },
  {
   "cell_type": "code",
   "execution_count": 3,
   "metadata": {},
   "outputs": [],
   "source": [
    "# train data\n",
    "data_df   = pd.read_csv('data/seq_stat.csv')\n",
    "target_df = pd.read_csv('record/data_fold1.csv')\n",
    "\n",
    "data      = data_df.iloc[:, 1:].to_numpy()\n",
    "targets_1 = target_df.iloc[:, 1:2].to_numpy()\n",
    "targets_2 = target_df.iloc[:, 2:3].to_numpy()\n",
    "\n",
    "data      = torch.FloatTensor(data)\n",
    "targets_1 = torch.FloatTensor(targets_1)\n",
    "targets_2 = torch.FloatTensor(targets_2)\n",
    "\n",
    "# test_data\n",
    "target_test_df = pd.read_csv('record/data_fold2.csv')\n",
    "targets_test_1 = target_test_df.iloc[:, 1:2].to_numpy()\n",
    "targets_test_2 = target_test_df.iloc[:, 2:3].to_numpy()\n",
    "\n",
    "targets_test_1 = torch.FloatTensor(targets_test_1)\n",
    "targets_test_2 = torch.FloatTensor(targets_test_2)"
   ]
  },
  {
   "cell_type": "code",
   "execution_count": 4,
   "metadata": {},
   "outputs": [],
   "source": [
    "# Define the deep learning model\n",
    "class MyModel(nn.Module):\n",
    "    def __init__(self):\n",
    "        super(MyModel, self).__init__()\n",
    "        self.fc1 = nn.Linear(9, 12)\n",
    "        self.fc2 = nn.Linear(12, 12)\n",
    "        self.fc3 = nn.Linear(12, 1)\n",
    "\n",
    "    def forward(self, x):\n",
    "        x = torch.relu(self.fc1(x))\n",
    "        x = torch.relu(self.fc2(x))\n",
    "        x = self.fc3(x)\n",
    "        return x"
   ]
  },
  {
   "cell_type": "code",
   "execution_count": 5,
   "metadata": {},
   "outputs": [
    {
     "name": "stdout",
     "output_type": "stream",
     "text": [
      "Epoch [    0/10000], Loss_train: 447.8824, Loss_test: 396.9645\n",
      "Epoch [  500/10000], Loss_train:  41.7021, Loss_test:  56.1146\n",
      "Epoch [ 1000/10000], Loss_train:  29.5378, Loss_test:  53.8859\n",
      "Epoch [ 1500/10000], Loss_train:  27.6516, Loss_test:  53.4421\n",
      "Epoch [ 2000/10000], Loss_train:  26.6496, Loss_test:  53.2362\n",
      "Epoch [ 2500/10000], Loss_train:  25.8665, Loss_test:  53.0660\n",
      "Epoch [ 3000/10000], Loss_train:  25.1679, Loss_test:  52.7134\n",
      "Epoch [ 3500/10000], Loss_train:  24.5444, Loss_test:  52.1324\n",
      "Epoch [ 4000/10000], Loss_train:  23.9913, Loss_test:  51.9851\n",
      "Epoch [ 4500/10000], Loss_train:  23.3646, Loss_test:  52.3090\n",
      "Epoch [ 5000/10000], Loss_train:  22.6539, Loss_test:  52.7480\n",
      "Epoch [ 5500/10000], Loss_train:  21.5397, Loss_test:  53.2540\n",
      "Epoch [ 6000/10000], Loss_train:  20.3302, Loss_test:  53.5728\n",
      "Epoch [ 6500/10000], Loss_train:  19.1789, Loss_test:  53.3687\n",
      "Epoch [ 7000/10000], Loss_train:  17.8512, Loss_test:  52.9843\n",
      "Epoch [ 7500/10000], Loss_train:  16.3978, Loss_test:  54.3011\n",
      "Epoch [ 8000/10000], Loss_train:  14.9779, Loss_test:  54.7075\n",
      "Epoch [ 8500/10000], Loss_train:  13.8701, Loss_test:  55.8887\n",
      "Epoch [ 9000/10000], Loss_train:  12.8351, Loss_test:  56.2531\n",
      "Epoch [ 9500/10000], Loss_train:  11.7915, Loss_test:  55.6037\n",
      "Epoch [10000/10000], Loss_train:  10.7694, Loss_test:  54.9873\n"
     ]
    }
   ],
   "source": [
    "# Instantiate the model, define custom loss function, and optimizer\n",
    "model = MyModel()\n",
    "squared_hinge_loss = SquaredHingeLoss()\n",
    "optimizer = optim.Adam(model.parameters(), lr=0.0001)\n",
    "\n",
    "# Training loop\n",
    "epochs = 10000\n",
    "for epoch in range(epochs+1):\n",
    "    # Forward pass\n",
    "    outputs = model(data)\n",
    "    \n",
    "    # Compute the custom loss\n",
    "    loss_train = squared_hinge_loss(outputs, targets_1, targets_2)\n",
    "    loss_test  = squared_hinge_loss(outputs, targets_test_1, targets_test_2)\n",
    "    \n",
    "    # Backward pass and optimization\n",
    "    optimizer.zero_grad()\n",
    "    loss_train.backward()\n",
    "    optimizer.step()\n",
    "    \n",
    "    # Print the loss every 100 epochs\n",
    "    if (epoch) % 500 == 0:\n",
    "        print(f'Epoch [{epoch:5d}/{epochs}], Loss_train: {loss_train.item():8.4f}, Loss_test: {loss_test.item():8.4f}')"
   ]
  }
 ],
 "metadata": {
  "kernelspec": {
   "display_name": "Python 3",
   "language": "python",
   "name": "python3"
  },
  "language_info": {
   "codemirror_mode": {
    "name": "ipython",
    "version": 3
   },
   "file_extension": ".py",
   "mimetype": "text/x-python",
   "name": "python",
   "nbconvert_exporter": "python",
   "pygments_lexer": "ipython3",
   "version": "3.11.7"
  }
 },
 "nbformat": 4,
 "nbformat_minor": 2
}
