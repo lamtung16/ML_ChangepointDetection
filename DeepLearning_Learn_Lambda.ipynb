{
 "cells": [
  {
   "cell_type": "code",
   "execution_count": 1,
   "metadata": {},
   "outputs": [
    {
     "data": {
      "text/plain": [
       "<torch._C.Generator at 0x2b9a8bb72d0>"
      ]
     },
     "execution_count": 1,
     "metadata": {},
     "output_type": "execute_result"
    }
   ],
   "source": [
    "import torch\n",
    "import torch.nn as nn\n",
    "import torch.optim as optim\n",
    "import numpy as np\n",
    "import pandas as pd\n",
    "\n",
    "np.random.seed(123)\n",
    "torch.manual_seed(123)"
   ]
  },
  {
   "cell_type": "code",
   "execution_count": 2,
   "metadata": {},
   "outputs": [],
   "source": [
    "# Custom loss function\n",
    "class SquaredHingeLoss(nn.Module):\n",
    "    def forward(self, predicted, a, b):\n",
    "        loss = torch.relu(predicted - b) + torch.relu(a - predicted)\n",
    "        return torch.sum(loss**2)"
   ]
  },
  {
   "cell_type": "code",
   "execution_count": 3,
   "metadata": {},
   "outputs": [],
   "source": [
    "# # train data\n",
    "# data_df   = pd.read_csv('data/seq_stat.csv')\n",
    "# target_df = pd.read_csv('record/data_fold1.csv')\n",
    "\n",
    "# data      = data_df.iloc[:, 1:].to_numpy()\n",
    "# targets_1 = target_df.iloc[:, 1:2].to_numpy()\n",
    "# targets_2 = target_df.iloc[:, 2:3].to_numpy()\n",
    "\n",
    "# data      = torch.FloatTensor(data)\n",
    "# targets_1 = torch.FloatTensor(targets_1)\n",
    "# targets_2 = torch.FloatTensor(targets_2)\n",
    "\n",
    "# # test_data\n",
    "# target_test_df = pd.read_csv('record/data_fold2.csv')\n",
    "# targets_test_1 = target_test_df.iloc[:, 1:2].to_numpy()\n",
    "# targets_test_2 = target_test_df.iloc[:, 2:3].to_numpy()\n",
    "\n",
    "# targets_test_1 = torch.FloatTensor(targets_test_1)\n",
    "# targets_test_2 = torch.FloatTensor(targets_test_2)"
   ]
  },
  {
   "cell_type": "code",
   "execution_count": 4,
   "metadata": {},
   "outputs": [],
   "source": [
    "# train data\n",
    "data_df   = pd.read_csv('data/seq_stat.csv')\n",
    "target_df = pd.read_csv('record/data_fold1_2.csv')\n",
    "\n",
    "n_train = 300\n",
    "\n",
    "data      = data_df.iloc[:n_train, 1:].to_numpy()\n",
    "targets_1 = target_df.iloc[:n_train, 1:2].to_numpy()\n",
    "targets_2 = target_df.iloc[:n_train, 2:3].to_numpy()\n",
    "\n",
    "data      = torch.FloatTensor(data)\n",
    "targets_1 = torch.FloatTensor(targets_1)\n",
    "targets_2 = torch.FloatTensor(targets_2)\n",
    "\n",
    "# test_data\n",
    "data_test = data_df.iloc[n_train:, 1:].to_numpy()\n",
    "targets_test_1 = target_df.iloc[n_train:, 1:2].to_numpy()\n",
    "targets_test_2 = target_df.iloc[n_train:, 2:3].to_numpy()\n",
    "\n",
    "data_test      = torch.FloatTensor(data_test)\n",
    "targets_test_1 = torch.FloatTensor(targets_test_1)\n",
    "targets_test_2 = torch.FloatTensor(targets_test_2)"
   ]
  },
  {
   "cell_type": "code",
   "execution_count": 5,
   "metadata": {},
   "outputs": [],
   "source": [
    "# Define the deep learning model\n",
    "class MyModel(nn.Module):\n",
    "    def __init__(self):\n",
    "        super(MyModel, self).__init__()\n",
    "        self.fc1 = nn.Linear(9, 12)\n",
    "        self.fc2 = nn.Linear(12, 12)\n",
    "        self.fc3 = nn.Linear(12, 1)\n",
    "\n",
    "    def forward(self, x):\n",
    "        x = torch.relu(self.fc1(x))\n",
    "        x = torch.relu(self.fc2(x))\n",
    "        x = self.fc3(x)\n",
    "        return x"
   ]
  },
  {
   "cell_type": "code",
   "execution_count": 6,
   "metadata": {},
   "outputs": [
    {
     "name": "stdout",
     "output_type": "stream",
     "text": [
      "Epoch [    0/20000], Loss_train: 413.0152, Loss_test:  52.3353\n",
      "Epoch [  500/20000], Loss_train:  47.9651, Loss_test:   9.1525\n",
      "Epoch [ 1000/20000], Loss_train:  39.8293, Loss_test:   8.3247\n",
      "Epoch [ 1500/20000], Loss_train:  38.3029, Loss_test:   8.1623\n",
      "Epoch [ 2000/20000], Loss_train:  36.9659, Loss_test:   7.9017\n",
      "Epoch [ 2500/20000], Loss_train:  35.8430, Loss_test:   7.7170\n",
      "Epoch [ 3000/20000], Loss_train:  34.8684, Loss_test:   7.5649\n",
      "Epoch [ 3500/20000], Loss_train:  34.0415, Loss_test:   7.4298\n",
      "Epoch [ 4000/20000], Loss_train:  33.2219, Loss_test:   7.2784\n",
      "Epoch [ 4500/20000], Loss_train:  32.3824, Loss_test:   7.1575\n",
      "Epoch [ 5000/20000], Loss_train:  31.3349, Loss_test:   7.0414\n",
      "Epoch [ 5500/20000], Loss_train:  30.1132, Loss_test:   7.0327\n",
      "Epoch [ 6000/20000], Loss_train:  28.2842, Loss_test:   7.0119\n",
      "Epoch [ 6500/20000], Loss_train:  26.4086, Loss_test:   6.9629\n",
      "Epoch [ 7000/20000], Loss_train:  24.4704, Loss_test:   7.0246\n",
      "Epoch [ 7500/20000], Loss_train:  22.6135, Loss_test:   7.1772\n",
      "Epoch [ 8000/20000], Loss_train:  20.8069, Loss_test:   7.2465\n",
      "Epoch [ 8500/20000], Loss_train:  19.1911, Loss_test:   7.3873\n",
      "Epoch [ 9000/20000], Loss_train:  17.5843, Loss_test:   7.4137\n",
      "Epoch [ 9500/20000], Loss_train:  15.9533, Loss_test:   7.4156\n",
      "Epoch [10000/20000], Loss_train:  14.4185, Loss_test:   7.3959\n",
      "Epoch [10500/20000], Loss_train:  13.1218, Loss_test:   7.4146\n",
      "Epoch [11000/20000], Loss_train:  12.0351, Loss_test:   7.4044\n",
      "Epoch [11500/20000], Loss_train:  11.2689, Loss_test:   7.4747\n",
      "Epoch [12000/20000], Loss_train:  10.5190, Loss_test:   7.7418\n",
      "Epoch [12500/20000], Loss_train:   9.7176, Loss_test:   8.7494\n",
      "Epoch [13000/20000], Loss_train:   9.1918, Loss_test:   9.3202\n",
      "Epoch [13500/20000], Loss_train:   8.8084, Loss_test:   9.5631\n",
      "Epoch [14000/20000], Loss_train:   8.4075, Loss_test:   9.7912\n",
      "Epoch [14500/20000], Loss_train:   8.0127, Loss_test:  10.0912\n",
      "Epoch [15000/20000], Loss_train:   7.6514, Loss_test:  10.2514\n",
      "Epoch [15500/20000], Loss_train:   7.3414, Loss_test:  10.4640\n",
      "Epoch [16000/20000], Loss_train:   7.0908, Loss_test:  10.6878\n",
      "Epoch [16500/20000], Loss_train:   6.8673, Loss_test:  10.9037\n",
      "Epoch [17000/20000], Loss_train:   6.6333, Loss_test:  11.1399\n",
      "Epoch [17500/20000], Loss_train:   6.4016, Loss_test:  11.4410\n",
      "Epoch [18000/20000], Loss_train:   6.1986, Loss_test:  11.6827\n",
      "Epoch [18500/20000], Loss_train:   6.0160, Loss_test:  11.8385\n",
      "Epoch [19000/20000], Loss_train:   5.7872, Loss_test:  12.0445\n",
      "Epoch [19500/20000], Loss_train:   5.6025, Loss_test:  12.2701\n",
      "Epoch [20000/20000], Loss_train:   5.4242, Loss_test:  12.3477\n"
     ]
    }
   ],
   "source": [
    "# Instantiate the model, define custom loss function, and optimizer\n",
    "model = MyModel()\n",
    "squared_hinge_loss = SquaredHingeLoss()\n",
    "optimizer = optim.Adam(model.parameters(), lr=0.0001)\n",
    "\n",
    "# Training loop\n",
    "epochs = 20000\n",
    "for epoch in range(epochs+1):\n",
    "    # Forward pass\n",
    "    outputs_train = model(data)\n",
    "    outputs_test  = model(data_test)\n",
    "    \n",
    "    # Compute the custom loss\n",
    "    loss_train = squared_hinge_loss(outputs_train, targets_1, targets_2)\n",
    "    loss_test  = squared_hinge_loss(outputs_test, targets_test_1, targets_test_2)\n",
    "    \n",
    "    # Backward pass and optimization\n",
    "    optimizer.zero_grad()\n",
    "    loss_train.backward()\n",
    "    optimizer.step()\n",
    "    \n",
    "    # Print the loss every 100 epochs\n",
    "    if (epoch) % 500 == 0:\n",
    "        print(f'Epoch [{epoch:5d}/{epochs}], Loss_train: {loss_train.item():8.4f}, Loss_test: {loss_test.item():8.4f}')"
   ]
  }
 ],
 "metadata": {
  "kernelspec": {
   "display_name": "Python 3",
   "language": "python",
   "name": "python3"
  },
  "language_info": {
   "codemirror_mode": {
    "name": "ipython",
    "version": 3
   },
   "file_extension": ".py",
   "mimetype": "text/x-python",
   "name": "python",
   "nbconvert_exporter": "python",
   "pygments_lexer": "ipython3",
   "version": "3.11.7"
  }
 },
 "nbformat": 4,
 "nbformat_minor": 2
}
