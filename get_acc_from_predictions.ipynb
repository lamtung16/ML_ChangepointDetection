{
 "cells": [
  {
   "cell_type": "code",
   "execution_count": 15,
   "metadata": {},
   "outputs": [],
   "source": [
    "import os\n",
    "import numpy as np\n",
    "import pandas as pd\n",
    "from utility_functions import get_acc, add_row_to_csv"
   ]
  },
  {
   "cell_type": "code",
   "execution_count": 16,
   "metadata": {},
   "outputs": [],
   "source": [
    "category = 'previous'\n",
    "model = \"linear_chosen_feature\""
   ]
  },
  {
   "cell_type": "code",
   "execution_count": 17,
   "metadata": {},
   "outputs": [],
   "source": [
    "folder_path = 'training_data'\n",
    "datasets = [name for name in os.listdir(folder_path) if os.path.isdir(os.path.join(folder_path, name))]\n",
    "datasets = ['H3K27ac-H3K4me3_TDHAM_BP']"
   ]
  },
  {
   "cell_type": "code",
   "execution_count": 18,
   "metadata": {},
   "outputs": [],
   "source": [
    "prediction_folder_path = 'model/' + model + '/predictions/'"
   ]
  },
  {
   "cell_type": "code",
   "execution_count": 19,
   "metadata": {},
   "outputs": [],
   "source": [
    "def get_acc_from(dataset, test_fold, n_feature):\n",
    "    evaluation_df = pd.read_csv('training_data/' + dataset + '/evaluation.csv')\n",
    "    fold_df = pd.read_csv('training_data/' + dataset + '/folds.csv')\n",
    "    eval_df = evaluation_df[evaluation_df['sequenceID'].isin(fold_df[fold_df['fold'] == test_fold]['sequenceID'])]\n",
    "    lldas_df = pd.read_csv(prediction_folder_path + category + '.' + dataset + '.' + str(test_fold) + '.' + str(n_feature) + '.csv')\n",
    "    return get_acc(eval_df, lldas_df)"
   ]
  },
  {
   "cell_type": "code",
   "execution_count": 20,
   "metadata": {},
   "outputs": [],
   "source": [
    "def extract_between_dots(name):\n",
    "        parts = name.rsplit('.')\n",
    "        return parts[-2]"
   ]
  },
  {
   "cell_type": "code",
   "execution_count": 21,
   "metadata": {},
   "outputs": [
    {
     "name": "stdout",
     "output_type": "stream",
     "text": [
      "Error calculating accuracy for dataset H3K27ac-H3K4me3_TDHAM_BP, fold 1, n_feature 3: [Errno 2] No such file or directory: 'model/linear_chosen_feature/predictions/previous.H3K27ac-H3K4me3_TDHAM_BP.1.3.csv'\n",
      "Error calculating accuracy for dataset H3K27ac-H3K4me3_TDHAM_BP, fold 1, n_feature 8: [Errno 2] No such file or directory: 'model/linear_chosen_feature/predictions/previous.H3K27ac-H3K4me3_TDHAM_BP.1.8.csv'\n",
      "Error calculating accuracy for dataset H3K27ac-H3K4me3_TDHAM_BP, fold 1, n_feature 9: [Errno 2] No such file or directory: 'model/linear_chosen_feature/predictions/previous.H3K27ac-H3K4me3_TDHAM_BP.1.9.csv'\n",
      "Error calculating accuracy for dataset H3K27ac-H3K4me3_TDHAM_BP, fold 2, n_feature 3: [Errno 2] No such file or directory: 'model/linear_chosen_feature/predictions/previous.H3K27ac-H3K4me3_TDHAM_BP.2.3.csv'\n",
      "Error calculating accuracy for dataset H3K27ac-H3K4me3_TDHAM_BP, fold 2, n_feature 8: [Errno 2] No such file or directory: 'model/linear_chosen_feature/predictions/previous.H3K27ac-H3K4me3_TDHAM_BP.2.8.csv'\n",
      "Error calculating accuracy for dataset H3K27ac-H3K4me3_TDHAM_BP, fold 2, n_feature 9: [Errno 2] No such file or directory: 'model/linear_chosen_feature/predictions/previous.H3K27ac-H3K4me3_TDHAM_BP.2.9.csv'\n",
      "Error calculating accuracy for dataset H3K27ac-H3K4me3_TDHAM_BP, fold 3, n_feature 3: [Errno 2] No such file or directory: 'model/linear_chosen_feature/predictions/previous.H3K27ac-H3K4me3_TDHAM_BP.3.3.csv'\n",
      "Error calculating accuracy for dataset H3K27ac-H3K4me3_TDHAM_BP, fold 3, n_feature 8: [Errno 2] No such file or directory: 'model/linear_chosen_feature/predictions/previous.H3K27ac-H3K4me3_TDHAM_BP.3.8.csv'\n",
      "Error calculating accuracy for dataset H3K27ac-H3K4me3_TDHAM_BP, fold 3, n_feature 9: [Errno 2] No such file or directory: 'model/linear_chosen_feature/predictions/previous.H3K27ac-H3K4me3_TDHAM_BP.3.9.csv'\n",
      "Error calculating accuracy for dataset H3K27ac-H3K4me3_TDHAM_BP, fold 4, n_feature 3: [Errno 2] No such file or directory: 'model/linear_chosen_feature/predictions/previous.H3K27ac-H3K4me3_TDHAM_BP.4.3.csv'\n",
      "Error calculating accuracy for dataset H3K27ac-H3K4me3_TDHAM_BP, fold 4, n_feature 8: [Errno 2] No such file or directory: 'model/linear_chosen_feature/predictions/previous.H3K27ac-H3K4me3_TDHAM_BP.4.8.csv'\n",
      "Error calculating accuracy for dataset H3K27ac-H3K4me3_TDHAM_BP, fold 4, n_feature 9: [Errno 2] No such file or directory: 'model/linear_chosen_feature/predictions/previous.H3K27ac-H3K4me3_TDHAM_BP.4.9.csv'\n"
     ]
    }
   ],
   "source": [
    "for dataset in datasets:\n",
    "    # get number of folds\n",
    "    fold_df = pd.read_csv('training_data/' + dataset + '/folds.csv')\n",
    "    n_folds = np.unique(fold_df['fold']).__len__()\n",
    "\n",
    "    # List all files in the folder\n",
    "    file_names = os.listdir(prediction_folder_path)\n",
    "    n_features_list = [extract_between_dots(name) for name in file_names]\n",
    "    n_features_list = np.int64(np.unique(n_features_list))\n",
    "\n",
    "    for test_fold in range(1, n_folds + 1):\n",
    "        for n_feature in n_features_list:\n",
    "            try:\n",
    "                acc = get_acc_from(dataset, test_fold, n_feature)\n",
    "                # print(dataset, test_fold, n_feature, acc)\n",
    "                add_row_to_csv('acc_rate_csvs/' + dataset + '.csv', \n",
    "                               ['method', 'fold', 'acc'],\n",
    "                               [model + '.' + str(n_feature), test_fold, acc])\n",
    "            except Exception as e:\n",
    "                print(f\"Error calculating accuracy for dataset {dataset}, fold {test_fold}, n_feature {n_feature}: {e}\")"
   ]
  }
 ],
 "metadata": {
  "kernelspec": {
   "display_name": "Python 3",
   "language": "python",
   "name": "python3"
  },
  "language_info": {
   "codemirror_mode": {
    "name": "ipython",
    "version": 3
   },
   "file_extension": ".py",
   "mimetype": "text/x-python",
   "name": "python",
   "nbconvert_exporter": "python",
   "pygments_lexer": "ipython3",
   "version": "3.10.11"
  }
 },
 "nbformat": 4,
 "nbformat_minor": 2
}
