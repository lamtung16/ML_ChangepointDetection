{
 "cells": [
  {
   "cell_type": "code",
   "execution_count": 1,
   "metadata": {},
   "outputs": [],
   "source": [
    "import pandas as pd\n",
    "import numpy as np\n",
    "import torch\n",
    "import torch.nn as nn\n",
    "import torch.optim as optim\n",
    "import torch.nn.init as init\n",
    "from utility_functions import SquaredHingeLoss, get_acc, add_row_to_csv"
   ]
  },
  {
   "cell_type": "code",
   "execution_count": 2,
   "metadata": {},
   "outputs": [],
   "source": [
    "# get common sequenceID\n",
    "list1 = set(pd.read_csv(\"training_data/detailed/inputs.csv\")['sequenceID'])\n",
    "list2 = set(pd.read_csv(\"training_data/systematic/inputs_old.csv\")['sequenceID'])\n",
    "common_seqID_list = list1.intersection(list2)"
   ]
  },
  {
   "cell_type": "code",
   "execution_count": 3,
   "metadata": {},
   "outputs": [],
   "source": [
    "# dataset\n",
    "dataset = 'detailed'"
   ]
  },
  {
   "cell_type": "code",
   "execution_count": 4,
   "metadata": {},
   "outputs": [],
   "source": [
    "# get dataframes\n",
    "fold_split_df = pd.read_csv('training_data/' + dataset + '/folds.csv')\n",
    "inputs_df     = pd.read_csv('training_data/' + dataset + '/inputs_old.csv')\n",
    "outputs_df    = pd.read_csv('training_data/' + dataset + '/outputs.csv')\n",
    "evaluation_df = pd.read_csv('training_data/' + dataset + '/evaluation.csv')\n",
    "\n",
    "# filter with common_seqID_list\n",
    "fold_split_df = fold_split_df[fold_split_df['sequenceID'].isin(common_seqID_list)]\n",
    "inputs_df     = inputs_df[inputs_df['sequenceID'].isin(common_seqID_list)]\n",
    "outputs_df    = outputs_df[outputs_df['sequenceID'].isin(common_seqID_list)]\n",
    "evaluation_df = evaluation_df[evaluation_df['sequenceID'].isin(common_seqID_list)]"
   ]
  },
  {
   "cell_type": "code",
   "execution_count": 5,
   "metadata": {},
   "outputs": [],
   "source": [
    "# number of folds\n",
    "n_fold = fold_split_df['fold'].nunique()"
   ]
  },
  {
   "cell_type": "code",
   "execution_count": 6,
   "metadata": {},
   "outputs": [],
   "source": [
    "# get df from test fold\n",
    "def get_fold_dfs(test_fold, fold_split_df, inputs_df, outputs_df, evaluation_df):\n",
    "    train_inputs_df  = inputs_df[inputs_df['sequenceID'].isin(fold_split_df[fold_split_df['fold'] == test_fold]['sequenceID'])]\n",
    "    train_outputs_df = outputs_df[outputs_df['sequenceID'].isin(fold_split_df[fold_split_df['fold'] == test_fold]['sequenceID'])]\n",
    "    train_eval_df    = evaluation_df[evaluation_df['sequenceID'].isin(fold_split_df[fold_split_df['fold'] == test_fold]['sequenceID'])]\n",
    "    test_inputs_df   = inputs_df[inputs_df['sequenceID'].isin(fold_split_df[fold_split_df['fold'] == test_fold]['sequenceID'])]\n",
    "    test_eval_df     = evaluation_df[evaluation_df['sequenceID'].isin(fold_split_df[fold_split_df['fold'] == test_fold]['sequenceID'])]\n",
    "    return train_inputs_df.sort_values(by='sequenceID'), train_outputs_df.sort_values(by='sequenceID'), train_eval_df, test_inputs_df, test_eval_df"
   ]
  },
  {
   "cell_type": "code",
   "execution_count": 7,
   "metadata": {},
   "outputs": [],
   "source": [
    "class MLPModel(nn.Module):\n",
    "    def __init__(self, input_size, hidden_layers, hidden_size):\n",
    "        super(MLPModel, self).__init__()\n",
    "        self.input_size = input_size\n",
    "        self.hidden_layers = hidden_layers\n",
    "        self.hidden_size = hidden_size\n",
    "        \n",
    "        self.input_layer = nn.Linear(input_size, hidden_size)\n",
    "        self.hidden = nn.ModuleList([nn.Linear(hidden_size, hidden_size) for _ in range(hidden_layers - 1)])\n",
    "        self.output_layer = nn.Linear(hidden_size, 1)\n",
    "        \n",
    "        self.initialize_parameters()\n",
    "\n",
    "    def initialize_parameters(self):\n",
    "        for param in self.parameters():\n",
    "            init.normal_(param, mean=0, std=2)\n",
    "\n",
    "    def forward(self, x):\n",
    "        x = torch.relu(self.input_layer(x))\n",
    "        for layer in self.hidden:\n",
    "            x = torch.relu(layer(x))\n",
    "        x = self.output_layer(x)\n",
    "        return x"
   ]
  },
  {
   "cell_type": "code",
   "execution_count": 8,
   "metadata": {},
   "outputs": [],
   "source": [
    "# train model\n",
    "def get_trained_model(inputs_tensor, outputs_tensor, hidden_layers, hidden_size):\n",
    "    model = MLPModel(inputs_tensor.shape[1], hidden_layers, hidden_size)\n",
    "    criterion = SquaredHingeLoss()\n",
    "    optimizer = optim.Adam(model.parameters())\n",
    "    \n",
    "    best_loss = float('inf')\n",
    "    patience = 2000\n",
    "    wait = 0\n",
    "    for epoch in range(100000):\n",
    "        loss = criterion(model(inputs_tensor), outputs_tensor)\n",
    "        optimizer.zero_grad()\n",
    "        loss.backward()\n",
    "        optimizer.step()\n",
    "\n",
    "        # Check if the loss has decreased\n",
    "        if loss < best_loss:\n",
    "            best_loss = loss\n",
    "            wait = 0\n",
    "        else:\n",
    "            wait += 1\n",
    "            if wait >= patience:\n",
    "                break\n",
    "    return model"
   ]
  },
  {
   "cell_type": "code",
   "execution_count": 9,
   "metadata": {},
   "outputs": [],
   "source": [
    "cv_df = pd.read_csv('acc_rate_csvs/' + dataset + '_cv.csv')"
   ]
  },
  {
   "cell_type": "code",
   "execution_count": 10,
   "metadata": {},
   "outputs": [],
   "source": [
    "def chose_best_architect(cv_df, test_fold, n_features):\n",
    "    cv_df_fold_features = cv_df[(cv_df['fold'] == test_fold) & (cv_df['n_features'] == n_features)]\n",
    "    cv_df_fold_features = cv_df_fold_features.sort_values(by='val_acc', ascending=False)\n",
    "    best_n_layer = cv_df_fold_features.iloc[0]['n_layer']\n",
    "    best_layer_size = cv_df_fold_features.iloc[0]['layer_size']\n",
    "    return int(best_n_layer), int(best_layer_size)"
   ]
  },
  {
   "cell_type": "code",
   "execution_count": 11,
   "metadata": {},
   "outputs": [],
   "source": [
    "def normalize(tensor):\n",
    "    mean = torch.mean(tensor, dim=0)\n",
    "    std = torch.std(tensor, dim=0)\n",
    "    std_zeros = std == 0\n",
    "    std[std_zeros] = 1\n",
    "    normalized_tensor = (tensor - mean) / std.unsqueeze(0)\n",
    "    return normalized_tensor"
   ]
  },
  {
   "cell_type": "code",
   "execution_count": 12,
   "metadata": {},
   "outputs": [],
   "source": [
    "# main\n",
    "for test_fold in range(1, n_fold+1):\n",
    "    # fold dataframe\n",
    "    train_inputs_df, train_outputs_df, train_eval_df, test_inputs_df, test_eval_df = get_fold_dfs(test_fold, fold_split_df, inputs_df, outputs_df, evaluation_df)\n",
    "\n",
    "    # train_input_tensor\n",
    "    train_input_tensor = train_inputs_df.iloc[:, 1:].to_numpy()\n",
    "    train_input_tensor = torch.Tensor(train_input_tensor)\n",
    "    train_input_tensor = normalize(train_input_tensor)\n",
    "\n",
    "    # test_input_tensor\n",
    "    test_input_tensor = test_inputs_df.iloc[:, 1:].to_numpy()\n",
    "    test_input_tensor = torch.Tensor(test_input_tensor)\n",
    "    test_input_tensor = normalize(test_input_tensor)\n",
    "\n",
    "    # output tensor\n",
    "    targets_low  = torch.Tensor(train_outputs_df['min.log.lambda'].to_numpy().reshape(-1,1))\n",
    "    targets_high = torch.Tensor(train_outputs_df['max.log.lambda'].to_numpy().reshape(-1,1))\n",
    "    outputs_tensor = torch.cat((targets_low, targets_high), dim=1)\n",
    "\n",
    "    # trained model\n",
    "    hidden_layers, hidden_size = chose_best_architect(cv_df, test_fold, 117)\n",
    "    trained_model = get_trained_model(train_input_tensor, outputs_tensor, hidden_layers, hidden_size)\n",
    "    \n",
    "    # get acc\n",
    "    with torch.no_grad():\n",
    "        lldas = trained_model(test_input_tensor).numpy().reshape(-1)\n",
    "\n",
    "    lldas_df = pd.DataFrame(list(zip(test_inputs_df['sequenceID'], lldas)), columns=['sequenceID', 'llda'])\n",
    "    acc = get_acc(test_eval_df, lldas_df)\n",
    "    add_row_to_csv('acc_rate_csvs/' + dataset + '.csv', \n",
    "                ['method', 'fold',     'feature engineer', 'acc'],\n",
    "                ['mlp.117', test_fold, 'no',               acc])"
   ]
  }
 ],
 "metadata": {
  "kernelspec": {
   "display_name": "Python 3",
   "language": "python",
   "name": "python3"
  },
  "language_info": {
   "codemirror_mode": {
    "name": "ipython",
    "version": 3
   },
   "file_extension": ".py",
   "mimetype": "text/x-python",
   "name": "python",
   "nbconvert_exporter": "python",
   "pygments_lexer": "ipython3",
   "version": "3.10.11"
  }
 },
 "nbformat": 4,
 "nbformat_minor": 2
}
