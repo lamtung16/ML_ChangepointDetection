{
 "cells": [
  {
   "cell_type": "code",
   "execution_count": 1,
   "metadata": {},
   "outputs": [
    {
     "data": {
      "text/plain": [
       "<torch._C.Generator at 0x27264cffcf0>"
      ]
     },
     "execution_count": 1,
     "metadata": {},
     "output_type": "execute_result"
    }
   ],
   "source": [
    "import torch\n",
    "import torch.nn as nn\n",
    "import torch.optim as optim\n",
    "from sklearn.model_selection import KFold\n",
    "import numpy as np\n",
    "import pandas as pd\n",
    "from ipynb.fs.full.utility_functions import gen_data_dict, get_data, get_cumsum, error_count, write_to_csv, opart, SquaredHingeLoss\n",
    "\n",
    "np.random.seed(4)\n",
    "torch.manual_seed(4)"
   ]
  },
  {
   "cell_type": "code",
   "execution_count": 2,
   "metadata": {},
   "outputs": [],
   "source": [
    "def normalize_data(data):\n",
    "    mean = data.mean(dim=0)\n",
    "    std  = data.std(dim=0)\n",
    "    norm_data = (data - mean) / std\n",
    "    return norm_data"
   ]
  },
  {
   "cell_type": "code",
   "execution_count": 3,
   "metadata": {},
   "outputs": [],
   "source": [
    "# data\n",
    "chosen_feature = ['std_deviation', 'count', 'sum_diff', 'range_value', 'abs_skewness']\n",
    "data = torch.FloatTensor(pd.read_csv('1.genome_learning_data/seq_features.csv').iloc[:, 1:][chosen_feature].to_numpy())\n",
    "X = normalize_data(data)\n",
    "\n",
    "target_df_1 = pd.read_csv('1.genome_learning_data/target_lambda_fold1.csv')\n",
    "target_df_2 = pd.read_csv('1.genome_learning_data/target_lambda_fold2.csv')\n",
    "\n",
    "targets_low_1  = target_df_1.iloc[:, 1:2].to_numpy()\n",
    "targets_high_1 = target_df_1.iloc[:, 2:3].to_numpy()\n",
    "targets_low_2  = target_df_2.iloc[:, 1:2].to_numpy()\n",
    "targets_high_2 = target_df_2.iloc[:, 2:3].to_numpy()\n",
    "\n",
    "targets_low_1  = torch.FloatTensor(targets_low_1)\n",
    "targets_high_1 = torch.FloatTensor(targets_high_1)\n",
    "targets_low_2  = torch.FloatTensor(targets_low_2)\n",
    "targets_high_2 = torch.FloatTensor(targets_high_2)\n",
    "\n",
    "y1 = torch.cat((targets_low_1, targets_high_1), dim=1)\n",
    "y2 = torch.cat((targets_low_2, targets_high_2), dim=1)"
   ]
  },
  {
   "cell_type": "code",
   "execution_count": 4,
   "metadata": {},
   "outputs": [],
   "source": [
    "# Define the deep learning model\n",
    "class MyModel(nn.Module):\n",
    "    def __init__(self, input_size):\n",
    "        super(MyModel, self).__init__()\n",
    "        self.fc1 = nn.Linear(input_size, 8)\n",
    "        self.fc2 = nn.Linear(8, 1)\n",
    "\n",
    "    def forward(self, x):\n",
    "        x = torch.relu(self.fc1(x))\n",
    "        x = self.fc2(x)\n",
    "        return x"
   ]
  },
  {
   "cell_type": "code",
   "execution_count": 5,
   "metadata": {},
   "outputs": [],
   "source": [
    "# Cross-Validation number of iterations\n",
    "\n",
    "# Define the number of folds for cross-validation\n",
    "num_folds = 3\n",
    "kf = KFold(n_splits=num_folds, shuffle=True, random_state=4)\n",
    "\n",
    "# loss function\n",
    "squared_hinge_loss = SquaredHingeLoss()\n",
    "\n",
    "best_ites_1 = []\n",
    "best_ites_2 = []\n",
    "for train_index, val_index in kf.split(X):\n",
    "\n",
    "    # Split the data into training and validation sets\n",
    "    X_train_tensor, X_val_tensor   = X[train_index],  X[val_index]\n",
    "    y1_train_tensor, y1_val_tensor = y1[train_index], y1[val_index]\n",
    "    y2_train_tensor, y2_val_tensor = y2[train_index], y2[val_index]\n",
    "\n",
    "    # Define your model, loss, and optimizer\n",
    "    model1 = MyModel(input_size=X.shape[1])\n",
    "    model2 = MyModel(input_size=X.shape[1])\n",
    "\n",
    "    optimizer1 = optim.Adam(model1.parameters(), lr=0.001, amsgrad=True)\n",
    "    optimizer2 = optim.Adam(model2.parameters(), lr=0.001, amsgrad=True)\n",
    "\n",
    "    # Training loop for the specified number of iterations\n",
    "    val_losses_1 = []\n",
    "    val_losses_2 = []\n",
    "    for epoch in range(1000):\n",
    "        outputs1 = model1(X_train_tensor)\n",
    "        outputs2 = model2(X_train_tensor)\n",
    "\n",
    "        loss1 = squared_hinge_loss(outputs1, y1_train_tensor)\n",
    "        loss2 = squared_hinge_loss(outputs2, y2_train_tensor)\n",
    "        \n",
    "        optimizer1.zero_grad()\n",
    "        optimizer2.zero_grad()\n",
    "        \n",
    "        loss1.backward()\n",
    "        loss2.backward()\n",
    "\n",
    "        optimizer1.step()\n",
    "        optimizer2.step()\n",
    "\n",
    "        # add val loss\n",
    "        val_loss_1 = squared_hinge_loss(model1(X_val_tensor), y1_val_tensor)\n",
    "        val_loss_2 = squared_hinge_loss(model2(X_val_tensor), y2_val_tensor)\n",
    "\n",
    "        val_losses_1.append(val_loss_1.item())\n",
    "        val_losses_2.append(val_loss_2.item())\n",
    "    \n",
    "    best_ite_1 = np.argmin(val_losses_1) + 1\n",
    "    best_ite_2 = np.argmin(val_losses_2) + 1\n",
    "\n",
    "    best_ites_1.append(best_ite_1)\n",
    "    best_ites_2.append(best_ite_2)\n",
    "\n",
    "best_no_ite_1 = int(np.mean(best_ites_1))\n",
    "best_no_ite_2 = int(np.mean(best_ites_2))"
   ]
  },
  {
   "cell_type": "code",
   "execution_count": 6,
   "metadata": {},
   "outputs": [],
   "source": [
    "# Train fold 1\n",
    "model1 = MyModel(input_size = data.shape[1])\n",
    "squared_hinge_loss = SquaredHingeLoss()\n",
    "optimizer1 = optim.Adam(model1.parameters(), lr=0.001, amsgrad=True)\n",
    "\n",
    "# Training loop\n",
    "for epoch in range(best_no_ite_1):\n",
    "    # Forward pass\n",
    "    outputs1 = model1(data)\n",
    "    \n",
    "    # Compute the custom loss\n",
    "    loss_1 = squared_hinge_loss(outputs1, y1)\n",
    "    \n",
    "    # Backward pass and optimization\n",
    "    optimizer1.zero_grad()\n",
    "    loss_1.backward()\n",
    "    optimizer1.step()\n",
    "\n",
    "# save model\n",
    "torch.save(model1.state_dict(), '1.genome_saved_models/model1_dl_best.pth')"
   ]
  },
  {
   "cell_type": "code",
   "execution_count": 7,
   "metadata": {},
   "outputs": [],
   "source": [
    "# Train fold 2\n",
    "model2 = MyModel(input_size = data.shape[1])\n",
    "squared_hinge_loss = SquaredHingeLoss()\n",
    "optimizer2 = optim.Adam(model2.parameters(), lr=0.001, amsgrad=True)\n",
    "\n",
    "# Training loop\n",
    "for epoch in range(best_no_ite_2):\n",
    "    # Forward pass\n",
    "    outputs2 = model2(data)\n",
    "    \n",
    "    # Compute the custom loss\n",
    "    loss_2 = squared_hinge_loss(outputs2, y2)\n",
    "    \n",
    "    # Backward pass and optimization\n",
    "    optimizer2.zero_grad()\n",
    "    loss_2.backward()\n",
    "    optimizer2.step()\n",
    "\n",
    "# save model\n",
    "torch.save(model1.state_dict(), '1.genome_saved_models/model2_dl_best.pth')"
   ]
  },
  {
   "cell_type": "code",
   "execution_count": 8,
   "metadata": {},
   "outputs": [],
   "source": [
    "# # Instantiate the model, define custom loss function, and optimizer\n",
    "# model1 = MyModel(input_size = data.shape[1])\n",
    "# model2 = MyModel(input_size = data.shape[1])\n",
    "\n",
    "# squared_hinge_loss = SquaredHingeLoss()\n",
    "# optimizer1 = optim.Adam(model1.parameters(), lr=0.001, amsgrad=True)\n",
    "# optimizer2 = optim.Adam(model2.parameters(), lr=0.001, amsgrad=True)\n",
    "\n",
    "# # Training loop\n",
    "# record_loss1_test = []\n",
    "# record_loss2_test = []\n",
    "# min_loss_1_test = float('inf')\n",
    "# min_loss_2_test = float('inf')\n",
    "# for epoch in range(1000):\n",
    "#     # Forward pass\n",
    "#     outputs1 = model1(data)\n",
    "#     outputs2 = model2(data)\n",
    "    \n",
    "#     # Compute the custom loss\n",
    "#     loss_1 = squared_hinge_loss(outputs1, targets_low_1, targets_high_1)\n",
    "#     loss_2 = squared_hinge_loss(outputs2, targets_low_2, targets_high_2)\n",
    "#     loss_1_test = squared_hinge_loss(outputs1, targets_low_2, targets_high_2)\n",
    "#     loss_2_test = squared_hinge_loss(outputs2, targets_low_1, targets_high_1)\n",
    "    \n",
    "#     # Backward pass and optimization\n",
    "#     optimizer1.zero_grad()\n",
    "#     loss_1.backward()\n",
    "#     optimizer1.step()\n",
    "\n",
    "#     optimizer2.zero_grad()\n",
    "#     loss_2.backward()\n",
    "#     optimizer2.step()\n",
    "\n",
    "#     # record\n",
    "#     record_loss1_test.append(loss_1_test.item())\n",
    "#     record_loss2_test.append(loss_2_test.item())\n",
    "\n",
    "#     # save models\n",
    "#     if loss_1_test < min_loss_1_test:\n",
    "#         min_loss_1_test = loss_1_test\n",
    "#         torch.save(model1.state_dict(), '1.genome_saved_models/model1_dl_best.pth')\n",
    "    \n",
    "#     if loss_2_test < min_loss_2_test:\n",
    "#         min_loss_2_test = loss_2_test\n",
    "#         torch.save(model2.state_dict(), '1.genome_saved_models/model2_dl_best.pth')\n",
    "    \n",
    "#     # Print the loss every 100 epochs\n",
    "#     if (epoch) % 100 == 0:\n",
    "#         print(f'Epoch {epoch:5d}, Loss_1: {loss_1.item():8.4f}, Loss_1_test: {loss_1_test.item():8.4f}, Loss_2: {loss_2.item():8.4f}, Loss_2_test: {loss_2_test.item():8.4f}')"
   ]
  },
  {
   "cell_type": "code",
   "execution_count": 10,
   "metadata": {},
   "outputs": [
    {
     "data": {
      "text/plain": [
       "MyModel(\n",
       "  (fc1): Linear(in_features=5, out_features=8, bias=True)\n",
       "  (fc2): Linear(in_features=8, out_features=1, bias=True)\n",
       ")"
      ]
     },
     "execution_count": 10,
     "metadata": {},
     "output_type": "execute_result"
    }
   ],
   "source": [
    "# Load model1\n",
    "model1 = MyModel(input_size=data.shape[1])\n",
    "model1.load_state_dict(torch.load('1.genome_saved_models/model1_dl_best.pth'))\n",
    "model1.eval()  # Set the model to evaluation mode\n",
    "\n",
    "# Load model2\n",
    "model2 = MyModel(input_size=data.shape[1])\n",
    "model2.load_state_dict(torch.load('1.genome_saved_models/model2_dl_best.pth'))\n",
    "model2.eval()  # Set the model to evaluation mode"
   ]
  },
  {
   "cell_type": "code",
   "execution_count": 12,
   "metadata": {},
   "outputs": [
    {
     "name": "stdout",
     "output_type": "stream",
     "text": [
      "loss for fold 1:  1.032637119293213\n",
      "loss for fold 2:  1.0122628211975098\n"
     ]
    }
   ],
   "source": [
    "print(\"loss for fold 1: \",squared_hinge_loss(model2(data), y1).item())\n",
    "print(\"loss for fold 2: \",squared_hinge_loss(model1(data), y2).item())"
   ]
  },
  {
   "cell_type": "code",
   "execution_count": 13,
   "metadata": {},
   "outputs": [],
   "source": [
    "with torch.no_grad():\n",
    "    ldas1 = model1(data).numpy().reshape(-1)\n",
    "    ldas2 = model2(data).numpy().reshape(-1)"
   ]
  },
  {
   "cell_type": "code",
   "execution_count": 15,
   "metadata": {},
   "outputs": [],
   "source": [
    "seqs   = gen_data_dict('sequence_label_data/genome/signals.gz')\n",
    "labels = gen_data_dict('sequence_label_data/genome/labels.gz')\n",
    "\n",
    "header = ['sequenceID', 'fold_1_total_labels', 'fold_2_total_labels', 'fold_1_errs', 'fold_2_errs']\n",
    "\n",
    "for i in range(len(seqs)):\n",
    "    # generate data\n",
    "    sequence, neg_start_1, neg_end_1, pos_start_1, pos_end_1, neg_start_2, neg_end_2, pos_start_2, pos_end_2 = get_data(i, seqs=seqs, labels=labels)\n",
    "    sequence_length = len(sequence)-1\n",
    "\n",
    "    # vectors of cumulative sums\n",
    "    y, z = get_cumsum(sequence)\n",
    "\n",
    "    # get total labels\n",
    "    fold1_total_labels = len(neg_start_1) + len(pos_start_1)\n",
    "    fold2_total_labels = len(neg_start_2) + len(pos_start_2)\n",
    "\n",
    "    # run each lambda and record it into csv file\n",
    "    row  = [i, fold1_total_labels, fold2_total_labels]\n",
    "\n",
    "    chpnt_fold1 = opart(10**ldas2[i], sequence)\n",
    "    chpnt_fold2 = opart(10**ldas1[i], sequence)\n",
    "\n",
    "    err_1 = error_count(chpnt_fold1, neg_start_1, neg_end_1, pos_start_1, pos_end_1)\n",
    "    err_2 = error_count(chpnt_fold2, neg_start_2, neg_end_2, pos_start_2, pos_end_2)\n",
    "    \n",
    "    row.append(sum(err_1))\n",
    "    row.append(sum(err_2))\n",
    "\n",
    "    write_to_csv('1.genome_learning_output/deep.csv', header, row)"
   ]
  }
 ],
 "metadata": {
  "kernelspec": {
   "display_name": "Python 3",
   "language": "python",
   "name": "python3"
  },
  "language_info": {
   "codemirror_mode": {
    "name": "ipython",
    "version": 3
   },
   "file_extension": ".py",
   "mimetype": "text/x-python",
   "name": "python",
   "nbconvert_exporter": "python",
   "pygments_lexer": "ipython3",
   "version": "3.11.7"
  }
 },
 "nbformat": 4,
 "nbformat_minor": 2
}
