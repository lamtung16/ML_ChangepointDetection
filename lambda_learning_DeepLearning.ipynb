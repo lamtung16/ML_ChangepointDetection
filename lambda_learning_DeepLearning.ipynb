{
 "cells": [
  {
   "cell_type": "code",
   "execution_count": 8,
   "metadata": {},
   "outputs": [
    {
     "data": {
      "text/plain": [
       "<torch._C.Generator at 0x1c2faeb72f0>"
      ]
     },
     "execution_count": 8,
     "metadata": {},
     "output_type": "execute_result"
    }
   ],
   "source": [
    "import torch\n",
    "import torch.nn as nn\n",
    "import torch.optim as optim\n",
    "import numpy as np\n",
    "import pandas as pd\n",
    "\n",
    "np.random.seed(123)\n",
    "torch.manual_seed(123)"
   ]
  },
  {
   "cell_type": "code",
   "execution_count": 9,
   "metadata": {},
   "outputs": [],
   "source": [
    "# Custom loss function\n",
    "margin = 1\n",
    "class SquaredHingeLoss(nn.Module):\n",
    "    def forward(self, predicted, low, high):\n",
    "        low  = low + margin\n",
    "        high = high - margin\n",
    "        loss = torch.relu(low - predicted) + torch.relu(predicted - high)\n",
    "        return torch.sum(loss**2)"
   ]
  },
  {
   "cell_type": "code",
   "execution_count": 10,
   "metadata": {},
   "outputs": [],
   "source": [
    "# # train data\n",
    "# data_df   = pd.read_csv('data/seq_stat.csv')\n",
    "# target_df = pd.read_csv('record/data_fold1.csv')\n",
    "\n",
    "# data      = data_df.iloc[:, 1:].to_numpy()\n",
    "# targets_1 = target_df.iloc[:, 1:2].to_numpy()\n",
    "# targets_2 = target_df.iloc[:, 2:3].to_numpy()\n",
    "\n",
    "# data      = torch.FloatTensor(data)\n",
    "# targets_1 = torch.FloatTensor(targets_1)\n",
    "# targets_2 = torch.FloatTensor(targets_2)\n",
    "\n",
    "# # test_data\n",
    "# target_test_df = pd.read_csv('record/data_fold2.csv')\n",
    "# targets_test_1 = target_test_df.iloc[:, 1:2].to_numpy()\n",
    "# targets_test_2 = target_test_df.iloc[:, 2:3].to_numpy()\n",
    "\n",
    "# targets_test_1 = torch.FloatTensor(targets_test_1)\n",
    "# targets_test_2 = torch.FloatTensor(targets_test_2)"
   ]
  },
  {
   "cell_type": "code",
   "execution_count": 11,
   "metadata": {},
   "outputs": [],
   "source": [
    "def normalize_data(data):\n",
    "    mean = data.mean(dim=0)\n",
    "    std  = data.std(dim=0)\n",
    "    norm_data = (data - mean) / std\n",
    "    return norm_data"
   ]
  },
  {
   "cell_type": "code",
   "execution_count": 12,
   "metadata": {},
   "outputs": [],
   "source": [
    "data_df   = pd.read_csv('learning_data/seq_features.csv')\n",
    "target_df = pd.read_csv('learning_data/target_lambda_bothfold.csv')\n",
    "\n",
    "n_train = 300\n",
    "\n",
    "# train data\n",
    "data = torch.FloatTensor(data_df.iloc[:n_train, 1:].to_numpy())\n",
    "data = normalize_data(data)\n",
    "targets_1 = torch.FloatTensor(target_df.iloc[:n_train, 1:2].to_numpy())\n",
    "targets_2 = torch.FloatTensor(target_df.iloc[:n_train, 2:3].to_numpy())\n",
    "\n",
    "# test_data\n",
    "data_test = torch.FloatTensor(data_df.iloc[n_train:, 1:].to_numpy())\n",
    "data_test = normalize_data(data_test)\n",
    "targets_test_1 = torch.FloatTensor(target_df.iloc[n_train:, 1:2].to_numpy())\n",
    "targets_test_2 = torch.FloatTensor(target_df.iloc[n_train:, 2:3].to_numpy())"
   ]
  },
  {
   "cell_type": "code",
   "execution_count": 13,
   "metadata": {},
   "outputs": [],
   "source": [
    "# Define the deep learning model\n",
    "class MyModel(nn.Module):\n",
    "    def __init__(self, input_size):\n",
    "        super(MyModel, self).__init__()\n",
    "        self.fc1 = nn.Linear(input_size, 8)\n",
    "        self.fc2 = nn.Linear(8, 4)\n",
    "        self.fc3 = nn.Linear(4, 2)\n",
    "        self.fc4 = nn.Linear(2, 1)\n",
    "\n",
    "    def forward(self, x):\n",
    "        x = torch.relu(self.fc1(x))\n",
    "        x = torch.relu(self.fc2(x))\n",
    "        x = torch.relu(self.fc3(x))\n",
    "        x = self.fc4(x)\n",
    "        return x"
   ]
  },
  {
   "cell_type": "code",
   "execution_count": 14,
   "metadata": {},
   "outputs": [
    {
     "name": "stdout",
     "output_type": "stream",
     "text": [
      "Epoch [    0/10000], Loss_train: 686.7583, Loss_test: 249.6145\n"
     ]
    },
    {
     "name": "stdout",
     "output_type": "stream",
     "text": [
      "Epoch [  500/10000], Loss_train: 537.1819, Loss_test: 170.8680\n",
      "Epoch [ 1000/10000], Loss_train: 531.4022, Loss_test: 173.6916\n",
      "Epoch [ 1500/10000], Loss_train: 526.9100, Loss_test: 174.2226\n",
      "Epoch [ 2000/10000], Loss_train: 522.7416, Loss_test: 177.2994\n",
      "Epoch [ 2500/10000], Loss_train: 518.2928, Loss_test: 181.1276\n",
      "Epoch [ 3000/10000], Loss_train: 514.1561, Loss_test: 186.8445\n",
      "Epoch [ 3500/10000], Loss_train: 511.5004, Loss_test: 192.3344\n",
      "Epoch [ 4000/10000], Loss_train: 508.8043, Loss_test: 199.8932\n",
      "Epoch [ 4500/10000], Loss_train: 506.6811, Loss_test: 210.6202\n",
      "Epoch [ 5000/10000], Loss_train: 503.7804, Loss_test: 236.4378\n",
      "Epoch [ 5500/10000], Loss_train: 502.3000, Loss_test: 245.6436\n",
      "Epoch [ 6000/10000], Loss_train: 501.4751, Loss_test: 251.4688\n",
      "Epoch [ 6500/10000], Loss_train: 500.8625, Loss_test: 256.1204\n",
      "Epoch [ 7000/10000], Loss_train: 500.4200, Loss_test: 258.6102\n",
      "Epoch [ 7500/10000], Loss_train: 500.0414, Loss_test: 262.3310\n",
      "Epoch [ 8000/10000], Loss_train: 499.7447, Loss_test: 267.0522\n",
      "Epoch [ 8500/10000], Loss_train: 499.5324, Loss_test: 267.9500\n",
      "Epoch [ 9000/10000], Loss_train: 499.3640, Loss_test: 267.2747\n",
      "Epoch [ 9500/10000], Loss_train: 499.2379, Loss_test: 267.5090\n",
      "Epoch [10000/10000], Loss_train: 499.2007, Loss_test: 268.7454\n"
     ]
    }
   ],
   "source": [
    "# Instantiate the model, define custom loss function, and optimizer\n",
    "model = MyModel(input_size = data_df.shape[1] - 1)\n",
    "squared_hinge_loss = SquaredHingeLoss()\n",
    "optimizer = optim.Adam(model.parameters(), lr=0.001)\n",
    "\n",
    "# Training loop\n",
    "epochs = 10000\n",
    "for epoch in range(epochs+1):\n",
    "    # Forward pass\n",
    "    outputs_train = model(data)\n",
    "    outputs_test  = model(data_test)\n",
    "    \n",
    "    # Compute the custom loss\n",
    "    loss_train = squared_hinge_loss(outputs_train, targets_1, targets_2)\n",
    "    loss_test  = squared_hinge_loss(outputs_test, targets_test_1, targets_test_2)\n",
    "    \n",
    "    # Backward pass and optimization\n",
    "    optimizer.zero_grad()\n",
    "    loss_train.backward()\n",
    "    optimizer.step()\n",
    "    \n",
    "    # Print the loss every 100 epochs\n",
    "    if (epoch) % 500 == 0:\n",
    "        print(f'Epoch [{epoch:5d}/{epochs}], Loss_train: {loss_train.item():8.4f}, Loss_test: {loss_test.item():8.4f}')"
   ]
  }
 ],
 "metadata": {
  "kernelspec": {
   "display_name": "Python 3",
   "language": "python",
   "name": "python3"
  },
  "language_info": {
   "codemirror_mode": {
    "name": "ipython",
    "version": 3
   },
   "file_extension": ".py",
   "mimetype": "text/x-python",
   "name": "python",
   "nbconvert_exporter": "python",
   "pygments_lexer": "ipython3",
   "version": "3.11.7"
  }
 },
 "nbformat": 4,
 "nbformat_minor": 2
}
