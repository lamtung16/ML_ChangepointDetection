{
 "cells": [
  {
   "cell_type": "code",
   "execution_count": 1,
   "metadata": {},
   "outputs": [
    {
     "data": {
      "text/plain": [
       "<torch._C.Generator at 0x16e755b7330>"
      ]
     },
     "execution_count": 1,
     "metadata": {},
     "output_type": "execute_result"
    }
   ],
   "source": [
    "import torch\n",
    "import torch.nn as nn\n",
    "import torch.optim as optim\n",
    "import numpy as np\n",
    "import pandas as pd\n",
    "from ipynb.fs.full.utility_functions import gen_data_dict, get_data, get_cumsum, L, trace_back, error_count, write_to_csv, opart\n",
    "\n",
    "np.random.seed(4)\n",
    "torch.manual_seed(4)"
   ]
  },
  {
   "cell_type": "code",
   "execution_count": 2,
   "metadata": {},
   "outputs": [],
   "source": [
    "# Custom loss function\n",
    "margin = 1\n",
    "class SquaredHingeLoss(nn.Module):\n",
    "    def forward(self, predicted, low, high):\n",
    "        low  = low + margin\n",
    "        high = high - margin\n",
    "        loss = torch.relu(low - predicted) + torch.relu(predicted - high)\n",
    "        return torch.mean(torch.square(loss), dtype=torch.float)"
   ]
  },
  {
   "cell_type": "code",
   "execution_count": 3,
   "metadata": {},
   "outputs": [],
   "source": [
    "def normalize_data(data):\n",
    "    mean = data.mean(dim=0)\n",
    "    std  = data.std(dim=0)\n",
    "    norm_data = (data - mean) / std\n",
    "    return norm_data"
   ]
  },
  {
   "cell_type": "code",
   "execution_count": 4,
   "metadata": {},
   "outputs": [],
   "source": [
    "# data\n",
    "chosen_feature = ['std_deviation', 'count', 'sum_diff']\n",
    "data = torch.FloatTensor(pd.read_csv('learning_data/seq_features.csv').iloc[:, 1:][chosen_feature].to_numpy())\n",
    "data = normalize_data(data)\n",
    "\n",
    "target_df_1 = pd.read_csv('learning_data/target_lambda_fold1.csv')\n",
    "target_df_2 = pd.read_csv('learning_data/target_lambda_fold2.csv')\n",
    "\n",
    "targets_low_1  = target_df_1.iloc[:, 1:2].to_numpy()\n",
    "targets_high_1 = target_df_1.iloc[:, 2:3].to_numpy()\n",
    "targets_low_2  = target_df_2.iloc[:, 1:2].to_numpy()\n",
    "targets_high_2 = target_df_2.iloc[:, 2:3].to_numpy()\n",
    "\n",
    "targets_low_1  = torch.FloatTensor(targets_low_1)\n",
    "targets_high_1 = torch.FloatTensor(targets_high_1)\n",
    "targets_low_2  = torch.FloatTensor(targets_low_2)\n",
    "targets_high_2 = torch.FloatTensor(targets_high_2)"
   ]
  },
  {
   "cell_type": "code",
   "execution_count": 5,
   "metadata": {},
   "outputs": [],
   "source": [
    "# data_df   = pd.read_csv('learning_data/seq_features.csv')\n",
    "# target_df = pd.read_csv('learning_data/target_lambda_bothfold.csv')\n",
    "\n",
    "# n_train = 300\n",
    "\n",
    "# # train data\n",
    "# data = torch.FloatTensor(data_df.iloc[:n_train, 1:].to_numpy())\n",
    "# data = normalize_data(data)\n",
    "# targets_1 = torch.FloatTensor(target_df.iloc[:n_train, 1:2].to_numpy())\n",
    "# targets_2 = torch.FloatTensor(target_df.iloc[:n_train, 2:3].to_numpy())\n",
    "\n",
    "# # test_data\n",
    "# data_test = torch.FloatTensor(data_df.iloc[n_train:, 1:].to_numpy())\n",
    "# data_test = normalize_data(data_test)\n",
    "# targets_test_1 = torch.FloatTensor(target_df.iloc[n_train:, 1:2].to_numpy())\n",
    "# targets_test_2 = torch.FloatTensor(target_df.iloc[n_train:, 2:3].to_numpy())"
   ]
  },
  {
   "cell_type": "code",
   "execution_count": 6,
   "metadata": {},
   "outputs": [],
   "source": [
    "# Define the deep learning model\n",
    "class MyModel(nn.Module):\n",
    "    def __init__(self, input_size):\n",
    "        super(MyModel, self).__init__()\n",
    "        self.fc1 = nn.Linear(input_size, 4)\n",
    "        self.fc2 = nn.Linear(4, 1)\n",
    "\n",
    "    def forward(self, x):\n",
    "        x = torch.relu(self.fc1(x))\n",
    "        x = self.fc2(x)\n",
    "        return x"
   ]
  },
  {
   "cell_type": "code",
   "execution_count": 7,
   "metadata": {},
   "outputs": [
    {
     "name": "stdout",
     "output_type": "stream",
     "text": [
      "Epoch     0, Loss_1:   1.7715, Loss_1_test:   1.8661, Loss_2:   1.8207, Loss_2_test:   1.2023\n",
      "Epoch   100, Loss_1:   1.3177, Loss_1_test:   1.5205, Loss_2:   1.5279, Loss_2_test:   1.0895\n",
      "Epoch   200, Loss_1:   1.0983, Loss_1_test:   1.3473, Loss_2:   1.4283, Loss_2_test:   1.0693\n",
      "Epoch   300, Loss_1:   1.0313, Loss_1_test:   1.3128, Loss_2:   1.3716, Loss_2_test:   1.0608\n",
      "Epoch   400, Loss_1:   1.0221, Loss_1_test:   1.3212, Loss_2:   1.3277, Loss_2_test:   1.0527\n",
      "Epoch   500, Loss_1:   1.0188, Loss_1_test:   1.3240, Loss_2:   1.2875, Loss_2_test:   1.0479\n",
      "Epoch   600, Loss_1:   1.0161, Loss_1_test:   1.3234, Loss_2:   1.2679, Loss_2_test:   1.0510\n",
      "Epoch   700, Loss_1:   1.0142, Loss_1_test:   1.3248, Loss_2:   1.2595, Loss_2_test:   1.0565\n",
      "Epoch   800, Loss_1:   1.0136, Loss_1_test:   1.3251, Loss_2:   1.2534, Loss_2_test:   1.0608\n",
      "Epoch   900, Loss_1:   1.0136, Loss_1_test:   1.3239, Loss_2:   1.2476, Loss_2_test:   1.0638\n"
     ]
    }
   ],
   "source": [
    "# Instantiate the model, define custom loss function, and optimizer\n",
    "model1 = MyModel(input_size = data.shape[1])\n",
    "model2 = MyModel(input_size = data.shape[1])\n",
    "\n",
    "squared_hinge_loss = SquaredHingeLoss()\n",
    "optimizer1 = optim.Adam(model1.parameters(), lr=0.001)\n",
    "optimizer2 = optim.Adam(model2.parameters(), lr=0.001)\n",
    "\n",
    "# Training loop\n",
    "record_loss1_test = []\n",
    "record_loss2_test = []\n",
    "min_loss_1_test = float('inf')\n",
    "min_loss_2_test = float('inf')\n",
    "for epoch in range(1000):\n",
    "    # Forward pass\n",
    "    outputs1 = model1(data)\n",
    "    outputs2 = model2(data)\n",
    "    \n",
    "    # Compute the custom loss\n",
    "    loss_1 = squared_hinge_loss(outputs1, targets_low_1, targets_high_1)\n",
    "    loss_2 = squared_hinge_loss(outputs2, targets_low_2, targets_high_2)\n",
    "    loss_1_test = squared_hinge_loss(outputs1, targets_low_2, targets_high_2)\n",
    "    loss_2_test = squared_hinge_loss(outputs2, targets_low_1, targets_high_1)\n",
    "    \n",
    "    # Backward pass and optimization\n",
    "    optimizer1.zero_grad()\n",
    "    loss_1.backward()\n",
    "    optimizer1.step()\n",
    "\n",
    "    optimizer2.zero_grad()\n",
    "    loss_2.backward()\n",
    "    optimizer2.step()\n",
    "\n",
    "    # record\n",
    "    record_loss1_test.append(loss_1_test.item())\n",
    "    record_loss2_test.append(loss_2_test.item())\n",
    "\n",
    "    # save models\n",
    "    if loss_1_test < min_loss_1_test:\n",
    "        min_loss_1_test = loss_1_test\n",
    "        torch.save(model1.state_dict(), 'saved_models/model1_best.pth')\n",
    "    \n",
    "    if loss_2_test < min_loss_2_test:\n",
    "        min_loss_2_test = loss_2_test\n",
    "        torch.save(model2.state_dict(), 'saved_models/model2_best.pth')\n",
    "    \n",
    "    # Print the loss every 100 epochs\n",
    "    if (epoch) % 100 == 0:\n",
    "        print(f'Epoch {epoch:5d}, Loss_1: {loss_1.item():8.4f}, Loss_1_test: {loss_1_test.item():8.4f}, Loss_2: {loss_2.item():8.4f}, Loss_2_test: {loss_2_test.item():8.4f}')"
   ]
  },
  {
   "cell_type": "code",
   "execution_count": 8,
   "metadata": {},
   "outputs": [
    {
     "data": {
      "text/plain": [
       "MyModel(\n",
       "  (fc1): Linear(in_features=3, out_features=4, bias=True)\n",
       "  (fc2): Linear(in_features=4, out_features=1, bias=True)\n",
       ")"
      ]
     },
     "execution_count": 8,
     "metadata": {},
     "output_type": "execute_result"
    }
   ],
   "source": [
    "# Load model1\n",
    "model1 = MyModel(input_size=data.shape[1])\n",
    "model1.load_state_dict(torch.load('saved_models/model1_best.pth'))\n",
    "model1.eval()  # Set the model to evaluation mode\n",
    "\n",
    "# Load model2\n",
    "model2 = MyModel(input_size=data.shape[1])\n",
    "model2.load_state_dict(torch.load('saved_models/model2_best.pth'))\n",
    "model2.eval()  # Set the model to evaluation mode\n"
   ]
  },
  {
   "cell_type": "code",
   "execution_count": 9,
   "metadata": {},
   "outputs": [
    {
     "name": "stdout",
     "output_type": "stream",
     "text": [
      "loss for fold 2:  1.3113869428634644\n",
      "loss for fold 1:  1.047221064567566\n"
     ]
    }
   ],
   "source": [
    "print(\"loss for fold 2: \",squared_hinge_loss(model1(data), targets_low_2, targets_high_2).item())\n",
    "print(\"loss for fold 1: \",squared_hinge_loss(model2(data), targets_low_1, targets_high_1).item())"
   ]
  },
  {
   "cell_type": "code",
   "execution_count": 10,
   "metadata": {},
   "outputs": [],
   "source": [
    "with torch.no_grad():\n",
    "    ldas1 = model1(data).numpy().reshape(-1)\n",
    "    ldas2 = model2(data).numpy().reshape(-1)"
   ]
  },
  {
   "cell_type": "code",
   "execution_count": 11,
   "metadata": {},
   "outputs": [],
   "source": [
    "seqs   = gen_data_dict('sequence_label_data/signals.gz')\n",
    "labels = gen_data_dict('sequence_label_data/labels.gz')\n",
    "\n",
    "header = ['sequenceID', 'fold_1_total_labels', 'fold_2_total_labels', 'fold_1_errs', 'fold_2_errs']\n",
    "\n",
    "for i in range(len(seqs)):\n",
    "    # generate data\n",
    "    sequence, neg_start_1, neg_end_1, pos_start_1, pos_end_1, neg_start_2, neg_end_2, pos_start_2, pos_end_2 = get_data(i, seqs=seqs, labels=labels)\n",
    "    sequence_length = len(sequence)-1\n",
    "\n",
    "    # vectors of cumulative sums\n",
    "    y, z = get_cumsum(sequence)\n",
    "\n",
    "    # get total labels\n",
    "    fold1_total_labels = len(neg_start_1) + len(pos_start_1)\n",
    "    fold2_total_labels = len(neg_start_2) + len(pos_start_2)\n",
    "\n",
    "    # run each lambda and record it into csv file\n",
    "    row  = [i, fold1_total_labels, fold2_total_labels]\n",
    "\n",
    "    chpnt_fold1 = opart(10**ldas2[i], sequence, y, z)\n",
    "    chpnt_fold2 = opart(10**ldas1[i], sequence, y, z)\n",
    "\n",
    "    err_1 = error_count(chpnt_fold1, neg_start_1, neg_end_1, pos_start_1, pos_end_1)\n",
    "    err_2 = error_count(chpnt_fold2, neg_start_2, neg_end_2, pos_start_2, pos_end_2)\n",
    "    \n",
    "    row.append(sum(err_1))\n",
    "    row.append(sum(err_2))\n",
    "\n",
    "    write_to_csv('learning_output/deep_2.csv', header, row)"
   ]
  }
 ],
 "metadata": {
  "kernelspec": {
   "display_name": "Python 3",
   "language": "python",
   "name": "python3"
  },
  "language_info": {
   "codemirror_mode": {
    "name": "ipython",
    "version": 3
   },
   "file_extension": ".py",
   "mimetype": "text/x-python",
   "name": "python",
   "nbconvert_exporter": "python",
   "pygments_lexer": "ipython3",
   "version": "3.11.7"
  }
 },
 "nbformat": 4,
 "nbformat_minor": 2
}
