{
 "cells": [
  {
   "cell_type": "code",
   "execution_count": 1,
   "metadata": {},
   "outputs": [],
   "source": [
    "from ipynb.fs.full.utility_functions import gen_data_dict, get_data, error_count, write_to_csv, opart\n",
    "import ruptures as rpt"
   ]
  },
  {
   "cell_type": "code",
   "execution_count": 2,
   "metadata": {},
   "outputs": [],
   "source": [
    "seqs   = gen_data_dict('sequence_label_data/signals.gz')\n",
    "labels = gen_data_dict('sequence_label_data/labels.gz')"
   ]
  },
  {
   "cell_type": "code",
   "execution_count": 5,
   "metadata": {},
   "outputs": [
    {
     "name": "stdout",
     "output_type": "stream",
     "text": [
      "Sequence: 1 \t Mine: [187, 437, 460, 474] \t Pelt: [187, 437, 460, 474]\n",
      "Sequence: 2 \t Mine:            [86, 155] \t Pelt:            [86, 155]\n",
      "Sequence: 3 \t Mine:             [33, 79] \t Pelt:             [33, 79]\n",
      "Sequence: 4 \t Mine:            [71, 163] \t Pelt:            [71, 163]\n",
      "Sequence: 5 \t Mine:            [28, 118] \t Pelt:            [28, 118]\n",
      "Sequence: 6 \t Mine:           [105, 199] \t Pelt:           [105, 199]\n",
      "Sequence: 7 \t Mine:           [127, 188] \t Pelt:           [127, 188]\n",
      "Sequence: 8 \t Mine:                [256] \t Pelt:                [256]\n",
      "Sequence: 9 \t Mine:           [139, 223] \t Pelt:           [139, 223]\n",
      "Sequence:10 \t Mine:            [14, 170] \t Pelt:            [14, 170]\n"
     ]
    }
   ],
   "source": [
    "for i in range(10):\n",
    "    sequence, _, _, _, _, _, _, _, _ = get_data(i, seqs=seqs, labels=labels)\n",
    "    my_result = list(opart(1, sequence)[1:])\n",
    "    pelt_result = rpt.Pelt(model=\"l2\", min_size=1, jump=1).fit(sequence[1:]).predict(pen=1)\n",
    "    print(\"Sequence:%2s \\t Mine: %20s \\t Pelt: %20s\" % (i+1, my_result, pelt_result))"
   ]
  }
 ],
 "metadata": {
  "kernelspec": {
   "display_name": "Python 3",
   "language": "python",
   "name": "python3"
  },
  "language_info": {
   "codemirror_mode": {
    "name": "ipython",
    "version": 3
   },
   "file_extension": ".py",
   "mimetype": "text/x-python",
   "name": "python",
   "nbconvert_exporter": "python",
   "pygments_lexer": "ipython3",
   "version": "3.11.7"
  }
 },
 "nbformat": 4,
 "nbformat_minor": 2
}
